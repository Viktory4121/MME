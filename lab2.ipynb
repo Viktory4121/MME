{
  "nbformat": 4,
  "nbformat_minor": 0,
  "metadata": {
    "colab": {
      "provenance": [],
      "authorship_tag": "ABX9TyPXpXDQEs0T83kQwYL//xQR",
      "include_colab_link": true
    },
    "kernelspec": {
      "name": "python3",
      "display_name": "Python 3"
    },
    "language_info": {
      "name": "python"
    }
  },
  "cells": [
    {
      "cell_type": "markdown",
      "metadata": {
        "id": "view-in-github",
        "colab_type": "text"
      },
      "source": [
        "<a href=\"https://colab.research.google.com/github/Viktory4121/MME/blob/main/lab2.ipynb\" target=\"_parent\"><img src=\"https://colab.research.google.com/assets/colab-badge.svg\" alt=\"Open In Colab\"/></a>"
      ]
    },
    {
      "cell_type": "code",
      "execution_count": 1,
      "metadata": {
        "id": "YeS6qraGw6fu"
      },
      "outputs": [],
      "source": [
        "%load_ext rpy2.ipython"
      ]
    },
    {
      "cell_type": "markdown",
      "source": [
        "#Пункт 1"
      ],
      "metadata": {
        "id": "fIoaB_0WMWnH"
      }
    },
    {
      "cell_type": "code",
      "source": [
        "%%R\n",
        "library(datasets)\n",
        "data <- iris\n",
        "head(data)"
      ],
      "metadata": {
        "id": "uCPvB-jifFki",
        "outputId": "aa46fbac-f9da-4ea7-e6e6-97f5b904869b",
        "colab": {
          "base_uri": "https://localhost:8080/"
        }
      },
      "execution_count": 2,
      "outputs": [
        {
          "output_type": "stream",
          "name": "stdout",
          "text": [
            "  Sepal.Length Sepal.Width Petal.Length Petal.Width Species\n",
            "1          5.1         3.5          1.4         0.2  setosa\n",
            "2          4.9         3.0          1.4         0.2  setosa\n",
            "3          4.7         3.2          1.3         0.2  setosa\n",
            "4          4.6         3.1          1.5         0.2  setosa\n",
            "5          5.0         3.6          1.4         0.2  setosa\n",
            "6          5.4         3.9          1.7         0.4  setosa\n"
          ]
        }
      ]
    },
    {
      "cell_type": "markdown",
      "source": [
        "#Пункт 2"
      ],
      "metadata": {
        "id": "yTG-HOqqMZ33"
      }
    },
    {
      "cell_type": "code",
      "source": [
        "%%R\n",
        "#деление на тестовую и обучающую выборку\n",
        "index <- sample(1:nrow(data), nrow(data) * 0.8) \n",
        "test <- data[-c(index), ]\n",
        "train <- data[index, ]"
      ],
      "metadata": {
        "id": "Fk5aV-g2naiW"
      },
      "execution_count": 3,
      "outputs": []
    },
    {
      "cell_type": "code",
      "source": [
        "%%R\n",
        "#install.packages('dplyr')\n",
        "library(dplyr)"
      ],
      "metadata": {
        "id": "vp0Ipwedu_9G"
      },
      "execution_count": 7,
      "outputs": []
    },
    {
      "cell_type": "code",
      "source": [
        "%%R\n",
        "print(\"Кол-во строк в тестовой выборке:\")\n",
        "print(nrow(test))\n",
        "print(\"Кол-во столбцов в тестовой выборке:\")\n",
        "print(ncol(test))\n",
        "print(\"Кол-во объектов в каждом классе тестовой выборки:\")\n",
        "print(test %>% group_by(Species) %>% summarize(count = n()))\n",
        "print(\"или\")\n",
        "print(summary(test$Species))\n",
        "print(\"Кол-во пропущенных значений в тестовой выборке:\")\n",
        "print(sum(test == NA))\n",
        "print(\"Характеристика тестовой выборки:\")\n",
        "print(summary(test[,1:4], na.rm=TRUE))"
      ],
      "metadata": {
        "id": "0rkLc_Y6oKiD",
        "outputId": "d2dc53f9-b4c9-4ead-e394-f3de3a87b631",
        "colab": {
          "base_uri": "https://localhost:8080/"
        }
      },
      "execution_count": 21,
      "outputs": [
        {
          "output_type": "stream",
          "name": "stdout",
          "text": [
            "[1] \"Кол-во строк в тестовой выборке:\"\n",
            "[1] 30\n",
            "[1] \"Кол-во столбцов в тестовой выборке:\"\n",
            "[1] 5\n",
            "[1] \"Кол-во объектов в каждом классе тестовой выборки:\"\n",
            "# A tibble: 3 × 2\n",
            "  Species    count\n",
            "  <fct>      <int>\n",
            "1 setosa         7\n",
            "2 versicolor     7\n",
            "3 virginica     16\n",
            "[1] \"или\"\n",
            "    setosa versicolor  virginica \n",
            "         7          7         16 \n",
            "[1] \"Кол-во пропущенных значений в тестовой выборке:\"\n",
            "[1] NA\n",
            "[1] \"\"\n",
            "  Sepal.Length    Sepal.Width   Petal.Length   Petal.Width   \n",
            " Min.   :4.600   Min.   :2.2   Min.   :1.30   Min.   :0.100  \n",
            " 1st Qu.:5.250   1st Qu.:2.7   1st Qu.:3.90   1st Qu.:1.225  \n",
            " Median :5.900   Median :3.0   Median :4.85   Median :1.700  \n",
            " Mean   :5.927   Mean   :3.0   Mean   :4.24   Mean   :1.470  \n",
            " 3rd Qu.:6.375   3rd Qu.:3.2   3rd Qu.:5.25   3rd Qu.:2.000  \n",
            " Max.   :7.900   Max.   :3.8   Max.   :6.90   Max.   :2.500  \n"
          ]
        }
      ]
    },
    {
      "cell_type": "code",
      "source": [
        "%%R\n",
        "print(\"Кол-во строк в обучающей выборке:\")\n",
        "print(nrow(train))\n",
        "print(\"Кол-во столбцов в обучающей выборке:\")\n",
        "print(ncol(train))\n",
        "print(\"Кол-во объектов в каждом классе обучающей выборки:\")\n",
        "print(train %>% group_by(Species) %>% summarize(count = n()))\n",
        "print(\"или\")\n",
        "print(summary(train$Species))\n",
        "print(\"Кол-во пропущенных значений в обучающей выборке:\")\n",
        "print(sum(train == 'NA'))\n",
        "print(\"Характеристика обучающей выборки:\")\n",
        "print(summary(train[,1:4], na.rm=TRUE))"
      ],
      "metadata": {
        "id": "gaAQk0RZOra4",
        "outputId": "f8cb0e9c-1233-4b6f-88d7-f7b4ea2576e0",
        "colab": {
          "base_uri": "https://localhost:8080/"
        }
      },
      "execution_count": 28,
      "outputs": [
        {
          "output_type": "stream",
          "name": "stdout",
          "text": [
            "[1] \"Кол-во строк в обучающей выборке:\"\n",
            "[1] 120\n",
            "[1] \"Кол-во столбцов в обучающей выборке:\"\n",
            "[1] 5\n",
            "[1] \"Кол-во объектов в каждом классе обучающей выборки:\"\n",
            "# A tibble: 3 × 2\n",
            "  Species    count\n",
            "  <fct>      <int>\n",
            "1 setosa        43\n",
            "2 versicolor    43\n",
            "3 virginica     34\n",
            "[1] \"или\"\n",
            "    setosa versicolor  virginica \n",
            "        43         43         34 \n",
            "[1] \"Кол-во пропущенных значений в обучающей выборке:\"\n",
            "[1] 0\n",
            "[1] \"Характеристика обучающей выборки:\"\n",
            "  Sepal.Length    Sepal.Width     Petal.Length    Petal.Width   \n",
            " Min.   :4.300   Min.   :2.000   Min.   :1.000   Min.   :0.100  \n",
            " 1st Qu.:5.100   1st Qu.:2.800   1st Qu.:1.500   1st Qu.:0.200  \n",
            " Median :5.700   Median :3.000   Median :4.200   Median :1.300  \n",
            " Mean   :5.822   Mean   :3.072   Mean   :3.638   Mean   :1.132  \n",
            " 3rd Qu.:6.400   3rd Qu.:3.400   3rd Qu.:5.100   3rd Qu.:1.800  \n",
            " Max.   :7.700   Max.   :4.400   Max.   :6.700   Max.   :2.500  \n"
          ]
        }
      ]
    },
    {
      "cell_type": "markdown",
      "source": [
        "#Пункт 3"
      ],
      "metadata": {
        "id": "YwSJ3_ZAPTSV"
      }
    },
    {
      "cell_type": "code",
      "source": [
        "%%R\n",
        "#install.packages('e1071')\n",
        "#install.packages('caret')\n",
        "library(e1071)\n",
        "library(caret)"
      ],
      "metadata": {
        "id": "ZveUJCdUO7BD"
      },
      "execution_count": 38,
      "outputs": []
    },
    {
      "cell_type": "code",
      "source": [
        "%%R\n",
        "model <- naiveBayes(Species ~ ., data = train)\n",
        "model"
      ],
      "metadata": {
        "id": "yPCzuBLnQyrA",
        "outputId": "3b10d4f1-4c2c-4d7f-bbef-c0beba393353",
        "colab": {
          "base_uri": "https://localhost:8080/"
        }
      },
      "execution_count": 51,
      "outputs": [
        {
          "output_type": "stream",
          "name": "stdout",
          "text": [
            "\n",
            "Naive Bayes Classifier for Discrete Predictors\n",
            "\n",
            "Call:\n",
            "naiveBayes.default(x = X, y = Y, laplace = laplace)\n",
            "\n",
            "A-priori probabilities:\n",
            "Y\n",
            "    setosa versicolor  virginica \n",
            " 0.3583333  0.3583333  0.2833333 \n",
            "\n",
            "Conditional probabilities:\n",
            "            Sepal.Length\n",
            "Y                [,1]      [,2]\n",
            "  setosa     5.018605 0.3743285\n",
            "  versicolor 5.955814 0.5229506\n",
            "  virginica  6.670588 0.6072938\n",
            "\n",
            "            Sepal.Width\n",
            "Y                [,1]      [,2]\n",
            "  setosa     3.434884 0.4017128\n",
            "  versicolor 2.769767 0.3327625\n",
            "  virginica  2.994118 0.3014522\n",
            "\n",
            "            Petal.Length\n",
            "Y                [,1]      [,2]\n",
            "  setosa     1.460465 0.1827561\n",
            "  versicolor 4.248837 0.4782767\n",
            "  virginica  5.617647 0.5184304\n",
            "\n",
            "            Petal.Width\n",
            "Y                 [,1]       [,2]\n",
            "  setosa     0.2395349 0.09034203\n",
            "  versicolor 1.3186047 0.20616200\n",
            "  virginica  2.0235294 0.28821165\n",
            "\n"
          ]
        }
      ]
    },
    {
      "cell_type": "markdown",
      "source": [
        "#Пункт 4"
      ],
      "metadata": {
        "id": "xTbPfeDAUXuH"
      }
    },
    {
      "cell_type": "code",
      "source": [
        "%%R\n",
        "pr_train <- predict(model, train)\n",
        "tab_train <- table(predict(model, train), train$Species)\n",
        "print(pr_train)\n",
        "print(tab_train)"
      ],
      "metadata": {
        "id": "1W2Q32UUUZYv",
        "outputId": "58ffeb3f-4887-4453-b11b-400b90574d22",
        "colab": {
          "base_uri": "https://localhost:8080/"
        }
      },
      "execution_count": 52,
      "outputs": [
        {
          "output_type": "stream",
          "name": "stdout",
          "text": [
            "  [1] virginica  versicolor versicolor virginica  virginica  versicolor\n",
            "  [7] setosa     setosa     versicolor versicolor versicolor setosa    \n",
            " [13] virginica  virginica  setosa     versicolor versicolor versicolor\n",
            " [19] setosa     setosa     versicolor setosa     virginica  virginica \n",
            " [25] virginica  virginica  setosa     setosa     virginica  virginica \n",
            " [31] versicolor versicolor versicolor versicolor versicolor versicolor\n",
            " [37] versicolor virginica  setosa     virginica  setosa     versicolor\n",
            " [43] virginica  setosa     virginica  virginica  setosa     virginica \n",
            " [49] virginica  versicolor versicolor setosa     setosa     setosa    \n",
            " [55] virginica  virginica  setosa     versicolor versicolor virginica \n",
            " [61] versicolor versicolor versicolor setosa     setosa     setosa    \n",
            " [67] virginica  versicolor setosa     setosa     setosa     setosa    \n",
            " [73] versicolor versicolor versicolor setosa     virginica  virginica \n",
            " [79] virginica  versicolor setosa     versicolor versicolor setosa    \n",
            " [85] setosa     setosa     setosa     setosa     versicolor virginica \n",
            " [91] setosa     virginica  setosa     versicolor versicolor setosa    \n",
            " [97] virginica  versicolor setosa     setosa     setosa     virginica \n",
            "[103] setosa     versicolor virginica  setosa     versicolor virginica \n",
            "[109] versicolor versicolor virginica  setosa     versicolor versicolor\n",
            "[115] setosa     versicolor virginica  setosa     versicolor setosa    \n",
            "Levels: setosa versicolor virginica\n",
            "            \n",
            "             setosa versicolor virginica\n",
            "  setosa         43          0         0\n",
            "  versicolor      0         41         3\n",
            "  virginica       0          2        31\n"
          ]
        }
      ]
    },
    {
      "cell_type": "code",
      "source": [
        "%%R\n",
        "pr_test <- predict(model, test)\n",
        "tab_test <- table(predict(model, test), test$Species)\n",
        "print(pr_test)\n",
        "print(tab_test)"
      ],
      "metadata": {
        "id": "BCIEhVbCUznz",
        "outputId": "85ca994c-b575-47ea-a1d9-6b3b78cd9c75",
        "colab": {
          "base_uri": "https://localhost:8080/"
        }
      },
      "execution_count": 53,
      "outputs": [
        {
          "output_type": "stream",
          "name": "stdout",
          "text": [
            " [1] setosa     setosa     setosa     setosa     setosa     setosa    \n",
            " [7] setosa     versicolor versicolor versicolor versicolor versicolor\n",
            "[13] versicolor versicolor virginica  virginica  virginica  virginica \n",
            "[19] virginica  virginica  virginica  versicolor virginica  virginica \n",
            "[25] virginica  virginica  virginica  virginica  virginica  virginica \n",
            "Levels: setosa versicolor virginica\n",
            "            \n",
            "             setosa versicolor virginica\n",
            "  setosa          7          0         0\n",
            "  versicolor      0          7         1\n",
            "  virginica       0          0        15\n"
          ]
        }
      ]
    },
    {
      "cell_type": "code",
      "source": [
        "%%R\n"
      ],
      "metadata": {
        "id": "GsQMozu6VDAE"
      },
      "execution_count": null,
      "outputs": []
    }
  ]
}