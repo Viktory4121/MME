{
  "nbformat": 4,
  "nbformat_minor": 0,
  "metadata": {
    "colab": {
      "provenance": [],
      "authorship_tag": "ABX9TyNrwX7HHBM/svxtqWo1zLxq",
      "include_colab_link": true
    },
    "kernelspec": {
      "name": "ir",
      "display_name": "R"
    },
    "language_info": {
      "name": "R"
    }
  },
  "cells": [
    {
      "cell_type": "markdown",
      "metadata": {
        "id": "view-in-github",
        "colab_type": "text"
      },
      "source": [
        "<a href=\"https://colab.research.google.com/github/Viktory4121/MME/blob/main/Untitled4.ipynb\" target=\"_parent\"><img src=\"https://colab.research.google.com/assets/colab-badge.svg\" alt=\"Open In Colab\"/></a>"
      ]
    },
    {
      "cell_type": "markdown",
      "source": [
        "#1"
      ],
      "metadata": {
        "id": "iip_e0QFOMk8"
      }
    },
    {
      "cell_type": "code",
      "execution_count": 43,
      "metadata": {
        "colab": {
          "base_uri": "https://localhost:8080/",
          "height": 286
        },
        "id": "CsMke_DdNsdd",
        "outputId": "ec5ee613-957e-45ea-ad1d-dee2408be455"
      },
      "outputs": [
        {
          "output_type": "display_data",
          "data": {
            "text/html": [
              "<table class=\"dataframe\">\n",
              "<caption>A data.frame: 6 × 5</caption>\n",
              "<thead>\n",
              "\t<tr><th></th><th scope=col>Sepal.Length</th><th scope=col>Sepal.Width</th><th scope=col>Petal.Length</th><th scope=col>Petal.Width</th><th scope=col>Species</th></tr>\n",
              "\t<tr><th></th><th scope=col>&lt;dbl&gt;</th><th scope=col>&lt;dbl&gt;</th><th scope=col>&lt;dbl&gt;</th><th scope=col>&lt;dbl&gt;</th><th scope=col>&lt;fct&gt;</th></tr>\n",
              "</thead>\n",
              "<tbody>\n",
              "\t<tr><th scope=row>1</th><td>5.1</td><td>3.5</td><td>1.4</td><td>0.2</td><td>setosa</td></tr>\n",
              "\t<tr><th scope=row>2</th><td>4.9</td><td>3.0</td><td>1.4</td><td>0.2</td><td>setosa</td></tr>\n",
              "\t<tr><th scope=row>3</th><td>4.7</td><td>3.2</td><td>1.3</td><td>0.2</td><td>setosa</td></tr>\n",
              "\t<tr><th scope=row>4</th><td>4.6</td><td>3.1</td><td>1.5</td><td>0.2</td><td>setosa</td></tr>\n",
              "\t<tr><th scope=row>5</th><td>5.0</td><td>3.6</td><td>1.4</td><td>0.2</td><td>setosa</td></tr>\n",
              "\t<tr><th scope=row>6</th><td>5.4</td><td>3.9</td><td>1.7</td><td>0.4</td><td>setosa</td></tr>\n",
              "</tbody>\n",
              "</table>\n"
            ],
            "text/markdown": "\nA data.frame: 6 × 5\n\n| <!--/--> | Sepal.Length &lt;dbl&gt; | Sepal.Width &lt;dbl&gt; | Petal.Length &lt;dbl&gt; | Petal.Width &lt;dbl&gt; | Species &lt;fct&gt; |\n|---|---|---|---|---|---|\n| 1 | 5.1 | 3.5 | 1.4 | 0.2 | setosa |\n| 2 | 4.9 | 3.0 | 1.4 | 0.2 | setosa |\n| 3 | 4.7 | 3.2 | 1.3 | 0.2 | setosa |\n| 4 | 4.6 | 3.1 | 1.5 | 0.2 | setosa |\n| 5 | 5.0 | 3.6 | 1.4 | 0.2 | setosa |\n| 6 | 5.4 | 3.9 | 1.7 | 0.4 | setosa |\n\n",
            "text/latex": "A data.frame: 6 × 5\n\\begin{tabular}{r|lllll}\n  & Sepal.Length & Sepal.Width & Petal.Length & Petal.Width & Species\\\\\n  & <dbl> & <dbl> & <dbl> & <dbl> & <fct>\\\\\n\\hline\n\t1 & 5.1 & 3.5 & 1.4 & 0.2 & setosa\\\\\n\t2 & 4.9 & 3.0 & 1.4 & 0.2 & setosa\\\\\n\t3 & 4.7 & 3.2 & 1.3 & 0.2 & setosa\\\\\n\t4 & 4.6 & 3.1 & 1.5 & 0.2 & setosa\\\\\n\t5 & 5.0 & 3.6 & 1.4 & 0.2 & setosa\\\\\n\t6 & 5.4 & 3.9 & 1.7 & 0.4 & setosa\\\\\n\\end{tabular}\n",
            "text/plain": [
              "  Sepal.Length Sepal.Width Petal.Length Petal.Width Species\n",
              "1 5.1          3.5         1.4          0.2         setosa \n",
              "2 4.9          3.0         1.4          0.2         setosa \n",
              "3 4.7          3.2         1.3          0.2         setosa \n",
              "4 4.6          3.1         1.5          0.2         setosa \n",
              "5 5.0          3.6         1.4          0.2         setosa \n",
              "6 5.4          3.9         1.7          0.4         setosa "
            ]
          },
          "metadata": {}
        }
      ],
      "source": [
        "library(datasets)\n",
        "data <- iris\n",
        "head(data)\n",
        "\n",
        "coding_categ_data <- function(data) {\n",
        "  new_data <- transform(data, Species = as.numeric(as.factor(Species)))\n",
        "  return(new_data)\n",
        "}\n",
        "cdata <- coding_categ_data(data)"
      ]
    },
    {
      "cell_type": "markdown",
      "source": [
        "#2"
      ],
      "metadata": {
        "id": "TBRQYwQEORVI"
      }
    },
    {
      "cell_type": "code",
      "source": [
        "index <- sample(1:nrow(data), nrow(data) * 0.8) \n",
        "test <- data[-c(index), ]\n",
        "train <- data[index, ]"
      ],
      "metadata": {
        "id": "OsfCYqBkN_-K"
      },
      "execution_count": 102,
      "outputs": []
    },
    {
      "cell_type": "code",
      "source": [
        "library(dplyr)"
      ],
      "metadata": {
        "colab": {
          "base_uri": "https://localhost:8080/"
        },
        "id": "G5ldqn42OVHP",
        "outputId": "7e3b64a7-030a-493a-b708-621225c46ccc"
      },
      "execution_count": 3,
      "outputs": [
        {
          "output_type": "stream",
          "name": "stderr",
          "text": [
            "\n",
            "Attaching package: ‘dplyr’\n",
            "\n",
            "\n",
            "The following objects are masked from ‘package:stats’:\n",
            "\n",
            "    filter, lag\n",
            "\n",
            "\n",
            "The following objects are masked from ‘package:base’:\n",
            "\n",
            "    intersect, setdiff, setequal, union\n",
            "\n",
            "\n"
          ]
        }
      ]
    },
    {
      "cell_type": "code",
      "source": [
        "print(\"Кол-во строк в тестовой выборке:\")\n",
        "print(nrow(test))\n",
        "print(\"Кол-во столбцов в тестовой выборке:\")\n",
        "print(ncol(test))\n",
        "print(\"Кол-во объектов в каждом классе тестовой выборки:\")\n",
        "print(test %>% group_by(Species) %>% summarize(count = n()))\n",
        "print(\"или\")\n",
        "print(summary(test$Species))\n",
        "print(\"Кол-во пропущенных значений в тестовой выборке:\")\n",
        "print(sum(test == NA))\n",
        "print(\"Характеристика тестовой выборки:\")\n",
        "print(summary(test[,1:4], na.rm=TRUE))"
      ],
      "metadata": {
        "colab": {
          "base_uri": "https://localhost:8080/"
        },
        "id": "AbTToxPIOZ1B",
        "outputId": "664c61e4-5f4e-4674-ced4-a5b0d252f59d"
      },
      "execution_count": 103,
      "outputs": [
        {
          "output_type": "stream",
          "name": "stdout",
          "text": [
            "[1] \"Кол-во строк в тестовой выборке:\"\n",
            "[1] 30\n",
            "[1] \"Кол-во столбцов в тестовой выборке:\"\n",
            "[1] 5\n",
            "[1] \"Кол-во объектов в каждом классе тестовой выборки:\"\n",
            "\u001b[90m# A tibble: 3 × 2\u001b[39m\n",
            "  Species    count\n",
            "  \u001b[3m\u001b[90m<fct>\u001b[39m\u001b[23m      \u001b[3m\u001b[90m<int>\u001b[39m\u001b[23m\n",
            "\u001b[90m1\u001b[39m setosa        11\n",
            "\u001b[90m2\u001b[39m versicolor     7\n",
            "\u001b[90m3\u001b[39m virginica     12\n",
            "[1] \"или\"\n",
            "    setosa versicolor  virginica \n",
            "        11          7         12 \n",
            "[1] \"Кол-во пропущенных значений в тестовой выборке:\"\n",
            "[1] NA\n",
            "[1] \"Характеристика тестовой выборки:\"\n",
            "  Sepal.Length    Sepal.Width     Petal.Length    Petal.Width  \n",
            " Min.   :4.300   Min.   :2.000   Min.   :1.100   Min.   :0.10  \n",
            " 1st Qu.:5.100   1st Qu.:2.900   1st Qu.:1.525   1st Qu.:0.30  \n",
            " Median :5.900   Median :3.000   Median :4.400   Median :1.40  \n",
            " Mean   :5.880   Mean   :3.087   Mean   :3.767   Mean   :1.19  \n",
            " 3rd Qu.:6.475   3rd Qu.:3.400   3rd Qu.:5.575   3rd Qu.:1.80  \n",
            " Max.   :7.700   Max.   :4.000   Max.   :6.700   Max.   :2.30  \n"
          ]
        }
      ]
    },
    {
      "cell_type": "code",
      "source": [
        "print(\"Кол-во строк в обучающей выборке:\")\n",
        "print(nrow(train))\n",
        "print(\"Кол-во столбцов в обучающей выборке:\")\n",
        "print(ncol(train))\n",
        "print(\"Кол-во объектов в каждом классе обучающей выборки:\")\n",
        "print(train %>% group_by(Species) %>% summarize(count = n()))\n",
        "print(\"или\")\n",
        "print(summary(train$Species))\n",
        "print(\"Кол-во пропущенных значений в обучающей выборке:\")\n",
        "print(sum(train == NA))\n",
        "print(\"Характеристика обучающей выборки:\")\n",
        "print(summary(train[,1:4], na.rm=TRUE))"
      ],
      "metadata": {
        "colab": {
          "base_uri": "https://localhost:8080/"
        },
        "id": "P9ADj2JHOc-n",
        "outputId": "54573c32-caba-4853-a6be-cf07ca3f59eb"
      },
      "execution_count": 104,
      "outputs": [
        {
          "output_type": "stream",
          "name": "stdout",
          "text": [
            "[1] \"Кол-во строк в обучающей выборке:\"\n",
            "[1] 120\n",
            "[1] \"Кол-во столбцов в обучающей выборке:\"\n",
            "[1] 5\n",
            "[1] \"Кол-во объектов в каждом классе обучающей выборки:\"\n",
            "\u001b[90m# A tibble: 3 × 2\u001b[39m\n",
            "  Species    count\n",
            "  \u001b[3m\u001b[90m<fct>\u001b[39m\u001b[23m      \u001b[3m\u001b[90m<int>\u001b[39m\u001b[23m\n",
            "\u001b[90m1\u001b[39m setosa        39\n",
            "\u001b[90m2\u001b[39m versicolor    43\n",
            "\u001b[90m3\u001b[39m virginica     38\n",
            "[1] \"или\"\n",
            "    setosa versicolor  virginica \n",
            "        39         43         38 \n",
            "[1] \"Кол-во пропущенных значений в обучающей выборке:\"\n",
            "[1] NA\n",
            "[1] \"Характеристика обучающей выборки:\"\n",
            "  Sepal.Length    Sepal.Width    Petal.Length    Petal.Width   \n",
            " Min.   :4.400   Min.   :2.20   Min.   :1.000   Min.   :0.100  \n",
            " 1st Qu.:5.100   1st Qu.:2.80   1st Qu.:1.600   1st Qu.:0.300  \n",
            " Median :5.750   Median :3.00   Median :4.350   Median :1.300  \n",
            " Mean   :5.834   Mean   :3.05   Mean   :3.756   Mean   :1.202  \n",
            " 3rd Qu.:6.400   3rd Qu.:3.30   3rd Qu.:5.100   3rd Qu.:1.800  \n",
            " Max.   :7.900   Max.   :4.40   Max.   :6.900   Max.   :2.500  \n"
          ]
        }
      ]
    },
    {
      "cell_type": "markdown",
      "source": [
        "#3"
      ],
      "metadata": {
        "id": "iXGLFK6KOjJ3"
      }
    },
    {
      "cell_type": "code",
      "source": [
        "#install.packages(\"e1071\")\n",
        "#install.packages(\"caret\")\n",
        "library(e1071)\n",
        "library(caret)"
      ],
      "metadata": {
        "colab": {
          "base_uri": "https://localhost:8080/"
        },
        "id": "i5dGQlMtOgQR",
        "outputId": "f99d420a-4fe2-4bb2-e387-cf4b36da447b"
      },
      "execution_count": 7,
      "outputs": [
        {
          "output_type": "stream",
          "name": "stderr",
          "text": [
            "Installing package into ‘/usr/local/lib/R/site-library’\n",
            "(as ‘lib’ is unspecified)\n",
            "\n",
            "also installing the dependency ‘proxy’\n",
            "\n",
            "\n",
            "Installing package into ‘/usr/local/lib/R/site-library’\n",
            "(as ‘lib’ is unspecified)\n",
            "\n",
            "also installing the dependencies ‘listenv’, ‘parallelly’, ‘future’, ‘globals’, ‘future.apply’, ‘numDeriv’, ‘progressr’, ‘SQUAREM’, ‘lava’, ‘prodlim’, ‘iterators’, ‘Rcpp’, ‘clock’, ‘gower’, ‘hardhat’, ‘ipred’, ‘timeDate’, ‘foreach’, ‘ModelMetrics’, ‘plyr’, ‘pROC’, ‘recipes’, ‘reshape2’\n",
            "\n",
            "\n",
            "Loading required package: ggplot2\n",
            "\n",
            "Loading required package: lattice\n",
            "\n",
            "Warning message in system(\"timedatectl\", intern = TRUE):\n",
            "“running command 'timedatectl' had status 1”\n"
          ]
        }
      ]
    },
    {
      "cell_type": "code",
      "source": [
        "model <- naiveBayes(Species ~ ., data = train)\n",
        "model"
      ],
      "metadata": {
        "colab": {
          "base_uri": "https://localhost:8080/",
          "height": 655
        },
        "id": "ipP81CYjOofn",
        "outputId": "9cd6a6da-d168-4c67-f899-b6d0ea532fcf"
      },
      "execution_count": 105,
      "outputs": [
        {
          "output_type": "display_data",
          "data": {
            "text/plain": [
              "\n",
              "Naive Bayes Classifier for Discrete Predictors\n",
              "\n",
              "Call:\n",
              "naiveBayes.default(x = X, y = Y, laplace = laplace)\n",
              "\n",
              "A-priori probabilities:\n",
              "Y\n",
              "    setosa versicolor  virginica \n",
              " 0.3250000  0.3583333  0.3166667 \n",
              "\n",
              "Conditional probabilities:\n",
              "            Sepal.Length\n",
              "Y                [,1]      [,2]\n",
              "  setosa     4.992308 0.3382498\n",
              "  versicolor 5.969767 0.5230564\n",
              "  virginica  6.544737 0.6797048\n",
              "\n",
              "            Sepal.Width\n",
              "Y                [,1]      [,2]\n",
              "  setosa     3.417949 0.3946163\n",
              "  versicolor 2.793023 0.2746386\n",
              "  virginica  2.963158 0.3182902\n",
              "\n",
              "            Petal.Length\n",
              "Y                [,1]      [,2]\n",
              "  setosa     1.471795 0.1761410\n",
              "  versicolor 4.272093 0.4861538\n",
              "  virginica  5.515789 0.5673677\n",
              "\n",
              "            Petal.Width\n",
              "Y                 [,1]      [,2]\n",
              "  setosa     0.2461538 0.1096553\n",
              "  versicolor 1.3232558 0.1986109\n",
              "  virginica  2.0447368 0.2910348\n"
            ]
          },
          "metadata": {}
        }
      ]
    },
    {
      "cell_type": "markdown",
      "source": [
        "#4"
      ],
      "metadata": {
        "id": "0Kx0gS8nOyCx"
      }
    },
    {
      "cell_type": "code",
      "source": [
        "pr_train <- predict(model, train)\n",
        "tab_train <- table(predict(model, train), train$Species)\n",
        "#print(pr_train)\n",
        "print(tab_train)"
      ],
      "metadata": {
        "colab": {
          "base_uri": "https://localhost:8080/"
        },
        "id": "oi-CelBWOsFY",
        "outputId": "550c23f6-6d4a-42bb-93e3-87d2596efe80"
      },
      "execution_count": 155,
      "outputs": [
        {
          "output_type": "stream",
          "name": "stdout",
          "text": [
            "            \n",
            "             setosa versicolor virginica\n",
            "  setosa         39          0         0\n",
            "  versicolor      0         41         4\n",
            "  virginica       0          2        34\n"
          ]
        }
      ]
    },
    {
      "cell_type": "code",
      "source": [
        "class_charact <- function(table, num_factor){\n",
        "  SE <- table[num_factor, num_factor] / (sum(table[, num_factor]))\n",
        "  SP_ch <- 0\n",
        "  SP_zn <- 0\n",
        "  for (i in 1:ncol(table)){\n",
        "    if (i != num_factor){\n",
        "      SP_ch <- SP_ch + table[i, 1]\n",
        "      SP_zn <- SP_zn + sum(table[i, ])\n",
        "    }\n",
        "  }\n",
        "  SP <- SP_ch / SP_zn\n",
        "  AC = sum(diag(table)) / sum(colSums(table))\n",
        "\n",
        "  m <- matrix(c(SE, SP, AC), ncol=3, byrow=TRUE)\n",
        "  colnames(m) <- c('Чувствительность','Специфичность','Точность')\n",
        "  rezult <- as.table(m)\n",
        "  print(rezult)\n",
        "}"
      ],
      "metadata": {
        "id": "IEhl3dkEn1zu"
      },
      "execution_count": 146,
      "outputs": []
    },
    {
      "cell_type": "code",
      "source": [
        "print(\"Для обучающей выборки\")\n",
        "print(\"Класс setosa:\")\n",
        "class_charact(tab_train, 1)\n",
        "print(\"---------------\")\n",
        "print(\"Класс versicolor:\")\n",
        "class_charact(tab_train, 2)\n",
        "print(\"---------------\")\n",
        "print(\"Класс virginica:\")\n",
        "class_charact(tab_train, 3)"
      ],
      "metadata": {
        "colab": {
          "base_uri": "https://localhost:8080/"
        },
        "id": "7HfqEazq9jmC",
        "outputId": "bd248ee8-beb3-4cb6-eb1b-5a0020ba96bf"
      },
      "execution_count": 147,
      "outputs": [
        {
          "output_type": "stream",
          "name": "stdout",
          "text": [
            "[1] \"Для обучающей выборки\"\n",
            "[1] \"Класс setosa:\"\n",
            "  Чувствительность Специфичность Точность\n",
            "A             1.00          0.00     0.95\n",
            "[1] \"---------------\"\n",
            "[1] \"Класс versicolor:\"\n",
            "  Чувствительность Специфичность  Точность\n",
            "A        0.9534884     0.5200000 0.9500000\n",
            "[1] \"---------------\"\n",
            "[1] \"Класс virginica:\"\n",
            "  Чувствительность Специфичность  Точность\n",
            "A        0.8947368     0.4642857 0.9500000\n"
          ]
        }
      ]
    },
    {
      "cell_type": "code",
      "source": [
        "pr_test <- predict(model, test)\n",
        "tab_test <- table(predict(model, test), test$Species)\n",
        "#print(pr_test)\n",
        "print(tab_test)"
      ],
      "metadata": {
        "colab": {
          "base_uri": "https://localhost:8080/"
        },
        "id": "MeE36uz7O3Kt",
        "outputId": "c0632477-4c47-4db0-fe17-6fb8d93e5c7c"
      },
      "execution_count": 156,
      "outputs": [
        {
          "output_type": "stream",
          "name": "stdout",
          "text": [
            "            \n",
            "             setosa versicolor virginica\n",
            "  setosa         11          0         0\n",
            "  versicolor      0          7         0\n",
            "  virginica       0          0        12\n"
          ]
        }
      ]
    },
    {
      "cell_type": "code",
      "source": [
        "print(\"Для тестовой выборки\")\n",
        "print(\"Класс setosa:\")\n",
        "class_charact(tab_test, 1)\n",
        "print(\"---------------\")\n",
        "print(\"Класс versicolor:\")\n",
        "class_charact(tab_test, 2)\n",
        "print(\"---------------\")\n",
        "print(\"Класс virginica:\")\n",
        "class_charact(tab_test, 3)"
      ],
      "metadata": {
        "colab": {
          "base_uri": "https://localhost:8080/"
        },
        "id": "SIJ4Rztf-gKm",
        "outputId": "ed476e97-a09b-4059-e26e-22b35dffe29a"
      },
      "execution_count": 149,
      "outputs": [
        {
          "output_type": "stream",
          "name": "stdout",
          "text": [
            "[1] \"Для тестовой выборки\"\n",
            "[1] \"Класс setosa:\"\n",
            "  Чувствительность Специфичность Точность\n",
            "A                1             0        1\n",
            "[1] \"---------------\"\n",
            "[1] \"Класс versicolor:\"\n",
            "  Чувствительность Специфичность  Точность\n",
            "A        1.0000000     0.4782609 1.0000000\n",
            "[1] \"---------------\"\n",
            "[1] \"Класс virginica:\"\n",
            "  Чувствительность Специфичность  Точность\n",
            "A        1.0000000     0.6111111 1.0000000\n"
          ]
        }
      ]
    },
    {
      "cell_type": "markdown",
      "source": [
        "#5"
      ],
      "metadata": {
        "id": "sCO_2_hSAz7j"
      }
    },
    {
      "cell_type": "code",
      "source": [
        "test2 <- test[, c(\"Petal.Length\",\t\"Petal.Width\", \"Species\")]\n",
        "train2 <- train[, c(\"Petal.Length\",\t\"Petal.Width\", \"Species\")]\n",
        "model2 <- naiveBayes(Species ~ ., data = train2)\n",
        "model2"
      ],
      "metadata": {
        "id": "b8rpPLi5A45h",
        "outputId": "227e0a17-58ef-4cc1-dd4b-f26f2d4cc2f4",
        "colab": {
          "base_uri": "https://localhost:8080/",
          "height": 436
        }
      },
      "execution_count": 150,
      "outputs": [
        {
          "output_type": "display_data",
          "data": {
            "text/plain": [
              "\n",
              "Naive Bayes Classifier for Discrete Predictors\n",
              "\n",
              "Call:\n",
              "naiveBayes.default(x = X, y = Y, laplace = laplace)\n",
              "\n",
              "A-priori probabilities:\n",
              "Y\n",
              "    setosa versicolor  virginica \n",
              " 0.3250000  0.3583333  0.3166667 \n",
              "\n",
              "Conditional probabilities:\n",
              "            Petal.Length\n",
              "Y                [,1]      [,2]\n",
              "  setosa     1.471795 0.1761410\n",
              "  versicolor 4.272093 0.4861538\n",
              "  virginica  5.515789 0.5673677\n",
              "\n",
              "            Petal.Width\n",
              "Y                 [,1]      [,2]\n",
              "  setosa     0.2461538 0.1096553\n",
              "  versicolor 1.3232558 0.1986109\n",
              "  virginica  2.0447368 0.2910348\n"
            ]
          },
          "metadata": {}
        }
      ]
    },
    {
      "cell_type": "code",
      "source": [
        "pr_train2 <- predict(model2, train2)\n",
        "tab_train2 <- table(predict(model2, train2), train2$Species)\n",
        "print(tab_train2)"
      ],
      "metadata": {
        "colab": {
          "base_uri": "https://localhost:8080/"
        },
        "id": "qyVziOUEMo3Z",
        "outputId": "f033ebe9-a00f-433b-a457-e0507f22669e"
      },
      "execution_count": 151,
      "outputs": [
        {
          "output_type": "stream",
          "name": "stdout",
          "text": [
            "            \n",
            "             setosa versicolor virginica\n",
            "  setosa         39          0         0\n",
            "  versicolor      0         40         3\n",
            "  virginica       0          3        35\n"
          ]
        }
      ]
    },
    {
      "cell_type": "code",
      "source": [
        "print(\"Для обучающей выборки\")\n",
        "print(\"Класс setosa:\")\n",
        "class_charact(tab_train2, 1)\n",
        "print(\"---------------\")\n",
        "print(\"Класс versicolor:\")\n",
        "class_charact(tab_train2, 2)\n",
        "print(\"---------------\")\n",
        "print(\"Класс virginica:\")\n",
        "class_charact(tab_train2, 3)"
      ],
      "metadata": {
        "id": "WAL9v6x2CrR6",
        "outputId": "ac6dba77-3579-4590-9661-74a8b3d3cf49",
        "colab": {
          "base_uri": "https://localhost:8080/"
        }
      },
      "execution_count": 152,
      "outputs": [
        {
          "output_type": "stream",
          "name": "stdout",
          "text": [
            "[1] \"Для обучающей выборки\"\n",
            "[1] \"Класс setosa:\"\n",
            "  Чувствительность Специфичность Точность\n",
            "A             1.00          0.00     0.95\n",
            "[1] \"---------------\"\n",
            "[1] \"Класс versicolor:\"\n",
            "  Чувствительность Специфичность  Точность\n",
            "A        0.9302326     0.5064935 0.9500000\n",
            "[1] \"---------------\"\n",
            "[1] \"Класс virginica:\"\n",
            "  Чувствительность Специфичность  Точность\n",
            "A        0.9210526     0.4756098 0.9500000\n"
          ]
        }
      ]
    },
    {
      "cell_type": "code",
      "source": [
        "pr_test2 <- predict(model2, test2)\n",
        "tab_test2 <- table(predict(model2, test2), test2$Species)\n",
        "print(tab_test2)"
      ],
      "metadata": {
        "id": "tXqMw0m8C4Ui",
        "outputId": "bf73adc4-1d88-4be5-e335-402a39ab52be",
        "colab": {
          "base_uri": "https://localhost:8080/"
        }
      },
      "execution_count": 153,
      "outputs": [
        {
          "output_type": "stream",
          "name": "stdout",
          "text": [
            "            \n",
            "             setosa versicolor virginica\n",
            "  setosa         11          0         0\n",
            "  versicolor      0          7         0\n",
            "  virginica       0          0        12\n"
          ]
        }
      ]
    },
    {
      "cell_type": "code",
      "source": [
        "print(\"Для тестовой выборки\")\n",
        "print(\"Класс setosa:\")\n",
        "class_charact(tab_test2, 1)\n",
        "print(\"---------------\")\n",
        "print(\"Класс versicolor:\")\n",
        "class_charact(tab_test2, 2)\n",
        "print(\"---------------\")\n",
        "print(\"Класс virginica:\")\n",
        "class_charact(tab_test2, 3)"
      ],
      "metadata": {
        "id": "m0tQnmJnDAIm",
        "outputId": "09da04bf-e149-4aaa-a5ca-e9aacdf5e5c3",
        "colab": {
          "base_uri": "https://localhost:8080/"
        }
      },
      "execution_count": 154,
      "outputs": [
        {
          "output_type": "stream",
          "name": "stdout",
          "text": [
            "[1] \"Для тестовой выборки\"\n",
            "[1] \"Класс setosa:\"\n",
            "  Чувствительность Специфичность Точность\n",
            "A                1             0        1\n",
            "[1] \"---------------\"\n",
            "[1] \"Класс versicolor:\"\n",
            "  Чувствительность Специфичность  Точность\n",
            "A        1.0000000     0.4782609 1.0000000\n",
            "[1] \"---------------\"\n",
            "[1] \"Класс virginica:\"\n",
            "  Чувствительность Специфичность  Точность\n",
            "A        1.0000000     0.6111111 1.0000000\n"
          ]
        }
      ]
    },
    {
      "cell_type": "markdown",
      "source": [
        "#6"
      ],
      "metadata": {
        "id": "MEE2W1GdD-RL"
      }
    },
    {
      "cell_type": "code",
      "source": [
        "#install.packages(\"rpart.plot\")\n",
        "library(rpart)\n",
        "library(rpart.plot)"
      ],
      "metadata": {
        "id": "WEJrTGdNI9D4"
      },
      "execution_count": 163,
      "outputs": []
    },
    {
      "cell_type": "code",
      "source": [
        "tree1 <- rpart(train$Species~., data = train, method = 'class')\n",
        "rpart.plot(tree1)"
      ],
      "metadata": {
        "id": "_jUmqhALDR1O",
        "outputId": "14caf9a9-14ac-4443-dc65-8cbf7dd397fd",
        "colab": {
          "base_uri": "https://localhost:8080/",
          "height": 437
        }
      },
      "execution_count": 195,
      "outputs": [
        {
          "output_type": "display_data",
          "data": {
            "text/plain": [
              "plot without title"
            ],
            "image/png": "[encoded data removed]"
          },
          "metadata": {
            "image/png": {
              "width": 420,
              "height": 420
            }
          }
        }
      ]
    },
    {
      "cell_type": "code",
      "source": [
        "table_test1 <- table(test$Species, predict(tree1, test, type = 'class'))\n",
        "table_test1"
      ],
      "metadata": {
        "id": "PwqYJqG1JZ-U",
        "outputId": "7d8b9589-920a-40ca-bf8f-0708353073e2",
        "colab": {
          "base_uri": "https://localhost:8080/",
          "height": 108
        }
      },
      "execution_count": 207,
      "outputs": [
        {
          "output_type": "display_data",
          "data": {
            "text/plain": [
              "            \n",
              "             setosa versicolor virginica\n",
              "  setosa         11          0         0\n",
              "  versicolor      0          7         0\n",
              "  virginica       0          1        11"
            ]
          },
          "metadata": {}
        }
      ]
    },
    {
      "cell_type": "code",
      "source": [
        "print(\"Класс setosa:\")\n",
        "class_charact(table_test1, 1)\n",
        "print(\"---------------\")\n",
        "print(\"Класс versicolor:\")\n",
        "class_charact(table_test1, 2)\n",
        "print(\"---------------\")\n",
        "print(\"Класс virginica:\")\n",
        "class_charact(table_test1, 3)"
      ],
      "metadata": {
        "id": "4vvVZdNjPd5y",
        "outputId": "51943803-3eb6-4a71-febe-26d328bc9b1e",
        "colab": {
          "base_uri": "https://localhost:8080/"
        }
      },
      "execution_count": 208,
      "outputs": [
        {
          "output_type": "stream",
          "name": "stdout",
          "text": [
            "[1] \"Класс setosa:\"\n",
            "  Чувствительность Специфичность  Точность\n",
            "A        1.0000000     0.0000000 0.9666667\n",
            "[1] \"---------------\"\n",
            "[1] \"Класс versicolor:\"\n",
            "  Чувствительность Специфичность  Точность\n",
            "A        0.8750000     0.4782609 0.9666667\n",
            "[1] \"---------------\"\n",
            "[1] \"Класс virginica:\"\n",
            "  Чувствительность Специфичность  Точность\n",
            "A        1.0000000     0.6111111 0.9666667\n"
          ]
        }
      ]
    },
    {
      "cell_type": "code",
      "source": [
        "tree2 <- rpart(train2$Species~., data = train2, method = 'class')\n",
        "rpart.plot(tree2)"
      ],
      "metadata": {
        "id": "Vbp726i1Mpj_",
        "outputId": "5a5f5020-4e32-4184-c61e-456b0c73943e",
        "colab": {
          "base_uri": "https://localhost:8080/",
          "height": 437
        }
      },
      "execution_count": 197,
      "outputs": [
        {
          "output_type": "display_data",
          "data": {
            "text/plain": [
              "plot without title"
            ],
            "image/png": "[encoded data removed]"
          },
          "metadata": {
            "image/png": {
              "width": 420,
              "height": 420
            }
          }
        }
      ]
    },
    {
      "cell_type": "code",
      "source": [
        "table_test2 <- table(test2$Species, predict(tree2, test2, type = 'class'))\n",
        "table_test2"
      ],
      "metadata": {
        "id": "0udGbQN0M6W9",
        "outputId": "06223002-49b2-4f7f-8ff2-d356fed8f8ab",
        "colab": {
          "base_uri": "https://localhost:8080/",
          "height": 108
        }
      },
      "execution_count": 205,
      "outputs": [
        {
          "output_type": "display_data",
          "data": {
            "text/plain": [
              "            \n",
              "             setosa versicolor virginica\n",
              "  setosa         11          0         0\n",
              "  versicolor      0          7         0\n",
              "  virginica       0          1        11"
            ]
          },
          "metadata": {}
        }
      ]
    },
    {
      "cell_type": "code",
      "source": [
        "print(\"Класс setosa:\")\n",
        "class_charact(table_test2, 1)\n",
        "print(\"---------------\")\n",
        "print(\"Класс versicolor:\")\n",
        "class_charact(table_test2, 2)\n",
        "print(\"---------------\")\n",
        "print(\"Класс virginica:\")\n",
        "class_charact(table_test2, 3)"
      ],
      "metadata": {
        "id": "Rlu7eT4HPkkP",
        "outputId": "014e7703-f7ad-4b8c-f2aa-1da578f0bb75",
        "colab": {
          "base_uri": "https://localhost:8080/"
        }
      },
      "execution_count": 209,
      "outputs": [
        {
          "output_type": "stream",
          "name": "stdout",
          "text": [
            "[1] \"Класс setosa:\"\n",
            "  Чувствительность Специфичность  Точность\n",
            "A        1.0000000     0.0000000 0.9666667\n",
            "[1] \"---------------\"\n",
            "[1] \"Класс versicolor:\"\n",
            "  Чувствительность Специфичность  Точность\n",
            "A        0.8750000     0.4782609 0.9666667\n",
            "[1] \"---------------\"\n",
            "[1] \"Класс virginica:\"\n",
            "  Чувствительность Специфичность  Точность\n",
            "A        1.0000000     0.6111111 0.9666667\n"
          ]
        }
      ]
    }
  ]
}