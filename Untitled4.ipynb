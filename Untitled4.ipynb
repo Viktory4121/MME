{
  "nbformat": 4,
  "nbformat_minor": 0,
  "metadata": {
    "colab": {
      "provenance": [],
      "authorship_tag": "ABX9TyOd7RvFkiP3gGiza7HFKWmp",
      "include_colab_link": true
    },
    "kernelspec": {
      "name": "ir",
      "display_name": "R"
    },
    "language_info": {
      "name": "R"
    }
  },
  "cells": [
    {
      "cell_type": "markdown",
      "metadata": {
        "id": "view-in-github",
        "colab_type": "text"
      },
      "source": [
        "<a href=\"https://colab.research.google.com/github/Viktory4121/MME/blob/main/Untitled4.ipynb\" target=\"_parent\"><img src=\"https://colab.research.google.com/assets/colab-badge.svg\" alt=\"Open In Colab\"/></a>"
      ]
    },
    {
      "cell_type": "markdown",
      "source": [
        "#1"
      ],
      "metadata": {
        "id": "iip_e0QFOMk8"
      }
    },
    {
      "cell_type": "code",
      "execution_count": 43,
      "metadata": {
        "colab": {
          "base_uri": "https://localhost:8080/",
          "height": 286
        },
        "id": "CsMke_DdNsdd",
        "outputId": "ec5ee613-957e-45ea-ad1d-dee2408be455"
      },
      "outputs": [
        {
          "output_type": "display_data",
          "data": {
            "text/html": [
              "<table class=\"dataframe\">\n",
              "<caption>A data.frame: 6 × 5</caption>\n",
              "<thead>\n",
              "\t<tr><th></th><th scope=col>Sepal.Length</th><th scope=col>Sepal.Width</th><th scope=col>Petal.Length</th><th scope=col>Petal.Width</th><th scope=col>Species</th></tr>\n",
              "\t<tr><th></th><th scope=col>&lt;dbl&gt;</th><th scope=col>&lt;dbl&gt;</th><th scope=col>&lt;dbl&gt;</th><th scope=col>&lt;dbl&gt;</th><th scope=col>&lt;fct&gt;</th></tr>\n",
              "</thead>\n",
              "<tbody>\n",
              "\t<tr><th scope=row>1</th><td>5.1</td><td>3.5</td><td>1.4</td><td>0.2</td><td>setosa</td></tr>\n",
              "\t<tr><th scope=row>2</th><td>4.9</td><td>3.0</td><td>1.4</td><td>0.2</td><td>setosa</td></tr>\n",
              "\t<tr><th scope=row>3</th><td>4.7</td><td>3.2</td><td>1.3</td><td>0.2</td><td>setosa</td></tr>\n",
              "\t<tr><th scope=row>4</th><td>4.6</td><td>3.1</td><td>1.5</td><td>0.2</td><td>setosa</td></tr>\n",
              "\t<tr><th scope=row>5</th><td>5.0</td><td>3.6</td><td>1.4</td><td>0.2</td><td>setosa</td></tr>\n",
              "\t<tr><th scope=row>6</th><td>5.4</td><td>3.9</td><td>1.7</td><td>0.4</td><td>setosa</td></tr>\n",
              "</tbody>\n",
              "</table>\n"
            ],
            "text/markdown": "\nA data.frame: 6 × 5\n\n| <!--/--> | Sepal.Length &lt;dbl&gt; | Sepal.Width &lt;dbl&gt; | Petal.Length &lt;dbl&gt; | Petal.Width &lt;dbl&gt; | Species &lt;fct&gt; |\n|---|---|---|---|---|---|\n| 1 | 5.1 | 3.5 | 1.4 | 0.2 | setosa |\n| 2 | 4.9 | 3.0 | 1.4 | 0.2 | setosa |\n| 3 | 4.7 | 3.2 | 1.3 | 0.2 | setosa |\n| 4 | 4.6 | 3.1 | 1.5 | 0.2 | setosa |\n| 5 | 5.0 | 3.6 | 1.4 | 0.2 | setosa |\n| 6 | 5.4 | 3.9 | 1.7 | 0.4 | setosa |\n\n",
            "text/latex": "A data.frame: 6 × 5\n\\begin{tabular}{r|lllll}\n  & Sepal.Length & Sepal.Width & Petal.Length & Petal.Width & Species\\\\\n  & <dbl> & <dbl> & <dbl> & <dbl> & <fct>\\\\\n\\hline\n\t1 & 5.1 & 3.5 & 1.4 & 0.2 & setosa\\\\\n\t2 & 4.9 & 3.0 & 1.4 & 0.2 & setosa\\\\\n\t3 & 4.7 & 3.2 & 1.3 & 0.2 & setosa\\\\\n\t4 & 4.6 & 3.1 & 1.5 & 0.2 & setosa\\\\\n\t5 & 5.0 & 3.6 & 1.4 & 0.2 & setosa\\\\\n\t6 & 5.4 & 3.9 & 1.7 & 0.4 & setosa\\\\\n\\end{tabular}\n",
            "text/plain": [
              "  Sepal.Length Sepal.Width Petal.Length Petal.Width Species\n",
              "1 5.1          3.5         1.4          0.2         setosa \n",
              "2 4.9          3.0         1.4          0.2         setosa \n",
              "3 4.7          3.2         1.3          0.2         setosa \n",
              "4 4.6          3.1         1.5          0.2         setosa \n",
              "5 5.0          3.6         1.4          0.2         setosa \n",
              "6 5.4          3.9         1.7          0.4         setosa "
            ]
          },
          "metadata": {}
        }
      ],
      "source": [
        "library(datasets)\n",
        "data <- iris\n",
        "head(data)\n",
        "\n",
        "coding_categ_data <- function(data) {\n",
        "  new_data <- transform(data, Species = as.numeric(as.factor(Species)))\n",
        "  return(new_data)\n",
        "}\n",
        "cdata <- coding_categ_data(data)"
      ]
    },
    {
      "cell_type": "markdown",
      "source": [
        "#2"
      ],
      "metadata": {
        "id": "TBRQYwQEORVI"
      }
    },
    {
      "cell_type": "code",
      "source": [
        "index <- sample(1:nrow(data), nrow(data) * 0.8) \n",
        "test <- data[-c(index), ]\n",
        "train <- data[index, ]"
      ],
      "metadata": {
        "id": "OsfCYqBkN_-K"
      },
      "execution_count": 102,
      "outputs": []
    },
    {
      "cell_type": "code",
      "source": [
        "library(dplyr)"
      ],
      "metadata": {
        "colab": {
          "base_uri": "https://localhost:8080/"
        },
        "id": "G5ldqn42OVHP",
        "outputId": "7e3b64a7-030a-493a-b708-621225c46ccc"
      },
      "execution_count": 3,
      "outputs": [
        {
          "output_type": "stream",
          "name": "stderr",
          "text": [
            "\n",
            "Attaching package: ‘dplyr’\n",
            "\n",
            "\n",
            "The following objects are masked from ‘package:stats’:\n",
            "\n",
            "    filter, lag\n",
            "\n",
            "\n",
            "The following objects are masked from ‘package:base’:\n",
            "\n",
            "    intersect, setdiff, setequal, union\n",
            "\n",
            "\n"
          ]
        }
      ]
    },
    {
      "cell_type": "code",
      "source": [
        "print(\"Кол-во строк в тестовой выборке:\")\n",
        "print(nrow(test))\n",
        "print(\"Кол-во столбцов в тестовой выборке:\")\n",
        "print(ncol(test))\n",
        "print(\"Кол-во объектов в каждом классе тестовой выборки:\")\n",
        "print(test %>% group_by(Species) %>% summarize(count = n()))\n",
        "print(\"или\")\n",
        "print(summary(test$Species))\n",
        "print(\"Кол-во пропущенных значений в тестовой выборке:\")\n",
        "print(sum(test == NA))\n",
        "print(\"Характеристика тестовой выборки:\")\n",
        "print(summary(test[,1:4], na.rm=TRUE))"
      ],
      "metadata": {
        "colab": {
          "base_uri": "https://localhost:8080/"
        },
        "id": "AbTToxPIOZ1B",
        "outputId": "664c61e4-5f4e-4674-ced4-a5b0d252f59d"
      },
      "execution_count": 103,
      "outputs": [
        {
          "output_type": "stream",
          "name": "stdout",
          "text": [
            "[1] \"Кол-во строк в тестовой выборке:\"\n",
            "[1] 30\n",
            "[1] \"Кол-во столбцов в тестовой выборке:\"\n",
            "[1] 5\n",
            "[1] \"Кол-во объектов в каждом классе тестовой выборки:\"\n",
            "\u001b[90m# A tibble: 3 × 2\u001b[39m\n",
            "  Species    count\n",
            "  \u001b[3m\u001b[90m<fct>\u001b[39m\u001b[23m      \u001b[3m\u001b[90m<int>\u001b[39m\u001b[23m\n",
            "\u001b[90m1\u001b[39m setosa        11\n",
            "\u001b[90m2\u001b[39m versicolor     7\n",
            "\u001b[90m3\u001b[39m virginica     12\n",
            "[1] \"или\"\n",
            "    setosa versicolor  virginica \n",
            "        11          7         12 \n",
            "[1] \"Кол-во пропущенных значений в тестовой выборке:\"\n",
            "[1] NA\n",
            "[1] \"Характеристика тестовой выборки:\"\n",
            "  Sepal.Length    Sepal.Width     Petal.Length    Petal.Width  \n",
            " Min.   :4.300   Min.   :2.000   Min.   :1.100   Min.   :0.10  \n",
            " 1st Qu.:5.100   1st Qu.:2.900   1st Qu.:1.525   1st Qu.:0.30  \n",
            " Median :5.900   Median :3.000   Median :4.400   Median :1.40  \n",
            " Mean   :5.880   Mean   :3.087   Mean   :3.767   Mean   :1.19  \n",
            " 3rd Qu.:6.475   3rd Qu.:3.400   3rd Qu.:5.575   3rd Qu.:1.80  \n",
            " Max.   :7.700   Max.   :4.000   Max.   :6.700   Max.   :2.30  \n"
          ]
        }
      ]
    },
    {
      "cell_type": "code",
      "source": [
        "print(\"Кол-во строк в обучающей выборке:\")\n",
        "print(nrow(train))\n",
        "print(\"Кол-во столбцов в обучающей выборке:\")\n",
        "print(ncol(train))\n",
        "print(\"Кол-во объектов в каждом классе обучающей выборки:\")\n",
        "print(train %>% group_by(Species) %>% summarize(count = n()))\n",
        "print(\"или\")\n",
        "print(summary(train$Species))\n",
        "print(\"Кол-во пропущенных значений в обучающей выборке:\")\n",
        "print(sum(train == NA))\n",
        "print(\"Характеристика обучающей выборки:\")\n",
        "print(summary(train[,1:4], na.rm=TRUE))"
      ],
      "metadata": {
        "colab": {
          "base_uri": "https://localhost:8080/"
        },
        "id": "P9ADj2JHOc-n",
        "outputId": "54573c32-caba-4853-a6be-cf07ca3f59eb"
      },
      "execution_count": 104,
      "outputs": [
        {
          "output_type": "stream",
          "name": "stdout",
          "text": [
            "[1] \"Кол-во строк в обучающей выборке:\"\n",
            "[1] 120\n",
            "[1] \"Кол-во столбцов в обучающей выборке:\"\n",
            "[1] 5\n",
            "[1] \"Кол-во объектов в каждом классе обучающей выборки:\"\n",
            "\u001b[90m# A tibble: 3 × 2\u001b[39m\n",
            "  Species    count\n",
            "  \u001b[3m\u001b[90m<fct>\u001b[39m\u001b[23m      \u001b[3m\u001b[90m<int>\u001b[39m\u001b[23m\n",
            "\u001b[90m1\u001b[39m setosa        39\n",
            "\u001b[90m2\u001b[39m versicolor    43\n",
            "\u001b[90m3\u001b[39m virginica     38\n",
            "[1] \"или\"\n",
            "    setosa versicolor  virginica \n",
            "        39         43         38 \n",
            "[1] \"Кол-во пропущенных значений в обучающей выборке:\"\n",
            "[1] NA\n",
            "[1] \"Характеристика обучающей выборки:\"\n",
            "  Sepal.Length    Sepal.Width    Petal.Length    Petal.Width   \n",
            " Min.   :4.400   Min.   :2.20   Min.   :1.000   Min.   :0.100  \n",
            " 1st Qu.:5.100   1st Qu.:2.80   1st Qu.:1.600   1st Qu.:0.300  \n",
            " Median :5.750   Median :3.00   Median :4.350   Median :1.300  \n",
            " Mean   :5.834   Mean   :3.05   Mean   :3.756   Mean   :1.202  \n",
            " 3rd Qu.:6.400   3rd Qu.:3.30   3rd Qu.:5.100   3rd Qu.:1.800  \n",
            " Max.   :7.900   Max.   :4.40   Max.   :6.900   Max.   :2.500  \n"
          ]
        }
      ]
    },
    {
      "cell_type": "markdown",
      "source": [
        "#3"
      ],
      "metadata": {
        "id": "iXGLFK6KOjJ3"
      }
    },
    {
      "cell_type": "code",
      "source": [
        "#install.packages(\"e1071\")\n",
        "#install.packages(\"caret\")\n",
        "library(e1071)\n",
        "library(caret)"
      ],
      "metadata": {
        "colab": {
          "base_uri": "https://localhost:8080/"
        },
        "id": "i5dGQlMtOgQR",
        "outputId": "f99d420a-4fe2-4bb2-e387-cf4b36da447b"
      },
      "execution_count": 7,
      "outputs": [
        {
          "output_type": "stream",
          "name": "stderr",
          "text": [
            "Installing package into ‘/usr/local/lib/R/site-library’\n",
            "(as ‘lib’ is unspecified)\n",
            "\n",
            "also installing the dependency ‘proxy’\n",
            "\n",
            "\n",
            "Installing package into ‘/usr/local/lib/R/site-library’\n",
            "(as ‘lib’ is unspecified)\n",
            "\n",
            "also installing the dependencies ‘listenv’, ‘parallelly’, ‘future’, ‘globals’, ‘future.apply’, ‘numDeriv’, ‘progressr’, ‘SQUAREM’, ‘lava’, ‘prodlim’, ‘iterators’, ‘Rcpp’, ‘clock’, ‘gower’, ‘hardhat’, ‘ipred’, ‘timeDate’, ‘foreach’, ‘ModelMetrics’, ‘plyr’, ‘pROC’, ‘recipes’, ‘reshape2’\n",
            "\n",
            "\n",
            "Loading required package: ggplot2\n",
            "\n",
            "Loading required package: lattice\n",
            "\n",
            "Warning message in system(\"timedatectl\", intern = TRUE):\n",
            "“running command 'timedatectl' had status 1”\n"
          ]
        }
      ]
    },
    {
      "cell_type": "code",
      "source": [
        "model <- naiveBayes(Species ~ ., data = train)\n",
        "model"
      ],
      "metadata": {
        "colab": {
          "base_uri": "https://localhost:8080/",
          "height": 655
        },
        "id": "ipP81CYjOofn",
        "outputId": "9cd6a6da-d168-4c67-f899-b6d0ea532fcf"
      },
      "execution_count": 105,
      "outputs": [
        {
          "output_type": "display_data",
          "data": {
            "text/plain": [
              "\n",
              "Naive Bayes Classifier for Discrete Predictors\n",
              "\n",
              "Call:\n",
              "naiveBayes.default(x = X, y = Y, laplace = laplace)\n",
              "\n",
              "A-priori probabilities:\n",
              "Y\n",
              "    setosa versicolor  virginica \n",
              " 0.3250000  0.3583333  0.3166667 \n",
              "\n",
              "Conditional probabilities:\n",
              "            Sepal.Length\n",
              "Y                [,1]      [,2]\n",
              "  setosa     4.992308 0.3382498\n",
              "  versicolor 5.969767 0.5230564\n",
              "  virginica  6.544737 0.6797048\n",
              "\n",
              "            Sepal.Width\n",
              "Y                [,1]      [,2]\n",
              "  setosa     3.417949 0.3946163\n",
              "  versicolor 2.793023 0.2746386\n",
              "  virginica  2.963158 0.3182902\n",
              "\n",
              "            Petal.Length\n",
              "Y                [,1]      [,2]\n",
              "  setosa     1.471795 0.1761410\n",
              "  versicolor 4.272093 0.4861538\n",
              "  virginica  5.515789 0.5673677\n",
              "\n",
              "            Petal.Width\n",
              "Y                 [,1]      [,2]\n",
              "  setosa     0.2461538 0.1096553\n",
              "  versicolor 1.3232558 0.1986109\n",
              "  virginica  2.0447368 0.2910348\n"
            ]
          },
          "metadata": {}
        }
      ]
    },
    {
      "cell_type": "markdown",
      "source": [
        "#4"
      ],
      "metadata": {
        "id": "0Kx0gS8nOyCx"
      }
    },
    {
      "cell_type": "code",
      "source": [
        "pr_train <- predict(model, train)\n",
        "tab_train <- table(predict(model, train), train$Species)\n",
        "print(pr_train)\n",
        "print(tab_train)"
      ],
      "metadata": {
        "colab": {
          "base_uri": "https://localhost:8080/"
        },
        "id": "oi-CelBWOsFY",
        "outputId": "9543db80-b021-4d4f-af72-15e9c6cf9ac0"
      },
      "execution_count": 106,
      "outputs": [
        {
          "output_type": "stream",
          "name": "stdout",
          "text": [
            "  [1] versicolor virginica  versicolor versicolor virginica  setosa    \n",
            "  [7] versicolor setosa     virginica  virginica  virginica  setosa    \n",
            " [13] versicolor virginica  setosa     versicolor setosa     versicolor\n",
            " [19] versicolor virginica  virginica  virginica  setosa     versicolor\n",
            " [25] virginica  versicolor versicolor versicolor setosa     virginica \n",
            " [31] virginica  setosa     virginica  setosa     setosa     setosa    \n",
            " [37] versicolor setosa     virginica  versicolor versicolor virginica \n",
            " [43] setosa     virginica  versicolor versicolor virginica  virginica \n",
            " [49] setosa     setosa     setosa     virginica  versicolor virginica \n",
            " [55] versicolor setosa     virginica  virginica  versicolor setosa    \n",
            " [61] virginica  versicolor versicolor setosa     setosa     virginica \n",
            " [67] virginica  versicolor virginica  versicolor versicolor versicolor\n",
            " [73] setosa     versicolor versicolor virginica  versicolor setosa    \n",
            " [79] virginica  setosa     setosa     setosa     setosa     versicolor\n",
            " [85] versicolor setosa     versicolor virginica  setosa     setosa    \n",
            " [91] setosa     setosa     versicolor versicolor virginica  setosa    \n",
            " [97] virginica  virginica  virginica  versicolor versicolor versicolor\n",
            "[103] setosa     setosa     versicolor versicolor setosa     virginica \n",
            "[109] versicolor versicolor versicolor setosa     setosa     versicolor\n",
            "[115] setosa     setosa     virginica  virginica  versicolor versicolor\n",
            "Levels: setosa versicolor virginica\n",
            "            \n",
            "             setosa versicolor virginica\n",
            "  setosa         39          0         0\n",
            "  versicolor      0         41         4\n",
            "  virginica       0          2        34\n"
          ]
        }
      ]
    },
    {
      "cell_type": "code",
      "source": [
        "#library(rpart)\n",
        "#install.packages(\"rcompanion\")\n",
        "#library(rcompanion)"
      ],
      "metadata": {
        "id": "YrJipW7Yqqi2"
      },
      "execution_count": 50,
      "outputs": []
    },
    {
      "cell_type": "code",
      "source": [
        "class_charact <- function(table, num_factor){\n",
        "  print(\"Чувствительность: \")\n",
        "  SE <- table[num_factor, num_factor] / (sum(table[, num_factor]))\n",
        "  print(SE)\n",
        "  print(\"Специфичность: \")\n",
        "  SP_ch <- 0\n",
        "  SP_zn <- 0\n",
        "  for (i in 1:ncol(table)){\n",
        "    if (i != num_factor){\n",
        "      SP_ch <- SP_ch + table[i, 1]\n",
        "      SP_zn <- SP_zn + sum(table[i, ])\n",
        "    }\n",
        "  }\n",
        "  SP <- SP_ch / SP_zn\n",
        "  print(SP)\n",
        "  print(\"Точность: \")\n",
        "  AC = sum(diag(table)) / sum(colSums(table))\n",
        "  print(AC)\n",
        "}"
      ],
      "metadata": {
        "id": "IEhl3dkEn1zu"
      },
      "execution_count": 117,
      "outputs": []
    },
    {
      "cell_type": "code",
      "source": [
        "print(\"Для обучающей выборки\")\n",
        "print(\"Класс setosa:\")\n",
        "class_charact(tab_train, 1)\n",
        "print(\"---------------\")\n",
        "print(\"Класс versicolor:\")\n",
        "class_charact(tab_train, 2)\n",
        "print(\"---------------\")\n",
        "print(\"Класс virginica:\")\n",
        "class_charact(tab_train, 3)"
      ],
      "metadata": {
        "colab": {
          "base_uri": "https://localhost:8080/"
        },
        "id": "7HfqEazq9jmC",
        "outputId": "96771017-c35c-4f16-e8ba-9fd472a576b0"
      },
      "execution_count": 118,
      "outputs": [
        {
          "output_type": "stream",
          "name": "stdout",
          "text": [
            "[1] \"Для обучающей выборки\"\n",
            "[1] \"Класс setosa:\"\n",
            "[1] \"Чувствительность: \"\n",
            "[1] 1\n",
            "[1] \"Специфичность: \"\n",
            "[1] 0\n",
            "[1] \"Точность: \"\n",
            "[1] 0.95\n",
            "[1] \"---------------\"\n",
            "[1] \"Класс versicolor:\"\n",
            "[1] \"Чувствительность: \"\n",
            "[1] 0.9534884\n",
            "[1] \"Специфичность: \"\n",
            "[1] 0.52\n",
            "[1] \"Точность: \"\n",
            "[1] 0.95\n",
            "[1] \"---------------\"\n",
            "[1] \"Класс virginica:\"\n",
            "[1] \"Чувствительность: \"\n",
            "[1] 0.8947368\n",
            "[1] \"Специфичность: \"\n",
            "[1] 0.4642857\n",
            "[1] \"Точность: \"\n",
            "[1] 0.95\n"
          ]
        }
      ]
    },
    {
      "cell_type": "code",
      "source": [
        "pr_test <- predict(model, test)\n",
        "tab_test <- table(predict(model, test), test$Species)\n",
        "print(pr_test)\n",
        "print(tab_test)"
      ],
      "metadata": {
        "colab": {
          "base_uri": "https://localhost:8080/"
        },
        "id": "MeE36uz7O3Kt",
        "outputId": "9dfd1162-8327-4f05-b6c3-4d2f759d68ea"
      },
      "execution_count": 119,
      "outputs": [
        {
          "output_type": "stream",
          "name": "stdout",
          "text": [
            " [1] setosa     setosa     setosa     setosa     setosa     setosa    \n",
            " [7] setosa     setosa     setosa     setosa     setosa     versicolor\n",
            "[13] versicolor versicolor versicolor versicolor versicolor versicolor\n",
            "[19] virginica  virginica  virginica  virginica  virginica  virginica \n",
            "[25] virginica  virginica  virginica  virginica  virginica  virginica \n",
            "Levels: setosa versicolor virginica\n",
            "            \n",
            "             setosa versicolor virginica\n",
            "  setosa         11          0         0\n",
            "  versicolor      0          7         0\n",
            "  virginica       0          0        12\n"
          ]
        }
      ]
    },
    {
      "cell_type": "code",
      "source": [
        "print(\"Для тестовой выборки\")\n",
        "print(\"Класс setosa:\")\n",
        "class_charact(tab_test, 1)\n",
        "print(\"---------------\")\n",
        "print(\"Класс versicolor:\")\n",
        "class_charact(tab_test, 2)\n",
        "print(\"---------------\")\n",
        "print(\"Класс virginica:\")\n",
        "class_charact(tab_test, 3)"
      ],
      "metadata": {
        "colab": {
          "base_uri": "https://localhost:8080/"
        },
        "id": "SIJ4Rztf-gKm",
        "outputId": "f4f9edb5-1f66-42c4-cbc5-65f6e19f60c3"
      },
      "execution_count": 120,
      "outputs": [
        {
          "output_type": "stream",
          "name": "stdout",
          "text": [
            "[1] \"Для тестовой выборки\"\n",
            "[1] \"Класс setosa:\"\n",
            "[1] \"Чувствительность: \"\n",
            "[1] 1\n",
            "[1] \"Специфичность: \"\n",
            "[1] 0\n",
            "[1] \"Точность: \"\n",
            "[1] 1\n",
            "[1] \"---------------\"\n",
            "[1] \"Класс versicolor:\"\n",
            "[1] \"Чувствительность: \"\n",
            "[1] 1\n",
            "[1] \"Специфичность: \"\n",
            "[1] 0.4782609\n",
            "[1] \"Точность: \"\n",
            "[1] 1\n",
            "[1] \"---------------\"\n",
            "[1] \"Класс virginica:\"\n",
            "[1] \"Чувствительность: \"\n",
            "[1] 1\n",
            "[1] \"Специфичность: \"\n",
            "[1] 0.6111111\n",
            "[1] \"Точность: \"\n",
            "[1] 1\n"
          ]
        }
      ]
    },
    {
      "cell_type": "code",
      "source": [
        "#sensitivity(train$Species, pr_train)\n",
        "#specificity(train$Species, pr_train)\n",
        "#misClassError(train$Species, pr_train, threshold=optimal)"
      ],
      "metadata": {
        "id": "SbX8HVFaJYYt"
      },
      "execution_count": 115,
      "outputs": []
    },
    {
      "cell_type": "code",
      "source": [
        "control <- trainControl(method=\"cv\", number=5)\n",
        "set.seed(7)\n",
        "fit <- train(Species~., data=train, method=\"lm\", metric=\"RMSE\", trControl=control)"
      ],
      "metadata": {
        "colab": {
          "base_uri": "https://localhost:8080/",
          "height": 244
        },
        "id": "qyVziOUEMo3Z",
        "outputId": "974d9f84-4a99-4432-9de3-41d5d054197f"
      },
      "execution_count": null,
      "outputs": [
        {
          "output_type": "error",
          "ename": "ERROR",
          "evalue": "ignored",
          "traceback": [
            "Error: wrong model type for classification\nTraceback:\n",
            "1. train(Species ~ ., data = train, method = \"lm\", metric = \"RMSE\", \n .     trControl = control)",
            "2. train.formula(Species ~ ., data = train, method = \"lm\", metric = \"RMSE\", \n .     trControl = control)",
            "3. train(x, y, weights = w, ...)",
            "4. train.default(x, y, weights = w, ...)",
            "5. stop(paste(\"wrong model type for\", tolower(modelType)), call. = FALSE)"
          ]
        }
      ]
    }
  ]
}