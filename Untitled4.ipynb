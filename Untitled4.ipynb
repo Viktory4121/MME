{
  "nbformat": 4,
  "nbformat_minor": 0,
  "metadata": {
    "colab": {
      "provenance": [],
      "authorship_tag": "ABX9TyP9xvaBat9zvwp7X5GwP9jE",
      "include_colab_link": true
    },
    "kernelspec": {
      "name": "ir",
      "display_name": "R"
    },
    "language_info": {
      "name": "R"
    }
  },
  "cells": [
    {
      "cell_type": "markdown",
      "metadata": {
        "id": "view-in-github",
        "colab_type": "text"
      },
      "source": [
        "<a href=\"https://colab.research.google.com/github/Viktory4121/MME/blob/main/Untitled4.ipynb\" target=\"_parent\"><img src=\"https://colab.research.google.com/assets/colab-badge.svg\" alt=\"Open In Colab\"/></a>"
      ]
    },
    {
      "cell_type": "markdown",
      "source": [
        "#1"
      ],
      "metadata": {
        "id": "iip_e0QFOMk8"
      }
    },
    {
      "cell_type": "code",
      "execution_count": 239,
      "metadata": {
        "colab": {
          "base_uri": "https://localhost:8080/",
          "height": 286
        },
        "id": "CsMke_DdNsdd",
        "outputId": "2593c369-3fed-4853-82f4-9c021ccb531a"
      },
      "outputs": [
        {
          "output_type": "display_data",
          "data": {
            "text/html": [
              "<table class=\"dataframe\">\n",
              "<caption>A data.frame: 6 × 5</caption>\n",
              "<thead>\n",
              "\t<tr><th></th><th scope=col>Sepal.Length</th><th scope=col>Sepal.Width</th><th scope=col>Petal.Length</th><th scope=col>Petal.Width</th><th scope=col>Species</th></tr>\n",
              "\t<tr><th></th><th scope=col>&lt;dbl&gt;</th><th scope=col>&lt;dbl&gt;</th><th scope=col>&lt;dbl&gt;</th><th scope=col>&lt;dbl&gt;</th><th scope=col>&lt;fct&gt;</th></tr>\n",
              "</thead>\n",
              "<tbody>\n",
              "\t<tr><th scope=row>1</th><td>5.1</td><td>3.5</td><td>1.4</td><td>0.2</td><td>setosa</td></tr>\n",
              "\t<tr><th scope=row>2</th><td>4.9</td><td>3.0</td><td>1.4</td><td>0.2</td><td>setosa</td></tr>\n",
              "\t<tr><th scope=row>3</th><td>4.7</td><td>3.2</td><td>1.3</td><td>0.2</td><td>setosa</td></tr>\n",
              "\t<tr><th scope=row>4</th><td>4.6</td><td>3.1</td><td>1.5</td><td>0.2</td><td>setosa</td></tr>\n",
              "\t<tr><th scope=row>5</th><td>5.0</td><td>3.6</td><td>1.4</td><td>0.2</td><td>setosa</td></tr>\n",
              "\t<tr><th scope=row>6</th><td>5.4</td><td>3.9</td><td>1.7</td><td>0.4</td><td>setosa</td></tr>\n",
              "</tbody>\n",
              "</table>\n"
            ],
            "text/markdown": "\nA data.frame: 6 × 5\n\n| <!--/--> | Sepal.Length &lt;dbl&gt; | Sepal.Width &lt;dbl&gt; | Petal.Length &lt;dbl&gt; | Petal.Width &lt;dbl&gt; | Species &lt;fct&gt; |\n|---|---|---|---|---|---|\n| 1 | 5.1 | 3.5 | 1.4 | 0.2 | setosa |\n| 2 | 4.9 | 3.0 | 1.4 | 0.2 | setosa |\n| 3 | 4.7 | 3.2 | 1.3 | 0.2 | setosa |\n| 4 | 4.6 | 3.1 | 1.5 | 0.2 | setosa |\n| 5 | 5.0 | 3.6 | 1.4 | 0.2 | setosa |\n| 6 | 5.4 | 3.9 | 1.7 | 0.4 | setosa |\n\n",
            "text/latex": "A data.frame: 6 × 5\n\\begin{tabular}{r|lllll}\n  & Sepal.Length & Sepal.Width & Petal.Length & Petal.Width & Species\\\\\n  & <dbl> & <dbl> & <dbl> & <dbl> & <fct>\\\\\n\\hline\n\t1 & 5.1 & 3.5 & 1.4 & 0.2 & setosa\\\\\n\t2 & 4.9 & 3.0 & 1.4 & 0.2 & setosa\\\\\n\t3 & 4.7 & 3.2 & 1.3 & 0.2 & setosa\\\\\n\t4 & 4.6 & 3.1 & 1.5 & 0.2 & setosa\\\\\n\t5 & 5.0 & 3.6 & 1.4 & 0.2 & setosa\\\\\n\t6 & 5.4 & 3.9 & 1.7 & 0.4 & setosa\\\\\n\\end{tabular}\n",
            "text/plain": [
              "  Sepal.Length Sepal.Width Petal.Length Petal.Width Species\n",
              "1 5.1          3.5         1.4          0.2         setosa \n",
              "2 4.9          3.0         1.4          0.2         setosa \n",
              "3 4.7          3.2         1.3          0.2         setosa \n",
              "4 4.6          3.1         1.5          0.2         setosa \n",
              "5 5.0          3.6         1.4          0.2         setosa \n",
              "6 5.4          3.9         1.7          0.4         setosa "
            ]
          },
          "metadata": {}
        }
      ],
      "source": [
        "library(datasets)\n",
        "data <- iris\n",
        "head(data)\n",
        "\n",
        "coding_categ_data <- function(data) {\n",
        "  new_data <- transform(data, Species = as.numeric(as.factor(Species)))\n",
        "  return(new_data)\n",
        "}\n",
        "cdata <- coding_categ_data(data)"
      ]
    },
    {
      "cell_type": "markdown",
      "source": [
        "#2"
      ],
      "metadata": {
        "id": "TBRQYwQEORVI"
      }
    },
    {
      "cell_type": "code",
      "source": [
        "index <- sample(1:nrow(data), nrow(data) * 0.8) \n",
        "test <- data[-c(index), ]\n",
        "train <- data[index, ]"
      ],
      "metadata": {
        "id": "OsfCYqBkN_-K"
      },
      "execution_count": 240,
      "outputs": []
    },
    {
      "cell_type": "code",
      "source": [
        "library(dplyr)"
      ],
      "metadata": {
        "id": "G5ldqn42OVHP"
      },
      "execution_count": 241,
      "outputs": []
    },
    {
      "cell_type": "code",
      "source": [
        "print(\"Кол-во строк в тестовой выборке:\")\n",
        "print(nrow(test))\n",
        "print(\"Кол-во столбцов в тестовой выборке:\")\n",
        "print(ncol(test))\n",
        "print(\"Кол-во объектов в каждом классе тестовой выборки:\")\n",
        "print(test %>% group_by(Species) %>% summarize(count = n()))\n",
        "print(\"или\")\n",
        "print(summary(test$Species))\n",
        "print(\"Кол-во пропущенных значений в тестовой выборке:\")\n",
        "print(sum(test == NA))\n",
        "print(\"Характеристика тестовой выборки:\")\n",
        "print(summary(test[,1:4], na.rm=TRUE))"
      ],
      "metadata": {
        "colab": {
          "base_uri": "https://localhost:8080/"
        },
        "id": "AbTToxPIOZ1B",
        "outputId": "e19f354d-925d-4c31-8859-30237b5545ac"
      },
      "execution_count": 242,
      "outputs": [
        {
          "output_type": "stream",
          "name": "stdout",
          "text": [
            "[1] \"Кол-во строк в тестовой выборке:\"\n",
            "[1] 30\n",
            "[1] \"Кол-во столбцов в тестовой выборке:\"\n",
            "[1] 5\n",
            "[1] \"Кол-во объектов в каждом классе тестовой выборки:\"\n",
            "\u001b[90m# A tibble: 3 × 2\u001b[39m\n",
            "  Species    count\n",
            "  \u001b[3m\u001b[90m<fct>\u001b[39m\u001b[23m      \u001b[3m\u001b[90m<int>\u001b[39m\u001b[23m\n",
            "\u001b[90m1\u001b[39m setosa        10\n",
            "\u001b[90m2\u001b[39m versicolor    11\n",
            "\u001b[90m3\u001b[39m virginica      9\n",
            "[1] \"или\"\n",
            "    setosa versicolor  virginica \n",
            "        10         11          9 \n",
            "[1] \"Кол-во пропущенных значений в тестовой выборке:\"\n",
            "[1] NA\n",
            "[1] \"Характеристика тестовой выборки:\"\n",
            "  Sepal.Length   Sepal.Width     Petal.Length    Petal.Width   \n",
            " Min.   :4.50   Min.   :2.300   Min.   :1.300   Min.   :0.200  \n",
            " 1st Qu.:5.00   1st Qu.:2.725   1st Qu.:1.500   1st Qu.:0.300  \n",
            " Median :5.80   Median :3.000   Median :4.200   Median :1.300  \n",
            " Mean   :5.89   Mean   :2.983   Mean   :3.817   Mean   :1.183  \n",
            " 3rd Qu.:6.70   3rd Qu.:3.200   3rd Qu.:5.175   3rd Qu.:1.800  \n",
            " Max.   :7.70   Max.   :3.800   Max.   :6.900   Max.   :2.500  \n"
          ]
        }
      ]
    },
    {
      "cell_type": "code",
      "source": [
        "print(\"Кол-во строк в обучающей выборке:\")\n",
        "print(nrow(train))\n",
        "print(\"Кол-во столбцов в обучающей выборке:\")\n",
        "print(ncol(train))\n",
        "print(\"Кол-во объектов в каждом классе обучающей выборки:\")\n",
        "print(train %>% group_by(Species) %>% summarize(count = n()))\n",
        "print(\"или\")\n",
        "print(summary(train$Species))\n",
        "print(\"Кол-во пропущенных значений в обучающей выборке:\")\n",
        "print(sum(train == NA))\n",
        "print(\"Характеристика обучающей выборки:\")\n",
        "print(summary(train[,1:4], na.rm=TRUE))"
      ],
      "metadata": {
        "colab": {
          "base_uri": "https://localhost:8080/"
        },
        "id": "P9ADj2JHOc-n",
        "outputId": "81b6ac57-1415-4492-9e44-31434382aad6"
      },
      "execution_count": 243,
      "outputs": [
        {
          "output_type": "stream",
          "name": "stdout",
          "text": [
            "[1] \"Кол-во строк в обучающей выборке:\"\n",
            "[1] 120\n",
            "[1] \"Кол-во столбцов в обучающей выборке:\"\n",
            "[1] 5\n",
            "[1] \"Кол-во объектов в каждом классе обучающей выборки:\"\n",
            "\u001b[90m# A tibble: 3 × 2\u001b[39m\n",
            "  Species    count\n",
            "  \u001b[3m\u001b[90m<fct>\u001b[39m\u001b[23m      \u001b[3m\u001b[90m<int>\u001b[39m\u001b[23m\n",
            "\u001b[90m1\u001b[39m setosa        40\n",
            "\u001b[90m2\u001b[39m versicolor    39\n",
            "\u001b[90m3\u001b[39m virginica     41\n",
            "[1] \"или\"\n",
            "    setosa versicolor  virginica \n",
            "        40         39         41 \n",
            "[1] \"Кол-во пропущенных значений в обучающей выборке:\"\n",
            "[1] NA\n",
            "[1] \"Характеристика обучающей выборки:\"\n",
            "  Sepal.Length    Sepal.Width     Petal.Length    Petal.Width   \n",
            " Min.   :4.300   Min.   :2.000   Min.   :1.000   Min.   :0.100  \n",
            " 1st Qu.:5.200   1st Qu.:2.800   1st Qu.:1.600   1st Qu.:0.300  \n",
            " Median :5.800   Median :3.000   Median :4.400   Median :1.300  \n",
            " Mean   :5.832   Mean   :3.076   Mean   :3.743   Mean   :1.203  \n",
            " 3rd Qu.:6.400   3rd Qu.:3.400   3rd Qu.:5.100   3rd Qu.:1.800  \n",
            " Max.   :7.900   Max.   :4.400   Max.   :6.700   Max.   :2.500  \n"
          ]
        }
      ]
    },
    {
      "cell_type": "markdown",
      "source": [
        "#3"
      ],
      "metadata": {
        "id": "iXGLFK6KOjJ3"
      }
    },
    {
      "cell_type": "code",
      "source": [
        "#install.packages(\"e1071\")\n",
        "#install.packages(\"caret\")\n",
        "library(e1071)\n",
        "library(caret)"
      ],
      "metadata": {
        "id": "i5dGQlMtOgQR"
      },
      "execution_count": 244,
      "outputs": []
    },
    {
      "cell_type": "code",
      "source": [
        "model <- naiveBayes(Species ~ ., data = train)\n",
        "model"
      ],
      "metadata": {
        "colab": {
          "base_uri": "https://localhost:8080/",
          "height": 655
        },
        "id": "ipP81CYjOofn",
        "outputId": "38552f2f-76ad-430a-9f3d-9bd92475db2b"
      },
      "execution_count": 245,
      "outputs": [
        {
          "output_type": "display_data",
          "data": {
            "text/plain": [
              "\n",
              "Naive Bayes Classifier for Discrete Predictors\n",
              "\n",
              "Call:\n",
              "naiveBayes.default(x = X, y = Y, laplace = laplace)\n",
              "\n",
              "A-priori probabilities:\n",
              "Y\n",
              "    setosa versicolor  virginica \n",
              " 0.3333333  0.3250000  0.3416667 \n",
              "\n",
              "Conditional probabilities:\n",
              "            Sepal.Length\n",
              "Y                [,1]      [,2]\n",
              "  setosa     5.037500 0.3705073\n",
              "  versicolor 5.969231 0.4829481\n",
              "  virginica  6.475610 0.6069516\n",
              "\n",
              "            Sepal.Width\n",
              "Y                [,1]      [,2]\n",
              "  setosa     3.470000 0.3553258\n",
              "  versicolor 2.784615 0.3224401\n",
              "  virginica  2.968293 0.3282065\n",
              "\n",
              "            Petal.Length\n",
              "Y                [,1]      [,2]\n",
              "  setosa     1.467500 0.1899899\n",
              "  versicolor 4.274359 0.3697211\n",
              "  virginica  5.458537 0.4837229\n",
              "\n",
              "            Petal.Width\n",
              "Y                [,1]      [,2]\n",
              "  setosa     0.250000 0.1154701\n",
              "  versicolor 1.325641 0.1831277\n",
              "  virginica  2.017073 0.2737722\n"
            ]
          },
          "metadata": {}
        }
      ]
    },
    {
      "cell_type": "markdown",
      "source": [
        "#4"
      ],
      "metadata": {
        "id": "0Kx0gS8nOyCx"
      }
    },
    {
      "cell_type": "code",
      "source": [
        "pr_train <- predict(model, train)\n",
        "tab_train <- table(predict(model, train), train$Species)\n",
        "#print(pr_train)\n",
        "print(tab_train)"
      ],
      "metadata": {
        "colab": {
          "base_uri": "https://localhost:8080/"
        },
        "id": "oi-CelBWOsFY",
        "outputId": "9d74b854-92d9-4e1d-e934-b5e4b743621e"
      },
      "execution_count": 246,
      "outputs": [
        {
          "output_type": "stream",
          "name": "stdout",
          "text": [
            "            \n",
            "             setosa versicolor virginica\n",
            "  setosa         40          0         0\n",
            "  versicolor      0         37         2\n",
            "  virginica       0          2        39\n"
          ]
        }
      ]
    },
    {
      "cell_type": "code",
      "source": [
        "class_charact <- function(table, num_factor, log = TRUE){\n",
        "  if(log){\n",
        "    SE <- table[num_factor, num_factor] / (sum(table[, num_factor]))\n",
        "    SP_ch <- 0\n",
        "    SP_zn <- 0\n",
        "    for (i in 1:ncol(table)){\n",
        "      if (i != num_factor){\n",
        "        SP_ch <- SP_ch + table[i, 1]\n",
        "        SP_zn <- SP_zn + sum(table[i, ])\n",
        "      }\n",
        "    }\n",
        "    SP <- SP_ch / SP_zn\n",
        "    AC = sum(diag(table)) / sum(colSums(table))\n",
        "\n",
        "    m <- matrix(c(SE, SP, AC), ncol=3, byrow=TRUE)\n",
        "    colnames(m) <- c('Чувствительность','Специфичность','Точность')\n",
        "    rezult <- as.table(m)\n",
        "    print(rezult)\n",
        "    } else {\n",
        "      AC = sum(diag(table)) / sum(colSums(table))\n",
        "      return (AC)\n",
        "    }\n",
        "}"
      ],
      "metadata": {
        "id": "IEhl3dkEn1zu"
      },
      "execution_count": 278,
      "outputs": []
    },
    {
      "cell_type": "code",
      "source": [
        "print(\"Для обучающей выборки\")\n",
        "print(\"Класс setosa:\")\n",
        "class_charact(tab_train, 1)\n",
        "print(\"---------------\")\n",
        "print(\"Класс versicolor:\")\n",
        "class_charact(tab_train, 2)\n",
        "print(\"---------------\")\n",
        "print(\"Класс virginica:\")\n",
        "class_charact(tab_train, 3)"
      ],
      "metadata": {
        "colab": {
          "base_uri": "https://localhost:8080/"
        },
        "id": "7HfqEazq9jmC",
        "outputId": "40d2a035-8469-4ff9-e31c-491bd203f160"
      },
      "execution_count": 248,
      "outputs": [
        {
          "output_type": "stream",
          "name": "stdout",
          "text": [
            "[1] \"Для обучающей выборки\"\n",
            "[1] \"Класс setosa:\"\n",
            "  Чувствительность Специфичность  Точность\n",
            "A        1.0000000     0.0000000 0.9666667\n",
            "[1] \"---------------\"\n",
            "[1] \"Класс versicolor:\"\n",
            "  Чувствительность Специфичность  Точность\n",
            "A        0.9487179     0.4938272 0.9666667\n",
            "[1] \"---------------\"\n",
            "[1] \"Класс virginica:\"\n",
            "  Чувствительность Специфичность  Точность\n",
            "A        0.9512195     0.5063291 0.9666667\n"
          ]
        }
      ]
    },
    {
      "cell_type": "code",
      "source": [
        "pr_test <- predict(model, test)\n",
        "tab_test <- table(predict(model, test), test$Species)\n",
        "#print(pr_test)\n",
        "print(tab_test)"
      ],
      "metadata": {
        "colab": {
          "base_uri": "https://localhost:8080/"
        },
        "id": "MeE36uz7O3Kt",
        "outputId": "f401da62-633c-4a65-9d29-ba7ab4ccde24"
      },
      "execution_count": 249,
      "outputs": [
        {
          "output_type": "stream",
          "name": "stdout",
          "text": [
            "            \n",
            "             setosa versicolor virginica\n",
            "  setosa         10          0         0\n",
            "  versicolor      0          9         0\n",
            "  virginica       0          2         9\n"
          ]
        }
      ]
    },
    {
      "cell_type": "code",
      "source": [
        "print(\"Для тестовой выборки\")\n",
        "print(\"Класс setosa:\")\n",
        "class_charact(tab_test, 1)\n",
        "print(\"---------------\")\n",
        "print(\"Класс versicolor:\")\n",
        "class_charact(tab_test, 2)\n",
        "print(\"---------------\")\n",
        "print(\"Класс virginica:\")\n",
        "class_charact(tab_test, 3)"
      ],
      "metadata": {
        "colab": {
          "base_uri": "https://localhost:8080/"
        },
        "id": "SIJ4Rztf-gKm",
        "outputId": "ab830cfe-05ef-4a19-b6dc-bca19cc30d73"
      },
      "execution_count": 250,
      "outputs": [
        {
          "output_type": "stream",
          "name": "stdout",
          "text": [
            "[1] \"Для тестовой выборки\"\n",
            "[1] \"Класс setosa:\"\n",
            "  Чувствительность Специфичность  Точность\n",
            "A        1.0000000     0.0000000 0.9333333\n",
            "[1] \"---------------\"\n",
            "[1] \"Класс versicolor:\"\n",
            "  Чувствительность Специфичность  Точность\n",
            "A        0.8181818     0.4761905 0.9333333\n",
            "[1] \"---------------\"\n",
            "[1] \"Класс virginica:\"\n",
            "  Чувствительность Специфичность  Точность\n",
            "A        1.0000000     0.5263158 0.9333333\n"
          ]
        }
      ]
    },
    {
      "cell_type": "markdown",
      "source": [
        "#5"
      ],
      "metadata": {
        "id": "sCO_2_hSAz7j"
      }
    },
    {
      "cell_type": "code",
      "source": [
        "test2 <- test[, c(\"Petal.Length\",\t\"Petal.Width\", \"Species\")]\n",
        "train2 <- train[, c(\"Petal.Length\",\t\"Petal.Width\", \"Species\")]\n",
        "model2 <- naiveBayes(Species ~ ., data = train2)\n",
        "model2"
      ],
      "metadata": {
        "colab": {
          "base_uri": "https://localhost:8080/",
          "height": 436
        },
        "id": "b8rpPLi5A45h",
        "outputId": "454c91d6-aef2-4fc2-d127-3f08d17fe4f3"
      },
      "execution_count": 251,
      "outputs": [
        {
          "output_type": "display_data",
          "data": {
            "text/plain": [
              "\n",
              "Naive Bayes Classifier for Discrete Predictors\n",
              "\n",
              "Call:\n",
              "naiveBayes.default(x = X, y = Y, laplace = laplace)\n",
              "\n",
              "A-priori probabilities:\n",
              "Y\n",
              "    setosa versicolor  virginica \n",
              " 0.3333333  0.3250000  0.3416667 \n",
              "\n",
              "Conditional probabilities:\n",
              "            Petal.Length\n",
              "Y                [,1]      [,2]\n",
              "  setosa     1.467500 0.1899899\n",
              "  versicolor 4.274359 0.3697211\n",
              "  virginica  5.458537 0.4837229\n",
              "\n",
              "            Petal.Width\n",
              "Y                [,1]      [,2]\n",
              "  setosa     0.250000 0.1154701\n",
              "  versicolor 1.325641 0.1831277\n",
              "  virginica  2.017073 0.2737722\n"
            ]
          },
          "metadata": {}
        }
      ]
    },
    {
      "cell_type": "code",
      "source": [
        "pr_train2 <- predict(model2, train2)\n",
        "tab_train2 <- table(predict(model2, train2), train2$Species)\n",
        "print(tab_train2)"
      ],
      "metadata": {
        "colab": {
          "base_uri": "https://localhost:8080/"
        },
        "id": "qyVziOUEMo3Z",
        "outputId": "5c4145e7-c37b-4589-d533-d703d671e7d5"
      },
      "execution_count": 252,
      "outputs": [
        {
          "output_type": "stream",
          "name": "stdout",
          "text": [
            "            \n",
            "             setosa versicolor virginica\n",
            "  setosa         40          0         0\n",
            "  versicolor      0         38         2\n",
            "  virginica       0          1        39\n"
          ]
        }
      ]
    },
    {
      "cell_type": "code",
      "source": [
        "print(\"Для обучающей выборки\")\n",
        "print(\"Класс setosa:\")\n",
        "class_charact(tab_train2, 1)\n",
        "print(\"---------------\")\n",
        "print(\"Класс versicolor:\")\n",
        "class_charact(tab_train2, 2)\n",
        "print(\"---------------\")\n",
        "print(\"Класс virginica:\")\n",
        "class_charact(tab_train2, 3)"
      ],
      "metadata": {
        "colab": {
          "base_uri": "https://localhost:8080/"
        },
        "id": "WAL9v6x2CrR6",
        "outputId": "596fcf5a-9d94-4e94-fb8b-38f4f4e6302c"
      },
      "execution_count": 253,
      "outputs": [
        {
          "output_type": "stream",
          "name": "stdout",
          "text": [
            "[1] \"Для обучающей выборки\"\n",
            "[1] \"Класс setosa:\"\n",
            "  Чувствительность Специфичность Точность\n",
            "A            1.000         0.000    0.975\n",
            "[1] \"---------------\"\n",
            "[1] \"Класс versicolor:\"\n",
            "  Чувствительность Специфичность Точность\n",
            "A         0.974359      0.500000 0.975000\n",
            "[1] \"---------------\"\n",
            "[1] \"Класс virginica:\"\n",
            "  Чувствительность Специфичность  Точность\n",
            "A        0.9512195     0.5000000 0.9750000\n"
          ]
        }
      ]
    },
    {
      "cell_type": "code",
      "source": [
        "pr_test2 <- predict(model2, test2)\n",
        "tab_test2 <- table(predict(model2, test2), test2$Species)\n",
        "print(tab_test2)"
      ],
      "metadata": {
        "colab": {
          "base_uri": "https://localhost:8080/"
        },
        "id": "tXqMw0m8C4Ui",
        "outputId": "b6f58cc4-19a2-4a15-b519-3ae975f363e1"
      },
      "execution_count": 254,
      "outputs": [
        {
          "output_type": "stream",
          "name": "stdout",
          "text": [
            "            \n",
            "             setosa versicolor virginica\n",
            "  setosa         10          0         0\n",
            "  versicolor      0          9         0\n",
            "  virginica       0          2         9\n"
          ]
        }
      ]
    },
    {
      "cell_type": "code",
      "source": [
        "print(\"Для тестовой выборки\")\n",
        "print(\"Класс setosa:\")\n",
        "class_charact(tab_test2, 1)\n",
        "print(\"---------------\")\n",
        "print(\"Класс versicolor:\")\n",
        "class_charact(tab_test2, 2)\n",
        "print(\"---------------\")\n",
        "print(\"Класс virginica:\")\n",
        "class_charact(tab_test2, 3)"
      ],
      "metadata": {
        "colab": {
          "base_uri": "https://localhost:8080/"
        },
        "id": "m0tQnmJnDAIm",
        "outputId": "63ef5733-2f77-48e9-85bf-45df356115c7"
      },
      "execution_count": 255,
      "outputs": [
        {
          "output_type": "stream",
          "name": "stdout",
          "text": [
            "[1] \"Для тестовой выборки\"\n",
            "[1] \"Класс setosa:\"\n",
            "  Чувствительность Специфичность  Точность\n",
            "A        1.0000000     0.0000000 0.9333333\n",
            "[1] \"---------------\"\n",
            "[1] \"Класс versicolor:\"\n",
            "  Чувствительность Специфичность  Точность\n",
            "A        0.8181818     0.4761905 0.9333333\n",
            "[1] \"---------------\"\n",
            "[1] \"Класс virginica:\"\n",
            "  Чувствительность Специфичность  Точность\n",
            "A        1.0000000     0.5263158 0.9333333\n"
          ]
        }
      ]
    },
    {
      "cell_type": "markdown",
      "source": [
        "#6"
      ],
      "metadata": {
        "id": "MEE2W1GdD-RL"
      }
    },
    {
      "cell_type": "code",
      "source": [
        "#install.packages(\"rpart.plot\")\n",
        "library(rpart)\n",
        "library(rpart.plot)"
      ],
      "metadata": {
        "id": "WEJrTGdNI9D4"
      },
      "execution_count": 256,
      "outputs": []
    },
    {
      "cell_type": "code",
      "source": [
        "tree1 <- rpart(train$Species~., data = train, method = 'class')\n",
        "rpart.plot(tree1)"
      ],
      "metadata": {
        "colab": {
          "base_uri": "https://localhost:8080/",
          "height": 437
        },
        "id": "_jUmqhALDR1O",
        "outputId": "27733e22-6ec7-42a0-9db5-dbc9269088b3"
      },
      "execution_count": 257,
      "outputs": [
        {
          "output_type": "display_data",
          "data": {
            "text/plain": [
              "plot without title"
            ],
            "image/png": "[encoded data removed]"
          },
          "metadata": {
            "image/png": {
              "width": 420,
              "height": 420
            }
          }
        }
      ]
    },
    {
      "cell_type": "code",
      "source": [
        "plotcp(tree1)"
      ],
      "metadata": {
        "colab": {
          "base_uri": "https://localhost:8080/",
          "height": 437
        },
        "id": "_Q_u9GB2QSHw",
        "outputId": "4aa53b3b-6c17-4639-e4a2-6b3a5f21b15e"
      },
      "execution_count": 258,
      "outputs": [
        {
          "output_type": "display_data",
          "data": {
            "text/plain": [
              "plot without title"
            ],
            "image/png": "[encoded data removed]"
          },
          "metadata": {
            "image/png": {
              "width": 420,
              "height": 420
            }
          }
        }
      ]
    },
    {
      "cell_type": "code",
      "source": [
        "table_train1 <- table(train$Species, predict(tree1, train, type = 'class'))\n",
        "table_train1\n",
        "table_test1 <- table(test$Species, predict(tree1, test, type = 'class'))\n",
        "table_test1"
      ],
      "metadata": {
        "colab": {
          "base_uri": "https://localhost:8080/",
          "height": 199
        },
        "id": "PwqYJqG1JZ-U",
        "outputId": "e427ec1e-247b-4e5b-ef6f-568bf5a9e3f8"
      },
      "execution_count": 293,
      "outputs": [
        {
          "output_type": "display_data",
          "data": {
            "text/plain": [
              "            \n",
              "             setosa versicolor virginica\n",
              "  setosa         40          0         0\n",
              "  versicolor      0         38         1\n",
              "  virginica       0          2        39"
            ]
          },
          "metadata": {}
        },
        {
          "output_type": "display_data",
          "data": {
            "text/plain": [
              "            \n",
              "             setosa versicolor virginica\n",
              "  setosa         10          0         0\n",
              "  versicolor      0          8         3\n",
              "  virginica       0          1         8"
            ]
          },
          "metadata": {}
        }
      ]
    },
    {
      "cell_type": "code",
      "source": [
        "print(\"Класс setosa:\")\n",
        "class_charact(table_test1, 1)\n",
        "print(\"---------------\")\n",
        "print(\"Класс versicolor:\")\n",
        "class_charact(table_test1, 2)\n",
        "print(\"---------------\")\n",
        "print(\"Класс virginica:\")\n",
        "class_charact(table_test1, 3)"
      ],
      "metadata": {
        "colab": {
          "base_uri": "https://localhost:8080/"
        },
        "id": "4vvVZdNjPd5y",
        "outputId": "117e895b-9cd9-4c09-c8c3-cad2685cc646"
      },
      "execution_count": 260,
      "outputs": [
        {
          "output_type": "stream",
          "name": "stdout",
          "text": [
            "[1] \"Класс setosa:\"\n",
            "  Чувствительность Специфичность  Точность\n",
            "A        1.0000000     0.0000000 0.8666667\n",
            "[1] \"---------------\"\n",
            "[1] \"Класс versicolor:\"\n",
            "  Чувствительность Специфичность  Точность\n",
            "A        0.8888889     0.5263158 0.8666667\n",
            "[1] \"---------------\"\n",
            "[1] \"Класс virginica:\"\n",
            "  Чувствительность Специфичность  Точность\n",
            "A        0.7272727     0.4761905 0.8666667\n"
          ]
        }
      ]
    },
    {
      "cell_type": "code",
      "source": [
        "tree2 <- rpart(train2$Species~., data = train2, method = 'class')\n",
        "rpart.plot(tree2)"
      ],
      "metadata": {
        "colab": {
          "base_uri": "https://localhost:8080/",
          "height": 437
        },
        "id": "Vbp726i1Mpj_",
        "outputId": "52ab7d21-03a5-45de-d149-79191437d09e"
      },
      "execution_count": 261,
      "outputs": [
        {
          "output_type": "display_data",
          "data": {
            "text/plain": [
              "plot without title"
            ],
            "image/png": "[encoded data removed]"
          },
          "metadata": {
            "image/png": {
              "width": 420,
              "height": 420
            }
          }
        }
      ]
    },
    {
      "cell_type": "code",
      "source": [
        "plotcp(tree2)"
      ],
      "metadata": {
        "colab": {
          "base_uri": "https://localhost:8080/",
          "height": 437
        },
        "id": "e6AXoxm5QMya",
        "outputId": "44493b15-0b88-4501-8183-68e98991550c"
      },
      "execution_count": 262,
      "outputs": [
        {
          "output_type": "display_data",
          "data": {
            "text/plain": [
              "plot without title"
            ],
            "image/png": "[encoded data removed]"
          },
          "metadata": {
            "image/png": {
              "width": 420,
              "height": 420
            }
          }
        }
      ]
    },
    {
      "cell_type": "code",
      "source": [
        "table_train2 <- table(train2$Species, predict(tree2, train2, type = 'class'))\n",
        "table_train2\n",
        "table_test2 <- table(test2$Species, predict(tree2, test2, type = 'class'))\n",
        "table_test2"
      ],
      "metadata": {
        "colab": {
          "base_uri": "https://localhost:8080/",
          "height": 199
        },
        "id": "0udGbQN0M6W9",
        "outputId": "9a7865f0-9e8d-4400-ba87-f43429afcb90"
      },
      "execution_count": 292,
      "outputs": [
        {
          "output_type": "display_data",
          "data": {
            "text/plain": [
              "            \n",
              "             setosa versicolor virginica\n",
              "  setosa         40          0         0\n",
              "  versicolor      0         38         1\n",
              "  virginica       0          2        39"
            ]
          },
          "metadata": {}
        },
        {
          "output_type": "display_data",
          "data": {
            "text/plain": [
              "            \n",
              "             setosa versicolor virginica\n",
              "  setosa         10          0         0\n",
              "  versicolor      0          8         3\n",
              "  virginica       0          1         8"
            ]
          },
          "metadata": {}
        }
      ]
    },
    {
      "cell_type": "code",
      "source": [
        "print(\"Класс setosa:\")\n",
        "class_charact(table_test2, 1)\n",
        "print(\"---------------\")\n",
        "print(\"Класс versicolor:\")\n",
        "class_charact(table_test2, 2)\n",
        "print(\"---------------\")\n",
        "print(\"Класс virginica:\")\n",
        "class_charact(table_test2, 3)"
      ],
      "metadata": {
        "colab": {
          "base_uri": "https://localhost:8080/"
        },
        "id": "Rlu7eT4HPkkP",
        "outputId": "8774b8e4-45e6-41bc-8e49-765a0ed89e4d"
      },
      "execution_count": 264,
      "outputs": [
        {
          "output_type": "stream",
          "name": "stdout",
          "text": [
            "[1] \"Класс setosa:\"\n",
            "  Чувствительность Специфичность  Точность\n",
            "A        1.0000000     0.0000000 0.8666667\n",
            "[1] \"---------------\"\n",
            "[1] \"Класс versicolor:\"\n",
            "  Чувствительность Специфичность  Точность\n",
            "A        0.8888889     0.5263158 0.8666667\n",
            "[1] \"---------------\"\n",
            "[1] \"Класс virginica:\"\n",
            "  Чувствительность Специфичность  Точность\n",
            "A        0.7272727     0.4761905 0.8666667\n"
          ]
        }
      ]
    },
    {
      "cell_type": "markdown",
      "source": [
        "#7"
      ],
      "metadata": {
        "id": "CdIQHPJOd2sC"
      }
    },
    {
      "cell_type": "code",
      "source": [
        "SVM <- svm(Species~.,data = train, kernel=\"radial\", gamma=0.01, cost=10, scale = FALSE)\n",
        "SVM\n",
        "table_svm_tr <- table(train$Species, predict(SVM, train, decision.values = TRUE))\n",
        "table_svm_tr\n",
        "table_svm_te <- table(test$Species, predict(SVM, test, decision.values = TRUE))\n",
        "table_svm_te\n",
        "ac1 = class_charact(table_svm_tr, 1, FALSE)\n",
        "ac2 = class_charact(table_svm_te, 1, FALSE)"
      ],
      "metadata": {
        "colab": {
          "base_uri": "https://localhost:8080/",
          "height": 418
        },
        "id": "olLZZN1XdzDe",
        "outputId": "9343a22e-984d-44b3-aa90-98383982bb51"
      },
      "execution_count": 284,
      "outputs": [
        {
          "output_type": "display_data",
          "data": {
            "text/plain": [
              "\n",
              "Call:\n",
              "svm(formula = Species ~ ., data = train, kernel = \"radial\", gamma = 0.01, \n",
              "    cost = 10, scale = FALSE)\n",
              "\n",
              "\n",
              "Parameters:\n",
              "   SVM-Type:  C-classification \n",
              " SVM-Kernel:  radial \n",
              "       cost:  10 \n",
              "\n",
              "Number of Support Vectors:  41\n"
            ]
          },
          "metadata": {}
        },
        {
          "output_type": "display_data",
          "data": {
            "text/plain": [
              "            \n",
              "             setosa versicolor virginica\n",
              "  setosa         40          0         0\n",
              "  versicolor      0         38         1\n",
              "  virginica       0          0        41"
            ]
          },
          "metadata": {}
        },
        {
          "output_type": "display_data",
          "data": {
            "text/plain": [
              "            \n",
              "             setosa versicolor virginica\n",
              "  setosa         10          0         0\n",
              "  versicolor      0          8         3\n",
              "  virginica       0          0         9"
            ]
          },
          "metadata": {}
        }
      ]
    },
    {
      "cell_type": "code",
      "source": [
        "SVM2 <- svm(Species~., data = train2, kernel = \"radial\", gamma = 0.01, cost = 10, scale = FALSE)\n",
        "SVM2\n",
        "table_svm_tr2 <- table(train2$Species, predict(SVM2, train2, decision.values = TRUE))\n",
        "table_svm_tr2\n",
        "table_svm_te2 <- table(test2$Species, predict(SVM2, test2, decision.values = TRUE))\n",
        "table_svm_te2\n",
        "ac3 = class_charact(table_svm_tr2, 1, FALSE)\n",
        "ac4 = class_charact(table_svm_te2, 1, FALSE)"
      ],
      "metadata": {
        "colab": {
          "base_uri": "https://localhost:8080/",
          "height": 418
        },
        "id": "f1j-hs8EfI51",
        "outputId": "1a7f7e38-b97c-4694-d22b-0ca5a948ae57"
      },
      "execution_count": 285,
      "outputs": [
        {
          "output_type": "display_data",
          "data": {
            "text/plain": [
              "\n",
              "Call:\n",
              "svm(formula = Species ~ ., data = train2, kernel = \"radial\", gamma = 0.01, \n",
              "    cost = 10, scale = FALSE)\n",
              "\n",
              "\n",
              "Parameters:\n",
              "   SVM-Type:  C-classification \n",
              " SVM-Kernel:  radial \n",
              "       cost:  10 \n",
              "\n",
              "Number of Support Vectors:  40\n"
            ]
          },
          "metadata": {}
        },
        {
          "output_type": "display_data",
          "data": {
            "text/plain": [
              "            \n",
              "             setosa versicolor virginica\n",
              "  setosa         40          0         0\n",
              "  versicolor      0         38         1\n",
              "  virginica       0          2        39"
            ]
          },
          "metadata": {}
        },
        {
          "output_type": "display_data",
          "data": {
            "text/plain": [
              "            \n",
              "             setosa versicolor virginica\n",
              "  setosa         10          0         0\n",
              "  versicolor      0          9         2\n",
              "  virginica       0          0         9"
            ]
          },
          "metadata": {}
        }
      ]
    },
    {
      "cell_type": "markdown",
      "source": [
        "#8"
      ],
      "metadata": {
        "id": "_QZZ1GCNgzaD"
      }
    },
    {
      "cell_type": "code",
      "source": [
        "SVM_lin <- svm(Species~., data = train, kernel = 'linear', gamma = 0.01, cost = 10)\n",
        "SVM_lin\n",
        "table_svm_lin_tr <- table(train$Species, predict(SVM_lin, train, decision.values = TRUE))\n",
        "table_svm_lin_tr\n",
        "table_svm_lin_te <- table(test$Species, predict(SVM_lin, test, decision.values = TRUE))\n",
        "table_svm_lin_te\n",
        "ac5 = class_charact(table_svm_lin_tr, 1, FALSE)\n",
        "ac6 = class_charact(table_svm_lin_te, 1, FALSE)"
      ],
      "metadata": {
        "id": "K4LDprPYgzHW",
        "outputId": "f87c21f3-1cb8-47cb-d3be-fff495ef1d11",
        "colab": {
          "base_uri": "https://localhost:8080/",
          "height": 418
        }
      },
      "execution_count": 286,
      "outputs": [
        {
          "output_type": "display_data",
          "data": {
            "text/plain": [
              "\n",
              "Call:\n",
              "svm(formula = Species ~ ., data = train, kernel = \"linear\", gamma = 0.01, \n",
              "    cost = 10)\n",
              "\n",
              "\n",
              "Parameters:\n",
              "   SVM-Type:  C-classification \n",
              " SVM-Kernel:  linear \n",
              "       cost:  10 \n",
              "\n",
              "Number of Support Vectors:  12\n"
            ]
          },
          "metadata": {}
        },
        {
          "output_type": "display_data",
          "data": {
            "text/plain": [
              "            \n",
              "             setosa versicolor virginica\n",
              "  setosa         40          0         0\n",
              "  versicolor      0         38         1\n",
              "  virginica       0          0        41"
            ]
          },
          "metadata": {}
        },
        {
          "output_type": "display_data",
          "data": {
            "text/plain": [
              "            \n",
              "             setosa versicolor virginica\n",
              "  setosa         10          0         0\n",
              "  versicolor      0          8         3\n",
              "  virginica       0          0         9"
            ]
          },
          "metadata": {}
        }
      ]
    },
    {
      "cell_type": "code",
      "source": [
        "SVM_lin2 <- svm(Species~., data = train2, kernel = 'linear', gamma = 0.01, cost = 10)\n",
        "SVM_lin2\n",
        "table_svm_lin_tr2 <- table(train2$Species, predict(SVM_lin2, train2, decision.values = TRUE))\n",
        "table_svm_lin_tr2\n",
        "table_svm_lin_te2 <- table(test2$Species, predict(SVM_lin2, test2, decision.values = TRUE))\n",
        "table_svm_lin_te2\n",
        "ac7 = class_charact(table_svm_lin_tr2, 1, FALSE)\n",
        "ac8 = class_charact(table_svm_lin_te2, 1, FALSE)"
      ],
      "metadata": {
        "id": "BMlo-RFUh3Q-",
        "outputId": "74346cf3-1861-408c-e845-69d1fa3d5447",
        "colab": {
          "base_uri": "https://localhost:8080/",
          "height": 418
        }
      },
      "execution_count": 287,
      "outputs": [
        {
          "output_type": "display_data",
          "data": {
            "text/plain": [
              "\n",
              "Call:\n",
              "svm(formula = Species ~ ., data = train2, kernel = \"linear\", gamma = 0.01, \n",
              "    cost = 10)\n",
              "\n",
              "\n",
              "Parameters:\n",
              "   SVM-Type:  C-classification \n",
              " SVM-Kernel:  linear \n",
              "       cost:  10 \n",
              "\n",
              "Number of Support Vectors:  14\n"
            ]
          },
          "metadata": {}
        },
        {
          "output_type": "display_data",
          "data": {
            "text/plain": [
              "            \n",
              "             setosa versicolor virginica\n",
              "  setosa         40          0         0\n",
              "  versicolor      0         38         1\n",
              "  virginica       0          2        39"
            ]
          },
          "metadata": {}
        },
        {
          "output_type": "display_data",
          "data": {
            "text/plain": [
              "            \n",
              "             setosa versicolor virginica\n",
              "  setosa         10          0         0\n",
              "  versicolor      0          9         2\n",
              "  virginica       0          0         9"
            ]
          },
          "metadata": {}
        }
      ]
    },
    {
      "cell_type": "code",
      "source": [
        "SVM_sig <- svm(Species~., data = train, kernel = 'sigmoid', gamma = 0.01, cost = 10)\n",
        "SVM_sig\n",
        "table_svm_sig_tr <- table(train$Species, predict(SVM_sig, train, decision.values = TRUE))\n",
        "table_svm_sig_tr\n",
        "table_svm_sig_te <- table(test$Species, predict(SVM_sig, test, decision.values = TRUE))\n",
        "table_svm_sig_te\n",
        "ac9 = class_charact(table_svm_sig_tr, 1, FALSE)\n",
        "ac10 = class_charact(table_svm_sig_te, 1, FALSE)"
      ],
      "metadata": {
        "id": "CMci-e4giF6z",
        "outputId": "476478b9-edc1-4fe3-d18a-773d8e220069",
        "colab": {
          "base_uri": "https://localhost:8080/",
          "height": 436
        }
      },
      "execution_count": 288,
      "outputs": [
        {
          "output_type": "display_data",
          "data": {
            "text/plain": [
              "\n",
              "Call:\n",
              "svm(formula = Species ~ ., data = train, kernel = \"sigmoid\", gamma = 0.01, \n",
              "    cost = 10)\n",
              "\n",
              "\n",
              "Parameters:\n",
              "   SVM-Type:  C-classification \n",
              " SVM-Kernel:  sigmoid \n",
              "       cost:  10 \n",
              "     coef.0:  0 \n",
              "\n",
              "Number of Support Vectors:  60\n"
            ]
          },
          "metadata": {}
        },
        {
          "output_type": "display_data",
          "data": {
            "text/plain": [
              "            \n",
              "             setosa versicolor virginica\n",
              "  setosa         40          0         0\n",
              "  versicolor      0         39         0\n",
              "  virginica       0          2        39"
            ]
          },
          "metadata": {}
        },
        {
          "output_type": "display_data",
          "data": {
            "text/plain": [
              "            \n",
              "             setosa versicolor virginica\n",
              "  setosa         10          0         0\n",
              "  versicolor      0          9         2\n",
              "  virginica       0          0         9"
            ]
          },
          "metadata": {}
        }
      ]
    },
    {
      "cell_type": "code",
      "source": [
        "SVM_sig2 <- svm(Species~., data = train2, kernel = 'sigmoid', gamma = 0.01, cost = 10)\n",
        "SVM_sig2\n",
        "table_svm_sig_tr2 <- table(train2$Species, predict(SVM_sig2, train2, decision.values = TRUE))\n",
        "table_svm_sig_tr2\n",
        "table_svm_sig_te2 <- table(test2$Species, predict(SVM_sig2, test2, decision.values = TRUE))\n",
        "table_svm_sig_te2\n",
        "ac11 = class_charact(table_svm_sig_tr2, 1, FALSE)\n",
        "ac12 = class_charact(table_svm_sig_te2, 1, FALSE)"
      ],
      "metadata": {
        "id": "9EPBQ7wkiY1X",
        "outputId": "62442034-5c61-4bf6-c8d4-9a7eb907cd54",
        "colab": {
          "base_uri": "https://localhost:8080/",
          "height": 436
        }
      },
      "execution_count": 289,
      "outputs": [
        {
          "output_type": "display_data",
          "data": {
            "text/plain": [
              "\n",
              "Call:\n",
              "svm(formula = Species ~ ., data = train2, kernel = \"sigmoid\", gamma = 0.01, \n",
              "    cost = 10)\n",
              "\n",
              "\n",
              "Parameters:\n",
              "   SVM-Type:  C-classification \n",
              " SVM-Kernel:  sigmoid \n",
              "       cost:  10 \n",
              "     coef.0:  0 \n",
              "\n",
              "Number of Support Vectors:  62\n"
            ]
          },
          "metadata": {}
        },
        {
          "output_type": "display_data",
          "data": {
            "text/plain": [
              "            \n",
              "             setosa versicolor virginica\n",
              "  setosa         40          0         0\n",
              "  versicolor      0         38         1\n",
              "  virginica       0          4        37"
            ]
          },
          "metadata": {}
        },
        {
          "output_type": "display_data",
          "data": {
            "text/plain": [
              "            \n",
              "             setosa versicolor virginica\n",
              "  setosa         10          0         0\n",
              "  versicolor      0         10         1\n",
              "  virginica       0          0         9"
            ]
          },
          "metadata": {}
        }
      ]
    },
    {
      "cell_type": "code",
      "source": [
        "r1 = c('SVM_radial', ac1, ac2, 4)\n",
        "r2 = c('SVM_radial', ac3, ac4, 2)\n",
        "r3 = c('SVM_linear', ac5, ac6, 4)\n",
        "r4 = c('SVM_linear', ac7, ac8, 2)\n",
        "r5 = c('SVM_sigmoid', ac9, ac10, 4)\n",
        "r6 = c('SVM_sigmoid', ac11, ac12, 2)\n",
        "\n",
        "table_0 <- matrix(c(r1,r2,r3,r4,r5,r6), ncol=4, byrow=TRUE)\n",
        "colnames(table_0) <- c('function', 'train', 'test', 'count factor')\n",
        "rezult <- as.table(table_0)\n",
        "print(rezult)"
      ],
      "metadata": {
        "id": "1XKzsngjijhw",
        "outputId": "61be5215-a103-4ce6-e8ea-62e3cad68ac0",
        "colab": {
          "base_uri": "https://localhost:8080/"
        }
      },
      "execution_count": 296,
      "outputs": [
        {
          "output_type": "stream",
          "name": "stdout",
          "text": [
            "  function    train             test              count factor\n",
            "A SVM_radial  0.991666666666667 0.9               4           \n",
            "B SVM_radial  0.975             0.933333333333333 2           \n",
            "C SVM_linear  0.991666666666667 0.9               4           \n",
            "D SVM_linear  0.975             0.933333333333333 2           \n",
            "E SVM_sigmoid 0.983333333333333 0.933333333333333 4           \n",
            "F SVM_sigmoid 0.958333333333333 0.966666666666667 2           \n"
          ]
        }
      ]
    },
    {
      "cell_type": "markdown",
      "source": [
        "#9"
      ],
      "metadata": {
        "id": "ZuE_7_-cijwm"
      }
    },
    {
      "cell_type": "code",
      "source": [
        "r7 <- c('naiveBayes', class_charact(tab_train,1,FALSE), class_charact(tab_test,1,FALSE),4)\n",
        "r8 <- c('naiveBayes', class_charact(tab_train2,1,FALSE), class_charact(tab_test2,1,FALSE),2)\n",
        "r9 <- c('decTree', class_charact(table_train1,1,FALSE), class_charact(table_test1,1,FALSE),4)\n",
        "r10 <- c('decTree', class_charact(table_train2,1,FALSE), class_charact(table_test2,1,FALSE),2)\n",
        "table_1 <- matrix(c(r1,r2,r3,r4,r5,r6,r7,r8,r9,r10), ncol=4, byrow=TRUE)\n",
        "colnames(table_1) <- c('function', 'train', 'test', 'count factor')\n",
        "rezult2 <- as.table(table_1)\n",
        "print(rezult2)"
      ],
      "metadata": {
        "id": "CgTkO54flfa-",
        "outputId": "16ad6d27-0ff2-4360-ceb4-2edf39237d53",
        "colab": {
          "base_uri": "https://localhost:8080/"
        }
      },
      "execution_count": 297,
      "outputs": [
        {
          "output_type": "stream",
          "name": "stdout",
          "text": [
            "  function    train             test              count factor\n",
            "A SVM_radial  0.991666666666667 0.9               4           \n",
            "B SVM_radial  0.975             0.933333333333333 2           \n",
            "C SVM_linear  0.991666666666667 0.9               4           \n",
            "D SVM_linear  0.975             0.933333333333333 2           \n",
            "E SVM_sigmoid 0.983333333333333 0.933333333333333 4           \n",
            "F SVM_sigmoid 0.958333333333333 0.966666666666667 2           \n",
            "G naiveBayes  0.966666666666667 0.933333333333333 4           \n",
            "H naiveBayes  0.975             0.933333333333333 2           \n",
            "I decTree     0.975             0.866666666666667 4           \n",
            "J decTree     0.975             0.866666666666667 2           \n"
          ]
        }
      ]
    }
  ]
}