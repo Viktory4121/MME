{
  "nbformat": 4,
  "nbformat_minor": 0,
  "metadata": {
    "colab": {
      "provenance": [],
      "authorship_tag": "ABX9TyNFPRz5qDmMDEEQvzTdlzQR",
      "include_colab_link": true
    },
    "kernelspec": {
      "name": "ir",
      "display_name": "R"
    },
    "language_info": {
      "name": "R"
    }
  },
  "cells": [
    {
      "cell_type": "markdown",
      "metadata": {
        "id": "view-in-github",
        "colab_type": "text"
      },
      "source": [
        "<a href=\"https://colab.research.google.com/github/Viktory4121/MME/blob/main/Untitled4.ipynb\" target=\"_parent\"><img src=\"https://colab.research.google.com/assets/colab-badge.svg\" alt=\"Open In Colab\"/></a>"
      ]
    },
    {
      "cell_type": "markdown",
      "source": [
        "#1"
      ],
      "metadata": {
        "id": "iip_e0QFOMk8"
      }
    },
    {
      "cell_type": "code",
      "execution_count": 1,
      "metadata": {
        "colab": {
          "base_uri": "https://localhost:8080/",
          "height": 286
        },
        "id": "CsMke_DdNsdd",
        "outputId": "1710243e-0a9e-4e00-afa3-207d523f6a69"
      },
      "outputs": [
        {
          "output_type": "display_data",
          "data": {
            "text/html": [
              "<table class=\"dataframe\">\n",
              "<caption>A data.frame: 6 × 5</caption>\n",
              "<thead>\n",
              "\t<tr><th></th><th scope=col>Sepal.Length</th><th scope=col>Sepal.Width</th><th scope=col>Petal.Length</th><th scope=col>Petal.Width</th><th scope=col>Species</th></tr>\n",
              "\t<tr><th></th><th scope=col>&lt;dbl&gt;</th><th scope=col>&lt;dbl&gt;</th><th scope=col>&lt;dbl&gt;</th><th scope=col>&lt;dbl&gt;</th><th scope=col>&lt;fct&gt;</th></tr>\n",
              "</thead>\n",
              "<tbody>\n",
              "\t<tr><th scope=row>1</th><td>5.1</td><td>3.5</td><td>1.4</td><td>0.2</td><td>setosa</td></tr>\n",
              "\t<tr><th scope=row>2</th><td>4.9</td><td>3.0</td><td>1.4</td><td>0.2</td><td>setosa</td></tr>\n",
              "\t<tr><th scope=row>3</th><td>4.7</td><td>3.2</td><td>1.3</td><td>0.2</td><td>setosa</td></tr>\n",
              "\t<tr><th scope=row>4</th><td>4.6</td><td>3.1</td><td>1.5</td><td>0.2</td><td>setosa</td></tr>\n",
              "\t<tr><th scope=row>5</th><td>5.0</td><td>3.6</td><td>1.4</td><td>0.2</td><td>setosa</td></tr>\n",
              "\t<tr><th scope=row>6</th><td>5.4</td><td>3.9</td><td>1.7</td><td>0.4</td><td>setosa</td></tr>\n",
              "</tbody>\n",
              "</table>\n"
            ],
            "text/markdown": "\nA data.frame: 6 × 5\n\n| <!--/--> | Sepal.Length &lt;dbl&gt; | Sepal.Width &lt;dbl&gt; | Petal.Length &lt;dbl&gt; | Petal.Width &lt;dbl&gt; | Species &lt;fct&gt; |\n|---|---|---|---|---|---|\n| 1 | 5.1 | 3.5 | 1.4 | 0.2 | setosa |\n| 2 | 4.9 | 3.0 | 1.4 | 0.2 | setosa |\n| 3 | 4.7 | 3.2 | 1.3 | 0.2 | setosa |\n| 4 | 4.6 | 3.1 | 1.5 | 0.2 | setosa |\n| 5 | 5.0 | 3.6 | 1.4 | 0.2 | setosa |\n| 6 | 5.4 | 3.9 | 1.7 | 0.4 | setosa |\n\n",
            "text/latex": "A data.frame: 6 × 5\n\\begin{tabular}{r|lllll}\n  & Sepal.Length & Sepal.Width & Petal.Length & Petal.Width & Species\\\\\n  & <dbl> & <dbl> & <dbl> & <dbl> & <fct>\\\\\n\\hline\n\t1 & 5.1 & 3.5 & 1.4 & 0.2 & setosa\\\\\n\t2 & 4.9 & 3.0 & 1.4 & 0.2 & setosa\\\\\n\t3 & 4.7 & 3.2 & 1.3 & 0.2 & setosa\\\\\n\t4 & 4.6 & 3.1 & 1.5 & 0.2 & setosa\\\\\n\t5 & 5.0 & 3.6 & 1.4 & 0.2 & setosa\\\\\n\t6 & 5.4 & 3.9 & 1.7 & 0.4 & setosa\\\\\n\\end{tabular}\n",
            "text/plain": [
              "  Sepal.Length Sepal.Width Petal.Length Petal.Width Species\n",
              "1 5.1          3.5         1.4          0.2         setosa \n",
              "2 4.9          3.0         1.4          0.2         setosa \n",
              "3 4.7          3.2         1.3          0.2         setosa \n",
              "4 4.6          3.1         1.5          0.2         setosa \n",
              "5 5.0          3.6         1.4          0.2         setosa \n",
              "6 5.4          3.9         1.7          0.4         setosa "
            ]
          },
          "metadata": {}
        }
      ],
      "source": [
        "library(datasets)\n",
        "data <- iris\n",
        "head(data)"
      ]
    },
    {
      "cell_type": "markdown",
      "source": [
        "#2"
      ],
      "metadata": {
        "id": "TBRQYwQEORVI"
      }
    },
    {
      "cell_type": "code",
      "source": [
        "index <- sample(1:nrow(data), nrow(data) * 0.8) \n",
        "test <- data[-c(index), ]\n",
        "train <- data[index, ]"
      ],
      "metadata": {
        "id": "OsfCYqBkN_-K"
      },
      "execution_count": 2,
      "outputs": []
    },
    {
      "cell_type": "code",
      "source": [
        "library(dplyr)"
      ],
      "metadata": {
        "colab": {
          "base_uri": "https://localhost:8080/"
        },
        "id": "G5ldqn42OVHP",
        "outputId": "eedcaaa8-e8ce-4464-f601-0222686948e9"
      },
      "execution_count": 3,
      "outputs": [
        {
          "output_type": "stream",
          "name": "stderr",
          "text": [
            "\n",
            "Attaching package: ‘dplyr’\n",
            "\n",
            "\n",
            "The following objects are masked from ‘package:stats’:\n",
            "\n",
            "    filter, lag\n",
            "\n",
            "\n",
            "The following objects are masked from ‘package:base’:\n",
            "\n",
            "    intersect, setdiff, setequal, union\n",
            "\n",
            "\n"
          ]
        }
      ]
    },
    {
      "cell_type": "code",
      "source": [
        "print(\"Кол-во строк в тестовой выборке:\")\n",
        "print(nrow(test))\n",
        "print(\"Кол-во столбцов в тестовой выборке:\")\n",
        "print(ncol(test))\n",
        "print(\"Кол-во объектов в каждом классе тестовой выборки:\")\n",
        "print(test %>% group_by(Species) %>% summarize(count = n()))\n",
        "print(\"или\")\n",
        "print(summary(test$Species))\n",
        "print(\"Кол-во пропущенных значений в тестовой выборке:\")\n",
        "print(sum(test == NA))\n",
        "print(\"Характеристика тестовой выборки:\")\n",
        "print(summary(test[,1:4], na.rm=TRUE))"
      ],
      "metadata": {
        "colab": {
          "base_uri": "https://localhost:8080/"
        },
        "id": "AbTToxPIOZ1B",
        "outputId": "fad77dfa-81b9-491e-b621-dfdb9f66dbd7"
      },
      "execution_count": 4,
      "outputs": [
        {
          "output_type": "stream",
          "name": "stdout",
          "text": [
            "[1] \"Кол-во строк в тестовой выборке:\"\n",
            "[1] 30\n",
            "[1] \"Кол-во столбцов в тестовой выборке:\"\n",
            "[1] 5\n",
            "[1] \"Кол-во объектов в каждом классе тестовой выборки:\"\n",
            "\u001b[90m# A tibble: 3 × 2\u001b[39m\n",
            "  Species    count\n",
            "  \u001b[3m\u001b[90m<fct>\u001b[39m\u001b[23m      \u001b[3m\u001b[90m<int>\u001b[39m\u001b[23m\n",
            "\u001b[90m1\u001b[39m setosa         9\n",
            "\u001b[90m2\u001b[39m versicolor     7\n",
            "\u001b[90m3\u001b[39m virginica     14\n",
            "[1] \"или\"\n",
            "    setosa versicolor  virginica \n",
            "         9          7         14 \n",
            "[1] \"Кол-во пропущенных значений в тестовой выборке:\"\n",
            "[1] NA\n",
            "[1] \"Характеристика тестовой выборки:\"\n",
            "  Sepal.Length    Sepal.Width     Petal.Length    Petal.Width   \n",
            " Min.   :4.400   Min.   :2.500   Min.   :1.300   Min.   :0.100  \n",
            " 1st Qu.:5.425   1st Qu.:2.800   1st Qu.:1.675   1st Qu.:0.200  \n",
            " Median :5.950   Median :3.000   Median :4.800   Median :1.550  \n",
            " Mean   :5.980   Mean   :3.067   Mean   :4.097   Mean   :1.347  \n",
            " 3rd Qu.:6.625   3rd Qu.:3.275   3rd Qu.:5.550   3rd Qu.:2.050  \n",
            " Max.   :7.700   Max.   :3.800   Max.   :6.700   Max.   :2.500  \n"
          ]
        }
      ]
    },
    {
      "cell_type": "code",
      "source": [
        "print(\"Кол-во строк в обучающей выборке:\")\n",
        "print(nrow(train))\n",
        "print(\"Кол-во столбцов в обучающей выборке:\")\n",
        "print(ncol(train))\n",
        "print(\"Кол-во объектов в каждом классе обучающей выборки:\")\n",
        "print(train %>% group_by(Species) %>% summarize(count = n()))\n",
        "print(\"или\")\n",
        "print(summary(train$Species))\n",
        "print(\"Кол-во пропущенных значений в обучающей выборке:\")\n",
        "print(sum(train == NA))\n",
        "print(\"Характеристика обучающей выборки:\")\n",
        "print(summary(train[,1:4], na.rm=TRUE))"
      ],
      "metadata": {
        "colab": {
          "base_uri": "https://localhost:8080/"
        },
        "id": "P9ADj2JHOc-n",
        "outputId": "2ef295b6-eb19-44b4-ed75-ef09791d1f3f"
      },
      "execution_count": 5,
      "outputs": [
        {
          "output_type": "stream",
          "name": "stdout",
          "text": [
            "[1] \"Кол-во строк в обучающей выборке:\"\n",
            "[1] 120\n",
            "[1] \"Кол-во столбцов в обучающей выборке:\"\n",
            "[1] 5\n",
            "[1] \"Кол-во объектов в каждом классе обучающей выборки:\"\n",
            "\u001b[90m# A tibble: 3 × 2\u001b[39m\n",
            "  Species    count\n",
            "  \u001b[3m\u001b[90m<fct>\u001b[39m\u001b[23m      \u001b[3m\u001b[90m<int>\u001b[39m\u001b[23m\n",
            "\u001b[90m1\u001b[39m setosa        41\n",
            "\u001b[90m2\u001b[39m versicolor    43\n",
            "\u001b[90m3\u001b[39m virginica     36\n",
            "[1] \"или\"\n",
            "    setosa versicolor  virginica \n",
            "        41         43         36 \n",
            "[1] \"Кол-во пропущенных значений в обучающей выборке:\"\n",
            "[1] NA\n",
            "[1] \"Характеристика обучающей выборки:\"\n",
            "  Sepal.Length    Sepal.Width     Petal.Length    Petal.Width   \n",
            " Min.   :4.300   Min.   :2.000   Min.   :1.000   Min.   :0.100  \n",
            " 1st Qu.:5.100   1st Qu.:2.800   1st Qu.:1.500   1st Qu.:0.300  \n",
            " Median :5.700   Median :3.000   Median :4.200   Median :1.300  \n",
            " Mean   :5.809   Mean   :3.055   Mean   :3.673   Mean   :1.163  \n",
            " 3rd Qu.:6.400   3rd Qu.:3.400   3rd Qu.:5.000   3rd Qu.:1.800  \n",
            " Max.   :7.900   Max.   :4.400   Max.   :6.900   Max.   :2.500  \n"
          ]
        }
      ]
    },
    {
      "cell_type": "markdown",
      "source": [
        "#3"
      ],
      "metadata": {
        "id": "iXGLFK6KOjJ3"
      }
    },
    {
      "cell_type": "code",
      "source": [
        "#install.packages(\"e1071\")\n",
        "#install.packages(\"caret\")\n",
        "library(e1071)\n",
        "library(caret)"
      ],
      "metadata": {
        "colab": {
          "base_uri": "https://localhost:8080/"
        },
        "id": "i5dGQlMtOgQR",
        "outputId": "bd72f8f8-b5d0-4453-a79c-ecc473783c78"
      },
      "execution_count": 7,
      "outputs": [
        {
          "output_type": "stream",
          "name": "stderr",
          "text": [
            "Installing package into ‘/usr/local/lib/R/site-library’\n",
            "(as ‘lib’ is unspecified)\n",
            "\n",
            "also installing the dependency ‘proxy’\n",
            "\n",
            "\n",
            "Installing package into ‘/usr/local/lib/R/site-library’\n",
            "(as ‘lib’ is unspecified)\n",
            "\n",
            "also installing the dependencies ‘listenv’, ‘parallelly’, ‘future’, ‘globals’, ‘future.apply’, ‘numDeriv’, ‘progressr’, ‘SQUAREM’, ‘lava’, ‘prodlim’, ‘iterators’, ‘Rcpp’, ‘gower’, ‘hardhat’, ‘ipred’, ‘timeDate’, ‘foreach’, ‘ModelMetrics’, ‘plyr’, ‘pROC’, ‘recipes’, ‘reshape2’\n",
            "\n",
            "\n",
            "Loading required package: ggplot2\n",
            "\n",
            "Loading required package: lattice\n",
            "\n",
            "Warning message in system(\"timedatectl\", intern = TRUE):\n",
            "“running command 'timedatectl' had status 1”\n"
          ]
        }
      ]
    },
    {
      "cell_type": "code",
      "source": [
        "model <- naiveBayes(Species ~ ., data = train)\n",
        "model"
      ],
      "metadata": {
        "colab": {
          "base_uri": "https://localhost:8080/",
          "height": 655
        },
        "id": "ipP81CYjOofn",
        "outputId": "92e3dd0e-a18b-4b6d-f9ac-fd8ae1334796"
      },
      "execution_count": 8,
      "outputs": [
        {
          "output_type": "display_data",
          "data": {
            "text/plain": [
              "\n",
              "Naive Bayes Classifier for Discrete Predictors\n",
              "\n",
              "Call:\n",
              "naiveBayes.default(x = X, y = Y, laplace = laplace)\n",
              "\n",
              "A-priori probabilities:\n",
              "Y\n",
              "    setosa versicolor  virginica \n",
              " 0.3416667  0.3583333  0.3000000 \n",
              "\n",
              "Conditional probabilities:\n",
              "            Sepal.Length\n",
              "Y                [,1]      [,2]\n",
              "  setosa     5.026829 0.3556855\n",
              "  versicolor 5.916279 0.5300181\n",
              "  virginica  6.572222 0.6345352\n",
              "\n",
              "            Sepal.Width\n",
              "Y                [,1]      [,2]\n",
              "  setosa     3.458537 0.3955854\n",
              "  versicolor 2.739535 0.3222980\n",
              "  virginica  2.972222 0.3185782\n",
              "\n",
              "            Petal.Length\n",
              "Y                [,1]      [,2]\n",
              "  setosa     1.453659 0.1718976\n",
              "  versicolor 4.234884 0.4715141\n",
              "  virginica  5.530556 0.5691193\n",
              "\n",
              "            Petal.Width\n",
              "Y                 [,1]      [,2]\n",
              "  setosa     0.2634146 0.1066679\n",
              "  versicolor 1.3162791 0.1999169\n",
              "  virginica  2.0027778 0.2667113\n"
            ]
          },
          "metadata": {}
        }
      ]
    },
    {
      "cell_type": "markdown",
      "source": [
        "#4"
      ],
      "metadata": {
        "id": "0Kx0gS8nOyCx"
      }
    },
    {
      "cell_type": "code",
      "source": [
        "pr_train <- predict(model, train)\n",
        "tab_train <- table(predict(model, train), train$Species)\n",
        "print(pr_train)\n",
        "print(tab_train)"
      ],
      "metadata": {
        "colab": {
          "base_uri": "https://localhost:8080/"
        },
        "id": "oi-CelBWOsFY",
        "outputId": "8bb04c92-c401-4711-97d9-3b659d224c50"
      },
      "execution_count": 44,
      "outputs": [
        {
          "output_type": "stream",
          "name": "stdout",
          "text": [
            "  [1] versicolor versicolor setosa     setosa     setosa     setosa    \n",
            "  [7] versicolor versicolor virginica  versicolor setosa     versicolor\n",
            " [13] virginica  virginica  setosa     setosa     versicolor versicolor\n",
            " [19] setosa     virginica  virginica  versicolor setosa     versicolor\n",
            " [25] setosa     virginica  versicolor virginica  setosa     virginica \n",
            " [31] setosa     setosa     virginica  virginica  versicolor virginica \n",
            " [37] versicolor virginica  setosa     virginica  setosa     virginica \n",
            " [43] versicolor versicolor setosa     setosa     setosa     virginica \n",
            " [49] virginica  setosa     virginica  versicolor virginica  setosa    \n",
            " [55] virginica  versicolor versicolor setosa     setosa     versicolor\n",
            " [61] setosa     versicolor versicolor versicolor virginica  setosa    \n",
            " [67] versicolor setosa     versicolor virginica  versicolor setosa    \n",
            " [73] setosa     setosa     setosa     versicolor setosa     setosa    \n",
            " [79] virginica  setosa     virginica  versicolor setosa     versicolor\n",
            " [85] versicolor versicolor virginica  virginica  versicolor virginica \n",
            " [91] setosa     virginica  versicolor virginica  setosa     versicolor\n",
            " [97] versicolor virginica  versicolor setosa     virginica  virginica \n",
            "[103] versicolor versicolor virginica  setosa     setosa     virginica \n",
            "[109] versicolor versicolor versicolor virginica  versicolor versicolor\n",
            "[115] setosa     virginica  versicolor setosa     setosa     virginica \n",
            "Levels: setosa versicolor virginica\n",
            "            \n",
            "             setosa versicolor virginica\n",
            "  setosa         41          0         0\n",
            "  versicolor      0         41         2\n",
            "  virginica       0          2        34\n"
          ]
        }
      ]
    },
    {
      "cell_type": "code",
      "source": [
        "pr_test <- predict(model, test)\n",
        "tab_test <- table(predict(model, test), test$Species)\n",
        "print(pr_test)\n",
        "print(tab_test)"
      ],
      "metadata": {
        "colab": {
          "base_uri": "https://localhost:8080/"
        },
        "id": "MeE36uz7O3Kt",
        "outputId": "10db7947-5c2e-4ffb-d2e4-f950b3a3022b"
      },
      "execution_count": 45,
      "outputs": [
        {
          "output_type": "stream",
          "name": "stdout",
          "text": [
            " [1] setosa     setosa     setosa     setosa     setosa     setosa    \n",
            " [7] setosa     setosa     setosa     versicolor versicolor versicolor\n",
            "[13] versicolor versicolor virginica  versicolor virginica  virginica \n",
            "[19] virginica  virginica  virginica  virginica  virginica  virginica \n",
            "[25] versicolor virginica  virginica  virginica  virginica  virginica \n",
            "Levels: setosa versicolor virginica\n",
            "            \n",
            "             setosa versicolor virginica\n",
            "  setosa          9          0         0\n",
            "  versicolor      0          6         1\n",
            "  virginica       0          1        13\n"
          ]
        }
      ]
    },
    {
      "cell_type": "code",
      "source": [
        "confusionMatrix(train$Species, pr_train)"
      ],
      "metadata": {
        "colab": {
          "base_uri": "https://localhost:8080/",
          "height": 135
        },
        "id": "ZUt0dypHQ3oY",
        "outputId": "29d3d174-5111-4107-d633-d140973d837a"
      },
      "execution_count": 53,
      "outputs": [
        {
          "output_type": "stream",
          "name": "stderr",
          "text": [
            "Warning message in Ops.factor(predictedScores, threshold):\n",
            "“‘<’ not meaningful for factors”\n"
          ]
        },
        {
          "output_type": "display_data",
          "data": {
            "text/html": [
              "<table class=\"dataframe\">\n",
              "<caption>A data.frame: 0 × 3</caption>\n",
              "<thead>\n",
              "\t<tr><th scope=col>setosa</th><th scope=col>versicolor</th><th scope=col>virginica</th></tr>\n",
              "\t<tr><th scope=col>&lt;int&gt;</th><th scope=col>&lt;int&gt;</th><th scope=col>&lt;int&gt;</th></tr>\n",
              "</thead>\n",
              "<tbody>\n",
              "</tbody>\n",
              "</table>\n"
            ],
            "text/markdown": "\nA data.frame: 0 × 3\n\n| setosa &lt;int&gt; | versicolor &lt;int&gt; | virginica &lt;int&gt; |\n|---|---|---|\n\n",
            "text/latex": "A data.frame: 0 × 3\n\\begin{tabular}{lll}\n setosa & versicolor & virginica\\\\\n <int> & <int> & <int>\\\\\n\\hline\n\\end{tabular}\n",
            "text/plain": [
              "     setosa versicolor virginica"
            ]
          },
          "metadata": {}
        }
      ]
    },
    {
      "cell_type": "code",
      "source": [
        "sensitivity(train$Species, pr_train)"
      ],
      "metadata": {
        "colab": {
          "base_uri": "https://localhost:8080/",
          "height": 71
        },
        "id": "SbX8HVFaJYYt",
        "outputId": "c56e21da-c29f-46c9-e97e-d2096601c37d"
      },
      "execution_count": 48,
      "outputs": [
        {
          "output_type": "stream",
          "name": "stderr",
          "text": [
            "Warning message in Ops.factor(predictedScores, threshold):\n",
            "“‘<’ not meaningful for factors”\n"
          ]
        },
        {
          "output_type": "display_data",
          "data": {
            "text/html": [
              "NaN"
            ],
            "text/markdown": "NaN",
            "text/latex": "NaN",
            "text/plain": [
              "[1] NaN"
            ]
          },
          "metadata": {}
        }
      ]
    },
    {
      "cell_type": "code",
      "source": [
        "specificity(train$Species, pr_train)"
      ],
      "metadata": {
        "colab": {
          "base_uri": "https://localhost:8080/",
          "height": 71
        },
        "id": "8kMVKV7uLuhG",
        "outputId": "79580f11-0a40-4ed4-a9b8-c28874ad4988"
      },
      "execution_count": 49,
      "outputs": [
        {
          "output_type": "stream",
          "name": "stderr",
          "text": [
            "Warning message in Ops.factor(predictedScores, threshold):\n",
            "“‘<’ not meaningful for factors”\n"
          ]
        },
        {
          "output_type": "display_data",
          "data": {
            "text/html": [
              "0"
            ],
            "text/markdown": "0",
            "text/latex": "0",
            "text/plain": [
              "[1] 0"
            ]
          },
          "metadata": {}
        }
      ]
    },
    {
      "cell_type": "code",
      "source": [
        "#misClassError(train$Species, pr_train, threshold=optimal)"
      ],
      "metadata": {
        "id": "9h1iZ2UQMgcZ"
      },
      "execution_count": 54,
      "outputs": []
    },
    {
      "cell_type": "code",
      "source": [
        "control <- trainControl(method=\"cv\", number=5)\n",
        "set.seed(7)\n",
        "fit <- train(Species~., data=train, method=\"lm\", metric=\"RMSE\", trControl=control)"
      ],
      "metadata": {
        "colab": {
          "base_uri": "https://localhost:8080/",
          "height": 244
        },
        "id": "qyVziOUEMo3Z",
        "outputId": "974d9f84-4a99-4432-9de3-41d5d054197f"
      },
      "execution_count": 59,
      "outputs": [
        {
          "output_type": "error",
          "ename": "ERROR",
          "evalue": "ignored",
          "traceback": [
            "Error: wrong model type for classification\nTraceback:\n",
            "1. train(Species ~ ., data = train, method = \"lm\", metric = \"RMSE\", \n .     trControl = control)",
            "2. train.formula(Species ~ ., data = train, method = \"lm\", metric = \"RMSE\", \n .     trControl = control)",
            "3. train(x, y, weights = w, ...)",
            "4. train.default(x, y, weights = w, ...)",
            "5. stop(paste(\"wrong model type for\", tolower(modelType)), call. = FALSE)"
          ]
        }
      ]
    }
  ]
}