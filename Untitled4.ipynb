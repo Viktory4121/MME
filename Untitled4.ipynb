{
  "nbformat": 4,
  "nbformat_minor": 0,
  "metadata": {
    "colab": {
      "provenance": [],
      "authorship_tag": "ABX9TyNglahpfhluxGDfqTpktseU",
      "include_colab_link": true
    },
    "kernelspec": {
      "name": "ir",
      "display_name": "R"
    },
    "language_info": {
      "name": "R"
    }
  },
  "cells": [
    {
      "cell_type": "markdown",
      "metadata": {
        "id": "view-in-github",
        "colab_type": "text"
      },
      "source": [
        "<a href=\"https://colab.research.google.com/github/Viktory4121/MME/blob/main/Untitled4.ipynb\" target=\"_parent\"><img src=\"https://colab.research.google.com/assets/colab-badge.svg\" alt=\"Open In Colab\"/></a>"
      ]
    },
    {
      "cell_type": "markdown",
      "source": [
        "#1"
      ],
      "metadata": {
        "id": "iip_e0QFOMk8"
      }
    },
    {
      "cell_type": "code",
      "execution_count": 1,
      "metadata": {
        "colab": {
          "base_uri": "https://localhost:8080/",
          "height": 286
        },
        "id": "CsMke_DdNsdd",
        "outputId": "612505b1-7eb5-4d63-8520-672dc1da3d6f"
      },
      "outputs": [
        {
          "output_type": "display_data",
          "data": {
            "text/html": [
              "<table class=\"dataframe\">\n",
              "<caption>A data.frame: 6 × 5</caption>\n",
              "<thead>\n",
              "\t<tr><th></th><th scope=col>Sepal.Length</th><th scope=col>Sepal.Width</th><th scope=col>Petal.Length</th><th scope=col>Petal.Width</th><th scope=col>Species</th></tr>\n",
              "\t<tr><th></th><th scope=col>&lt;dbl&gt;</th><th scope=col>&lt;dbl&gt;</th><th scope=col>&lt;dbl&gt;</th><th scope=col>&lt;dbl&gt;</th><th scope=col>&lt;fct&gt;</th></tr>\n",
              "</thead>\n",
              "<tbody>\n",
              "\t<tr><th scope=row>1</th><td>5.1</td><td>3.5</td><td>1.4</td><td>0.2</td><td>setosa</td></tr>\n",
              "\t<tr><th scope=row>2</th><td>4.9</td><td>3.0</td><td>1.4</td><td>0.2</td><td>setosa</td></tr>\n",
              "\t<tr><th scope=row>3</th><td>4.7</td><td>3.2</td><td>1.3</td><td>0.2</td><td>setosa</td></tr>\n",
              "\t<tr><th scope=row>4</th><td>4.6</td><td>3.1</td><td>1.5</td><td>0.2</td><td>setosa</td></tr>\n",
              "\t<tr><th scope=row>5</th><td>5.0</td><td>3.6</td><td>1.4</td><td>0.2</td><td>setosa</td></tr>\n",
              "\t<tr><th scope=row>6</th><td>5.4</td><td>3.9</td><td>1.7</td><td>0.4</td><td>setosa</td></tr>\n",
              "</tbody>\n",
              "</table>\n"
            ],
            "text/markdown": "\nA data.frame: 6 × 5\n\n| <!--/--> | Sepal.Length &lt;dbl&gt; | Sepal.Width &lt;dbl&gt; | Petal.Length &lt;dbl&gt; | Petal.Width &lt;dbl&gt; | Species &lt;fct&gt; |\n|---|---|---|---|---|---|\n| 1 | 5.1 | 3.5 | 1.4 | 0.2 | setosa |\n| 2 | 4.9 | 3.0 | 1.4 | 0.2 | setosa |\n| 3 | 4.7 | 3.2 | 1.3 | 0.2 | setosa |\n| 4 | 4.6 | 3.1 | 1.5 | 0.2 | setosa |\n| 5 | 5.0 | 3.6 | 1.4 | 0.2 | setosa |\n| 6 | 5.4 | 3.9 | 1.7 | 0.4 | setosa |\n\n",
            "text/latex": "A data.frame: 6 × 5\n\\begin{tabular}{r|lllll}\n  & Sepal.Length & Sepal.Width & Petal.Length & Petal.Width & Species\\\\\n  & <dbl> & <dbl> & <dbl> & <dbl> & <fct>\\\\\n\\hline\n\t1 & 5.1 & 3.5 & 1.4 & 0.2 & setosa\\\\\n\t2 & 4.9 & 3.0 & 1.4 & 0.2 & setosa\\\\\n\t3 & 4.7 & 3.2 & 1.3 & 0.2 & setosa\\\\\n\t4 & 4.6 & 3.1 & 1.5 & 0.2 & setosa\\\\\n\t5 & 5.0 & 3.6 & 1.4 & 0.2 & setosa\\\\\n\t6 & 5.4 & 3.9 & 1.7 & 0.4 & setosa\\\\\n\\end{tabular}\n",
            "text/plain": [
              "  Sepal.Length Sepal.Width Petal.Length Petal.Width Species\n",
              "1 5.1          3.5         1.4          0.2         setosa \n",
              "2 4.9          3.0         1.4          0.2         setosa \n",
              "3 4.7          3.2         1.3          0.2         setosa \n",
              "4 4.6          3.1         1.5          0.2         setosa \n",
              "5 5.0          3.6         1.4          0.2         setosa \n",
              "6 5.4          3.9         1.7          0.4         setosa "
            ]
          },
          "metadata": {}
        }
      ],
      "source": [
        "library(datasets)\n",
        "data <- iris\n",
        "head(data)"
      ]
    },
    {
      "cell_type": "markdown",
      "source": [
        "#2"
      ],
      "metadata": {
        "id": "TBRQYwQEORVI"
      }
    },
    {
      "cell_type": "code",
      "source": [
        "index <- sample(1:nrow(data), nrow(data) * 0.8) \n",
        "test <- data[-c(index), ]\n",
        "train <- data[index, ]"
      ],
      "metadata": {
        "id": "OsfCYqBkN_-K"
      },
      "execution_count": 2,
      "outputs": []
    },
    {
      "cell_type": "code",
      "source": [
        "library(dplyr)"
      ],
      "metadata": {
        "colab": {
          "base_uri": "https://localhost:8080/"
        },
        "id": "G5ldqn42OVHP",
        "outputId": "2f4da451-afe7-45a9-c102-260109a32c19"
      },
      "execution_count": 3,
      "outputs": [
        {
          "output_type": "stream",
          "name": "stderr",
          "text": [
            "\n",
            "Attaching package: ‘dplyr’\n",
            "\n",
            "\n",
            "The following objects are masked from ‘package:stats’:\n",
            "\n",
            "    filter, lag\n",
            "\n",
            "\n",
            "The following objects are masked from ‘package:base’:\n",
            "\n",
            "    intersect, setdiff, setequal, union\n",
            "\n",
            "\n"
          ]
        }
      ]
    },
    {
      "cell_type": "code",
      "source": [
        "print(\"Кол-во строк в тестовой выборке:\")\n",
        "print(nrow(test))\n",
        "print(\"Кол-во столбцов в тестовой выборке:\")\n",
        "print(ncol(test))\n",
        "print(\"Кол-во объектов в каждом классе тестовой выборки:\")\n",
        "print(test %>% group_by(Species) %>% summarize(count = n()))\n",
        "print(\"или\")\n",
        "print(summary(test$Species))\n",
        "print(\"Кол-во пропущенных значений в тестовой выборке:\")\n",
        "print(sum(test == NA))\n",
        "print(\"Характеристика тестовой выборки:\")\n",
        "print(summary(test[,1:4], na.rm=TRUE))"
      ],
      "metadata": {
        "colab": {
          "base_uri": "https://localhost:8080/"
        },
        "id": "AbTToxPIOZ1B",
        "outputId": "6e8fe4d5-31e0-4190-a56f-29173dedf414"
      },
      "execution_count": 4,
      "outputs": [
        {
          "output_type": "stream",
          "name": "stdout",
          "text": [
            "[1] \"Кол-во строк в тестовой выборке:\"\n",
            "[1] 30\n",
            "[1] \"Кол-во столбцов в тестовой выборке:\"\n",
            "[1] 5\n",
            "[1] \"Кол-во объектов в каждом классе тестовой выборки:\"\n",
            "\u001b[90m# A tibble: 3 × 2\u001b[39m\n",
            "  Species    count\n",
            "  \u001b[3m\u001b[90m<fct>\u001b[39m\u001b[23m      \u001b[3m\u001b[90m<int>\u001b[39m\u001b[23m\n",
            "\u001b[90m1\u001b[39m setosa        10\n",
            "\u001b[90m2\u001b[39m versicolor    11\n",
            "\u001b[90m3\u001b[39m virginica      9\n",
            "[1] \"или\"\n",
            "    setosa versicolor  virginica \n",
            "        10         11          9 \n",
            "[1] \"Кол-во пропущенных значений в тестовой выборке:\"\n",
            "[1] NA\n",
            "[1] \"Характеристика тестовой выборки:\"\n",
            "  Sepal.Length    Sepal.Width     Petal.Length    Petal.Width   \n",
            " Min.   :4.500   Min.   :2.000   Min.   :1.300   Min.   :0.100  \n",
            " 1st Qu.:5.000   1st Qu.:2.725   1st Qu.:1.500   1st Qu.:0.300  \n",
            " Median :5.700   Median :3.000   Median :4.350   Median :1.300  \n",
            " Mean   :5.743   Mean   :2.983   Mean   :3.723   Mean   :1.163  \n",
            " 3rd Qu.:6.400   3rd Qu.:3.300   3rd Qu.:4.975   3rd Qu.:1.800  \n",
            " Max.   :7.400   Max.   :3.700   Max.   :6.100   Max.   :2.500  \n"
          ]
        }
      ]
    },
    {
      "cell_type": "code",
      "source": [
        "print(\"Кол-во строк в обучающей выборке:\")\n",
        "print(nrow(train))\n",
        "print(\"Кол-во столбцов в обучающей выборке:\")\n",
        "print(ncol(train))\n",
        "print(\"Кол-во объектов в каждом классе обучающей выборки:\")\n",
        "print(train %>% group_by(Species) %>% summarize(count = n()))\n",
        "print(\"или\")\n",
        "print(summary(train$Species))\n",
        "print(\"Кол-во пропущенных значений в обучающей выборке:\")\n",
        "print(sum(train == 'NA'))\n",
        "print(\"Характеристика обучающей выборки:\")\n",
        "print(summary(train[,1:4], na.rm=TRUE))"
      ],
      "metadata": {
        "colab": {
          "base_uri": "https://localhost:8080/"
        },
        "id": "P9ADj2JHOc-n",
        "outputId": "3f029c31-17b7-4778-d211-f16c155cf858"
      },
      "execution_count": 5,
      "outputs": [
        {
          "output_type": "stream",
          "name": "stdout",
          "text": [
            "[1] \"Кол-во строк в обучающей выборке:\"\n",
            "[1] 120\n",
            "[1] \"Кол-во столбцов в обучающей выборке:\"\n",
            "[1] 5\n",
            "[1] \"Кол-во объектов в каждом классе обучающей выборки:\"\n",
            "\u001b[90m# A tibble: 3 × 2\u001b[39m\n",
            "  Species    count\n",
            "  \u001b[3m\u001b[90m<fct>\u001b[39m\u001b[23m      \u001b[3m\u001b[90m<int>\u001b[39m\u001b[23m\n",
            "\u001b[90m1\u001b[39m setosa        40\n",
            "\u001b[90m2\u001b[39m versicolor    39\n",
            "\u001b[90m3\u001b[39m virginica     41\n",
            "[1] \"или\"\n",
            "    setosa versicolor  virginica \n",
            "        40         39         41 \n",
            "[1] \"Кол-во пропущенных значений в обучающей выборке:\"\n",
            "[1] 0\n",
            "[1] \"Характеристика обучающей выборки:\"\n",
            "  Sepal.Length    Sepal.Width     Petal.Length    Petal.Width   \n",
            " Min.   :4.300   Min.   :2.200   Min.   :1.000   Min.   :0.100  \n",
            " 1st Qu.:5.100   1st Qu.:2.800   1st Qu.:1.600   1st Qu.:0.300  \n",
            " Median :5.800   Median :3.000   Median :4.350   Median :1.300  \n",
            " Mean   :5.868   Mean   :3.076   Mean   :3.767   Mean   :1.208  \n",
            " 3rd Qu.:6.400   3rd Qu.:3.325   3rd Qu.:5.100   3rd Qu.:1.800  \n",
            " Max.   :7.900   Max.   :4.400   Max.   :6.900   Max.   :2.500  \n"
          ]
        }
      ]
    },
    {
      "cell_type": "markdown",
      "source": [
        "#3"
      ],
      "metadata": {
        "id": "iXGLFK6KOjJ3"
      }
    },
    {
      "cell_type": "code",
      "source": [
        "#install.packages(\"e1071\")\n",
        "#install.packages(\"caret\")\n",
        "library(e1071)\n",
        "library(caret)"
      ],
      "metadata": {
        "colab": {
          "base_uri": "https://localhost:8080/"
        },
        "id": "i5dGQlMtOgQR",
        "outputId": "75040053-4489-4d03-f72e-3a1692324ef2"
      },
      "execution_count": 9,
      "outputs": [
        {
          "output_type": "stream",
          "name": "stderr",
          "text": [
            "Installing package into ‘/usr/local/lib/R/site-library’\n",
            "(as ‘lib’ is unspecified)\n",
            "\n",
            "Installing package into ‘/usr/local/lib/R/site-library’\n",
            "(as ‘lib’ is unspecified)\n",
            "\n",
            "Warning message in system(\"timedatectl\", intern = TRUE):\n",
            "“running command 'timedatectl' had status 1”\n"
          ]
        }
      ]
    },
    {
      "cell_type": "code",
      "source": [
        "model <- naiveBayes(Species ~ ., data = train)\n",
        "model"
      ],
      "metadata": {
        "colab": {
          "base_uri": "https://localhost:8080/",
          "height": 655
        },
        "id": "ipP81CYjOofn",
        "outputId": "362e5c46-c772-4c3a-ce7d-bc937f6754ec"
      },
      "execution_count": 10,
      "outputs": [
        {
          "output_type": "display_data",
          "data": {
            "text/plain": [
              "\n",
              "Naive Bayes Classifier for Discrete Predictors\n",
              "\n",
              "Call:\n",
              "naiveBayes.default(x = X, y = Y, laplace = laplace)\n",
              "\n",
              "A-priori probabilities:\n",
              "Y\n",
              "    setosa versicolor  virginica \n",
              " 0.3333333  0.3250000  0.3416667 \n",
              "\n",
              "Conditional probabilities:\n",
              "            Sepal.Length\n",
              "Y                [,1]      [,2]\n",
              "  setosa     5.032500 0.3682164\n",
              "  versicolor 5.943590 0.5235481\n",
              "  virginica  6.612195 0.6697743\n",
              "\n",
              "            Sepal.Width\n",
              "Y                [,1]      [,2]\n",
              "  setosa     3.460000 0.3726551\n",
              "  versicolor 2.771795 0.2892356\n",
              "  virginica  2.990244 0.3284851\n",
              "\n",
              "            Petal.Length\n",
              "Y                [,1]      [,2]\n",
              "  setosa     1.465000 0.1874936\n",
              "  versicolor 4.246154 0.4988651\n",
              "  virginica  5.556098 0.5779484\n",
              "\n",
              "            Petal.Width\n",
              "Y                [,1]      [,2]\n",
              "  setosa     0.252500 0.1085747\n",
              "  versicolor 1.328205 0.1986119\n",
              "  virginica  2.026829 0.2872494\n"
            ]
          },
          "metadata": {}
        }
      ]
    },
    {
      "cell_type": "markdown",
      "source": [
        "#4"
      ],
      "metadata": {
        "id": "0Kx0gS8nOyCx"
      }
    },
    {
      "cell_type": "code",
      "source": [
        "pr_train <- predict(model, train)\n",
        "tab_train <- table(predict(model, train), train$Species)\n",
        "print(pr_train)\n",
        "print(tab_train)"
      ],
      "metadata": {
        "colab": {
          "base_uri": "https://localhost:8080/"
        },
        "id": "oi-CelBWOsFY",
        "outputId": "2e028cf2-4eef-47ed-8dd9-bf2344d3df02"
      },
      "execution_count": 11,
      "outputs": [
        {
          "output_type": "stream",
          "name": "stdout",
          "text": [
            "  [1] versicolor versicolor versicolor virginica  virginica  virginica \n",
            "  [7] versicolor setosa     versicolor setosa     versicolor setosa    \n",
            " [13] versicolor versicolor setosa     virginica  setosa     setosa    \n",
            " [19] versicolor virginica  virginica  setosa     versicolor versicolor\n",
            " [25] setosa     versicolor virginica  setosa     virginica  versicolor\n",
            " [31] virginica  virginica  virginica  versicolor setosa     versicolor\n",
            " [37] setosa     setosa     versicolor versicolor setosa     virginica \n",
            " [43] versicolor virginica  virginica  virginica  setosa     setosa    \n",
            " [49] versicolor setosa     versicolor setosa     setosa     versicolor\n",
            " [55] virginica  virginica  setosa     virginica  setosa     virginica \n",
            " [61] virginica  versicolor virginica  setosa     setosa     versicolor\n",
            " [67] setosa     virginica  virginica  virginica  setosa     versicolor\n",
            " [73] versicolor setosa     versicolor setosa     versicolor versicolor\n",
            " [79] setosa     virginica  versicolor versicolor virginica  setosa    \n",
            " [85] virginica  virginica  setosa     virginica  setosa     setosa    \n",
            " [91] setosa     versicolor virginica  versicolor setosa     setosa    \n",
            " [97] versicolor setosa     virginica  virginica  versicolor versicolor\n",
            "[103] virginica  versicolor versicolor virginica  versicolor virginica \n",
            "[109] setosa     setosa     virginica  versicolor virginica  virginica \n",
            "[115] versicolor setosa     setosa     virginica  setosa     virginica \n",
            "Levels: setosa versicolor virginica\n",
            "            \n",
            "             setosa versicolor virginica\n",
            "  setosa         40          0         0\n",
            "  versicolor      0         36         4\n",
            "  virginica       0          3        37\n"
          ]
        }
      ]
    },
    {
      "cell_type": "code",
      "source": [
        "pr_test <- predict(model, test)\n",
        "tab_test <- table(predict(model, test), test$Species)\n",
        "print(pr_test)\n",
        "print(tab_test)"
      ],
      "metadata": {
        "colab": {
          "base_uri": "https://localhost:8080/"
        },
        "id": "MeE36uz7O3Kt",
        "outputId": "6ebc24d8-c9fb-480a-fa5f-5b536534fea1"
      },
      "execution_count": 12,
      "outputs": [
        {
          "output_type": "stream",
          "name": "stdout",
          "text": [
            " [1] setosa     setosa     setosa     setosa     setosa     setosa    \n",
            " [7] setosa     setosa     setosa     setosa     versicolor versicolor\n",
            "[13] versicolor versicolor versicolor versicolor versicolor versicolor\n",
            "[19] versicolor versicolor versicolor virginica  virginica  virginica \n",
            "[25] virginica  virginica  virginica  virginica  virginica  virginica \n",
            "Levels: setosa versicolor virginica\n",
            "            \n",
            "             setosa versicolor virginica\n",
            "  setosa         10          0         0\n",
            "  versicolor      0         11         0\n",
            "  virginica       0          0         9\n"
          ]
        }
      ]
    },
    {
      "cell_type": "code",
      "source": [],
      "metadata": {
        "id": "ZUt0dypHQ3oY"
      },
      "execution_count": null,
      "outputs": []
    }
  ]
}