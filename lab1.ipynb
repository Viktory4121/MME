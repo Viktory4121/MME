{
  "nbformat": 4,
  "nbformat_minor": 0,
  "metadata": {
    "colab": {
      "provenance": [],
      "authorship_tag": "ABX9TyPPJ0KpDL00uKv08j//D5US",
      "include_colab_link": true
    },
    "kernelspec": {
      "name": "python3",
      "display_name": "Python 3"
    },
    "language_info": {
      "name": "python"
    }
  },
  "cells": [
    {
      "cell_type": "markdown",
      "metadata": {
        "id": "view-in-github",
        "colab_type": "text"
      },
      "source": [
        "<a href=\"https://colab.research.google.com/github/Viktory4121/MME/blob/main/lab1.ipynb\" target=\"_parent\"><img src=\"https://colab.research.google.com/assets/colab-badge.svg\" alt=\"Open In Colab\"/></a>"
      ]
    },
    {
      "cell_type": "code",
      "execution_count": 1,
      "metadata": {
        "id": "YeS6qraGw6fu"
      },
      "outputs": [],
      "source": [
        "%load_ext rpy2.ipython"
      ]
    },
    {
      "cell_type": "markdown",
      "source": [
        "#Пункт 1"
      ],
      "metadata": {
        "id": "rb3SP2fJOXxR"
      }
    },
    {
      "cell_type": "code",
      "source": [
        "%%R\n",
        "library(datasets)\n",
        "data <- airquality\n",
        "head(data)"
      ],
      "metadata": {
        "id": "jLeURSWexvTP",
        "outputId": "445b4f16-ec95-440f-ab44-e163b8ddc4e7",
        "colab": {
          "base_uri": "https://localhost:8080/"
        }
      },
      "execution_count": 2,
      "outputs": [
        {
          "output_type": "stream",
          "name": "stdout",
          "text": [
            "  Ozone Solar.R Wind Temp Month Day\n",
            "1    41     190  7.4   67     5   1\n",
            "2    36     118  8.0   72     5   2\n",
            "3    12     149 12.6   74     5   3\n",
            "4    18     313 11.5   62     5   4\n",
            "5    NA      NA 14.3   56     5   5\n",
            "6    28      NA 14.9   66     5   6\n"
          ]
        }
      ]
    },
    {
      "cell_type": "markdown",
      "source": [
        "#Пункт 2\n"
      ],
      "metadata": {
        "id": "TwB6EsgjOj8k"
      }
    },
    {
      "cell_type": "code",
      "source": [
        "%%R\n",
        "print(\"Кол-во строк:\")\n",
        "print(nrow(data))\n",
        "print(\"Кол-во столбцов:\")\n",
        "print(ncol(data))"
      ],
      "metadata": {
        "id": "7SwkppfzzY4Z",
        "outputId": "57f3aa2d-ec6a-4f41-a340-70ffc1fdb02d",
        "colab": {
          "base_uri": "https://localhost:8080/"
        }
      },
      "execution_count": 3,
      "outputs": [
        {
          "output_type": "stream",
          "name": "stdout",
          "text": [
            "[1] \"Кол-во строк:\"\n",
            "[1] 153\n",
            "[1] \"Кол-во столбцов:\"\n",
            "[1] 6\n"
          ]
        }
      ]
    },
    {
      "cell_type": "code",
      "source": [
        "%%R\n",
        "print(\"Kоличество непустых строк:\")\n",
        "nrow(na.omit(data))"
      ],
      "metadata": {
        "colab": {
          "base_uri": "https://localhost:8080/"
        },
        "id": "oLv4nbnFOuGi",
        "outputId": "167fd7a8-5257-4e25-ee79-b936dce8c8b6"
      },
      "execution_count": 4,
      "outputs": [
        {
          "output_type": "stream",
          "name": "stdout",
          "text": [
            "[1] \"Kоличество непустых строк:\"\n",
            "[1] 111\n"
          ]
        }
      ]
    },
    {
      "cell_type": "code",
      "source": [
        "%%R\n",
        "print(\"Kоличество строк, имеющих пропусkи одновременно в столбцах Ozone и Solar.R:\")\n",
        "nrow(data[data$Ozone %in% NA & data$Solar.R %in% NA,1:2])"
      ],
      "metadata": {
        "colab": {
          "base_uri": "https://localhost:8080/"
        },
        "id": "bnhQORL7Ru6e",
        "outputId": "015102c1-57fd-400b-812e-b45156fdd326"
      },
      "execution_count": 5,
      "outputs": [
        {
          "output_type": "stream",
          "name": "stdout",
          "text": [
            "[1] \"Kоличество строк, имеющих пропусkи одновременно в столбцах Ozone и Solar.R:\"\n",
            "[1] 2\n"
          ]
        }
      ]
    },
    {
      "cell_type": "code",
      "source": [
        "%%R\n",
        "print(\"Статистика по первым четырём столбцам:\")\n",
        "summary(data[,1:4])"
      ],
      "metadata": {
        "colab": {
          "base_uri": "https://localhost:8080/"
        },
        "id": "dyMIdLF1HcTL",
        "outputId": "b0cfcf25-543e-44d8-fd3d-b744de9820b0"
      },
      "execution_count": 6,
      "outputs": [
        {
          "output_type": "stream",
          "name": "stdout",
          "text": [
            "[1] \"Статистика по первым четырём столбцам:\"\n",
            "     Ozone           Solar.R           Wind             Temp      \n",
            " Min.   :  1.00   Min.   :  7.0   Min.   : 1.700   Min.   :56.00  \n",
            " 1st Qu.: 18.00   1st Qu.:115.8   1st Qu.: 7.400   1st Qu.:72.00  \n",
            " Median : 31.50   Median :205.0   Median : 9.700   Median :79.00  \n",
            " Mean   : 42.13   Mean   :185.9   Mean   : 9.958   Mean   :77.88  \n",
            " 3rd Qu.: 63.25   3rd Qu.:258.8   3rd Qu.:11.500   3rd Qu.:85.00  \n",
            " Max.   :168.00   Max.   :334.0   Max.   :20.700   Max.   :97.00  \n",
            " NA's   :37       NA's   :7                                       \n"
          ]
        }
      ]
    },
    {
      "cell_type": "code",
      "source": [
        "%%R\n",
        "print(\"Среднее значение столбца 'Solar.R' для 5го месяца:\")\n",
        "mean(data[data$Month == 5, \"Solar.R\"], na.rm=TRUE)"
      ],
      "metadata": {
        "colab": {
          "base_uri": "https://localhost:8080/"
        },
        "id": "W4vtnRLcH0Gs",
        "outputId": "f5793306-3a58-4275-8121-8c2fdff1866d"
      },
      "execution_count": 7,
      "outputs": [
        {
          "output_type": "stream",
          "name": "stdout",
          "text": [
            "[1] \"Среднее значение столбца 'Solar.R' для 5го месяца:\"\n",
            "[1] 181.2963\n"
          ]
        }
      ]
    },
    {
      "cell_type": "markdown",
      "source": [
        "#Пункт 3"
      ],
      "metadata": {
        "id": "XzeLwPDqXtxD"
      }
    },
    {
      "cell_type": "code",
      "source": [
        "%%R\n",
        "meanAir <- function(factor, data, tMin, tMax){\n",
        "    return (mean(data[data$Temp >= tMin & data$Temp <= tMax, factor], na.rm=TRUE))\n",
        "}\n",
        "\n",
        "print(\"Среднее значение по фактору 'Ozone' при температуре от 60 до 80:\")\n",
        "print(meanAir(\"Ozone\", data, 60, 80))\n",
        "print(\"Среднее значение по фактору 'Solar.R' при температуре от 60 до 80:\")\n",
        "print(meanAir(\"Solar.R\", data, 60, 80))\n",
        "print(\"Среднее значение по фактору 'Wind' при температуре от 60 до 80:\")\n",
        "print(meanAir(\"Wind\", data, 60, 80))"
      ],
      "metadata": {
        "colab": {
          "base_uri": "https://localhost:8080/"
        },
        "id": "k2lD9nXeMD_Z",
        "outputId": "a50fa831-9520-4b38-fa33-325f5ff12ce3"
      },
      "execution_count": 8,
      "outputs": [
        {
          "output_type": "stream",
          "name": "stdout",
          "text": [
            "[1] \"Среднее значение по фактору 'Ozone' при температуре от 60 до 80:\"\n",
            "[1] 23.77586\n",
            "[1] \"Среднее значение по фактору 'Solar.R' при температуре от 60 до 80:\"\n",
            "[1] 173.9733\n",
            "[1] \"Среднее значение по фактору 'Wind' при температуре от 60 до 80:\"\n",
            "[1] 10.81299\n"
          ]
        }
      ]
    },
    {
      "cell_type": "markdown",
      "source": [
        "#Пункт 4"
      ],
      "metadata": {
        "id": "D0BBtxVoYSX1"
      }
    },
    {
      "cell_type": "code",
      "source": [
        "%%R\n",
        "print(\"Средние значения по 'Solar.R' для каждого месяца:\")\n",
        "tapply(data$Solar.R, data$Month, mean, na.rm=TRUE)"
      ],
      "metadata": {
        "id": "CwCL_LFJS4tj",
        "colab": {
          "base_uri": "https://localhost:8080/"
        },
        "outputId": "22926ecb-1e5e-4bb0-9dc9-d3dbb8901f7e"
      },
      "execution_count": 9,
      "outputs": [
        {
          "output_type": "stream",
          "name": "stdout",
          "text": [
            "[1] \"Средние значения по 'Solar.R' для каждого месяца:\"\n",
            "       5        6        7        8        9 \n",
            "181.2963 190.1667 216.4839 171.8571 167.4333 \n"
          ]
        }
      ]
    },
    {
      "cell_type": "markdown",
      "source": [
        "#Пункт 5"
      ],
      "metadata": {
        "id": "l5j1KNcqZlap"
      }
    },
    {
      "cell_type": "code",
      "source": [
        "%%R\n",
        "maxTemp <- function(data, days = 1){\n",
        "    df <- data\n",
        "    df <- df[order(df$Temp, na.last = TRUE, decreasing = TRUE),]\n",
        "    \n",
        "    return(df[1:days,5:6])\n",
        "}\n",
        "print(\"Указанного кол-ва пары месяц/день, когда была максимальная температура:\")\n",
        "maxTemp(data, 5)"
      ],
      "metadata": {
        "colab": {
          "base_uri": "https://localhost:8080/"
        },
        "id": "NK-HdxpcZTSk",
        "outputId": "becdb37e-08fb-49bb-e169-c3e6493666bc"
      },
      "execution_count": 10,
      "outputs": [
        {
          "output_type": "stream",
          "name": "stdout",
          "text": [
            "[1] \"Указанного кол-ва пары месяц/день, когда была максимальная температура:\"\n",
            "    Month Day\n",
            "120     8  28\n",
            "122     8  30\n",
            "121     8  29\n",
            "123     8  31\n",
            "42      6  11\n"
          ]
        }
      ]
    },
    {
      "cell_type": "markdown",
      "source": [
        "#Пункт 6"
      ],
      "metadata": {
        "id": "zbt9IHrwgkA5"
      }
    },
    {
      "cell_type": "code",
      "source": [
        "%%R\n",
        "testSet <- function(data, perc = 20){\n",
        "    try(if(perc > 100 | perc < 0) stop(\"variable 'perc' goes beyond the range [0;100]\"))\n",
        "\n",
        "    #количество строк, которые следует случайно удалить:\n",
        "    sum_row <- nrow(data) - round(nrow(data) * perc/100.0) \n",
        "    df <- data\n",
        "\n",
        "    #генерация индексов строк, которые будут удалены:\n",
        "    index <- sample(1:nrow(df), sum_row, replace=F) \n",
        "    \n",
        "    #удаление строк с указанными индексами:\n",
        "    df <- df[-c(index),] \n",
        "    return(df)\n",
        "}\n",
        "print(\"Тестовая выборка:\")\n",
        "testSet(data)"
      ],
      "metadata": {
        "colab": {
          "base_uri": "https://localhost:8080/"
        },
        "id": "g6ayXd36ff3j",
        "outputId": "cb228b9f-b800-4ee8-94ce-63cae7bf9ddf"
      },
      "execution_count": 15,
      "outputs": [
        {
          "output_type": "stream",
          "name": "stdout",
          "text": [
            "[1] \"Тестовая выборка:\"\n",
            "    Ozone Solar.R Wind Temp Month Day\n",
            "14     14     274 10.9   68     5  14\n",
            "20     11      44  9.7   62     5  20\n",
            "24     32      92 12.0   61     5  24\n",
            "27     NA      NA  8.0   57     5  27\n",
            "38     29     127  9.7   82     6   7\n",
            "41     39     323 11.5   87     6  10\n",
            "44     23     148  8.0   82     6  13\n",
            "46     NA     322 11.5   79     6  15\n",
            "54     NA      91  4.6   76     6  23\n",
            "55     NA     250  6.3   76     6  24\n",
            "60     NA      31 14.9   77     6  29\n",
            "61     NA     138  8.0   83     6  30\n",
            "72     NA     139  8.6   82     7  11\n",
            "73     10     264 14.3   73     7  12\n",
            "79     61     285  6.3   84     7  18\n",
            "81     63     220 11.5   85     7  20\n",
            "86    108     223  8.0   85     7  25\n",
            "87     20      81  8.6   82     7  26\n",
            "92     59     254  9.2   81     7  31\n",
            "101   110     207  8.0   90     8   9\n",
            "104    44     192 11.5   86     8  12\n",
            "123    85     188  6.3   94     8  31\n",
            "125    78     197  5.1   92     9   2\n",
            "126    73     183  2.8   93     9   3\n",
            "133    24     259  9.7   73     9  10\n",
            "136    28     238  6.3   77     9  13\n",
            "145    23      14  9.2   71     9  22\n",
            "147     7      49 10.3   69     9  24\n",
            "148    14      20 16.6   63     9  25\n",
            "151    14     191 14.3   75     9  28\n",
            "153    20     223 11.5   68     9  30\n"
          ]
        }
      ]
    },
    {
      "cell_type": "code",
      "source": [
        "%%R\n",
        "hist(data$Ozone, breaks = c(1,32,48,64,70,86,102,118,134,150,168))"
      ],
      "metadata": {
        "id": "vFE2_vJcG3Bq",
        "outputId": "7d9c6f3a-d75b-491d-d149-199a2acd5c63",
        "colab": {
          "base_uri": "https://localhost:8080/",
          "height": 497
        }
      },
      "execution_count": 56,
      "outputs": [
        {
          "output_type": "display_data",
          "data": {
            "image/png": "[encoded data removed]"
          },
          "metadata": {}
        }
      ]
    }
  ]
}