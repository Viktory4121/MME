{
  "nbformat": 4,
  "nbformat_minor": 0,
  "metadata": {
    "colab": {
      "provenance": [],
      "authorship_tag": "ABX9TyPFcxy6IJxf1bkQ85aK6+i9",
      "include_colab_link": true
    },
    "kernelspec": {
      "name": "python3",
      "display_name": "Python 3"
    },
    "language_info": {
      "name": "python"
    }
  },
  "cells": [
    {
      "cell_type": "markdown",
      "metadata": {
        "id": "view-in-github",
        "colab_type": "text"
      },
      "source": [
        "<a href=\"https://colab.research.google.com/github/Viktory4121/MME/blob/main/lab1.ipynb\" target=\"_parent\"><img src=\"https://colab.research.google.com/assets/colab-badge.svg\" alt=\"Open In Colab\"/></a>"
      ]
    },
    {
      "cell_type": "code",
      "execution_count": 1,
      "metadata": {
        "id": "YeS6qraGw6fu"
      },
      "outputs": [],
      "source": [
        "%load_ext rpy2.ipython"
      ]
    },
    {
      "cell_type": "markdown",
      "source": [
        "#Пункт 1"
      ],
      "metadata": {
        "id": "rb3SP2fJOXxR"
      }
    },
    {
      "cell_type": "code",
      "source": [
        "%%R\n",
        "library(datasets)\n",
        "data <- airquality\n",
        "head(data)"
      ],
      "metadata": {
        "id": "jLeURSWexvTP",
        "outputId": "567d2718-0abe-4f37-ce71-ee776a852d9e",
        "colab": {
          "base_uri": "https://localhost:8080/"
        }
      },
      "execution_count": 2,
      "outputs": [
        {
          "output_type": "stream",
          "name": "stdout",
          "text": [
            "  Ozone Solar.R Wind Temp Month Day\n",
            "1    41     190  7.4   67     5   1\n",
            "2    36     118  8.0   72     5   2\n",
            "3    12     149 12.6   74     5   3\n",
            "4    18     313 11.5   62     5   4\n",
            "5    NA      NA 14.3   56     5   5\n",
            "6    28      NA 14.9   66     5   6\n"
          ]
        }
      ]
    },
    {
      "cell_type": "markdown",
      "source": [
        "#Пункт 2\n"
      ],
      "metadata": {
        "id": "TwB6EsgjOj8k"
      }
    },
    {
      "cell_type": "code",
      "source": [
        "%%R\n",
        "print(\"Кол-во строк:\")\n",
        "print(nrow(data))\n",
        "print(\"Кол-во столбцов:\")\n",
        "print(ncol(data))"
      ],
      "metadata": {
        "id": "7SwkppfzzY4Z",
        "outputId": "7a971ca9-c5bd-4562-e6e6-56a49d01c95e",
        "colab": {
          "base_uri": "https://localhost:8080/"
        }
      },
      "execution_count": 3,
      "outputs": [
        {
          "output_type": "stream",
          "name": "stdout",
          "text": [
            "[1] \"Кол-во строк:\"\n",
            "[1] 153\n",
            "[1] \"Кол-во столбцов:\"\n",
            "[1] 6\n"
          ]
        }
      ]
    },
    {
      "cell_type": "code",
      "source": [
        "%%R\n",
        "print(\"Kоличество непустых строк:\")\n",
        "nrow(na.omit(data))"
      ],
      "metadata": {
        "colab": {
          "base_uri": "https://localhost:8080/"
        },
        "id": "oLv4nbnFOuGi",
        "outputId": "6ea39455-ee92-4c0e-ea13-871068adfd04"
      },
      "execution_count": 4,
      "outputs": [
        {
          "output_type": "stream",
          "name": "stdout",
          "text": [
            "[1] \"Kоличество непустых строк:\"\n",
            "[1] 111\n"
          ]
        }
      ]
    },
    {
      "cell_type": "code",
      "source": [
        "%%R\n",
        "print(\"Kоличество строк, имеющих пропусkи одновременно в столбцах Ozone и Solar.R:\")\n",
        "nrow(data[data$Ozone %in% NA & data$Solar.R %in% NA,1:2])"
      ],
      "metadata": {
        "colab": {
          "base_uri": "https://localhost:8080/"
        },
        "id": "bnhQORL7Ru6e",
        "outputId": "9b1bcf5d-53c7-45b6-f54d-092702d5c6d0"
      },
      "execution_count": 6,
      "outputs": [
        {
          "output_type": "stream",
          "name": "stdout",
          "text": [
            "[1] \"Kоличество строк, имеющих пропусkи одновременно в столбцах Ozone и Solar.R:\"\n",
            "[1] 2\n"
          ]
        }
      ]
    },
    {
      "cell_type": "code",
      "source": [
        "%%R\n",
        "print(\"Статистика по первым четырём столбцам:\")\n",
        "summary(data[,1:4])"
      ],
      "metadata": {
        "colab": {
          "base_uri": "https://localhost:8080/"
        },
        "id": "dyMIdLF1HcTL",
        "outputId": "45f6235a-8e7f-4d8a-8037-ec4b06a4e3a3"
      },
      "execution_count": 7,
      "outputs": [
        {
          "output_type": "stream",
          "name": "stdout",
          "text": [
            "[1] \"Статистика по первым четырём столбцам:\"\n",
            "     Ozone           Solar.R           Wind             Temp      \n",
            " Min.   :  1.00   Min.   :  7.0   Min.   : 1.700   Min.   :56.00  \n",
            " 1st Qu.: 18.00   1st Qu.:115.8   1st Qu.: 7.400   1st Qu.:72.00  \n",
            " Median : 31.50   Median :205.0   Median : 9.700   Median :79.00  \n",
            " Mean   : 42.13   Mean   :185.9   Mean   : 9.958   Mean   :77.88  \n",
            " 3rd Qu.: 63.25   3rd Qu.:258.8   3rd Qu.:11.500   3rd Qu.:85.00  \n",
            " Max.   :168.00   Max.   :334.0   Max.   :20.700   Max.   :97.00  \n",
            " NA's   :37       NA's   :7                                       \n"
          ]
        }
      ]
    },
    {
      "cell_type": "code",
      "source": [
        "%%R\n",
        "print(\"Среднее значение столбца 'Solar.R' для 5го месяца:\")\n",
        "mean(data[data$Month == 5, \"Solar.R\"], na.rm=TRUE)"
      ],
      "metadata": {
        "colab": {
          "base_uri": "https://localhost:8080/"
        },
        "id": "W4vtnRLcH0Gs",
        "outputId": "b234a476-ff88-4460-b6af-32ed0ece45f7"
      },
      "execution_count": 8,
      "outputs": [
        {
          "output_type": "stream",
          "name": "stdout",
          "text": [
            "[1] \"Среднее значение столбца 'Solar.R' для 5го месяца:\"\n",
            "[1] 181.2963\n"
          ]
        }
      ]
    },
    {
      "cell_type": "markdown",
      "source": [
        "#Пункт 3"
      ],
      "metadata": {
        "id": "XzeLwPDqXtxD"
      }
    },
    {
      "cell_type": "code",
      "source": [
        "%%R\n",
        "meanAir <- function(factor, data, tMin, tMax){\n",
        "    return (mean(data[data$Temp >= tMin & data$Temp <= tMax, factor], na.rm=TRUE))\n",
        "}\n",
        "\n",
        "print(\"Среднее значение по фактору 'Ozone' при температуре от 60 до 80:\")\n",
        "print(meanAir(\"Ozone\", data, 60, 80))\n",
        "print(\"Среднее значение по фактору 'Solar.R' при температуре от 60 до 80:\")\n",
        "print(meanAir(\"Solar.R\", data, 60, 80))\n",
        "print(\"Среднее значение по фактору 'Wind' при температуре от 60 до 80:\")\n",
        "print(meanAir(\"Wind\", data, 60, 80))"
      ],
      "metadata": {
        "colab": {
          "base_uri": "https://localhost:8080/"
        },
        "id": "k2lD9nXeMD_Z",
        "outputId": "b45bc72b-5ca8-4e5e-9329-28e0d100e7c1"
      },
      "execution_count": 9,
      "outputs": [
        {
          "output_type": "stream",
          "name": "stdout",
          "text": [
            "[1] \"Среднее значение по фактору 'Ozone' при температуре от 60 до 80:\"\n",
            "[1] 23.77586\n",
            "[1] \"Среднее значение по фактору 'Solar.R' при температуре от 60 до 80:\"\n",
            "[1] 173.9733\n",
            "[1] \"Среднее значение по фактору 'Wind' при температуре от 60 до 80:\"\n",
            "[1] 10.81299\n"
          ]
        }
      ]
    },
    {
      "cell_type": "markdown",
      "source": [
        "#Пункт 4"
      ],
      "metadata": {
        "id": "D0BBtxVoYSX1"
      }
    },
    {
      "cell_type": "code",
      "source": [
        "%%R\n",
        "print(\"Средние значения по 'Solar.R' для каждого месяца:\")\n",
        "tapply(data$Solar.R, data$Month, mean, na.rm=TRUE)"
      ],
      "metadata": {
        "id": "CwCL_LFJS4tj",
        "colab": {
          "base_uri": "https://localhost:8080/"
        },
        "outputId": "305204ba-7826-4539-84fd-c0a5bba770d9"
      },
      "execution_count": 10,
      "outputs": [
        {
          "output_type": "stream",
          "name": "stdout",
          "text": [
            "[1] \"Средние значения по 'Solar.R' для каждого месяца:\"\n",
            "       5        6        7        8        9 \n",
            "181.2963 190.1667 216.4839 171.8571 167.4333 \n"
          ]
        }
      ]
    },
    {
      "cell_type": "markdown",
      "source": [
        "#Пункт 5"
      ],
      "metadata": {
        "id": "l5j1KNcqZlap"
      }
    },
    {
      "cell_type": "code",
      "source": [
        "%%R\n",
        "maxTemp <- function(data, days = 1){\n",
        "    df <- data\n",
        "    df <- df[order(df$Temp, na.last = TRUE, decreasing = TRUE),]\n",
        "    \n",
        "    return(df[1:days,5:6])\n",
        "}\n",
        "print(\"Указанного кол-ва пары месяц/день, когда была максимальная температура:\")\n",
        "maxTemp(data, 5)"
      ],
      "metadata": {
        "colab": {
          "base_uri": "https://localhost:8080/"
        },
        "id": "NK-HdxpcZTSk",
        "outputId": "d72179f7-2d79-4de8-d661-040b82591f59"
      },
      "execution_count": 19,
      "outputs": [
        {
          "output_type": "stream",
          "name": "stdout",
          "text": [
            "[1] \"Указанного кол-ва пары месяц/день, когда была максимальная температура:\"\n",
            "    Month Day\n",
            "120     8  28\n",
            "122     8  30\n",
            "121     8  29\n",
            "123     8  31\n",
            "42      6  11\n"
          ]
        }
      ]
    },
    {
      "cell_type": "markdown",
      "source": [
        "#Пункт 6"
      ],
      "metadata": {
        "id": "zbt9IHrwgkA5"
      }
    },
    {
      "cell_type": "code",
      "source": [
        "%%R\n",
        "testSet <- function(data, perc = 20){\n",
        "    try(if(perc > 100 | perc < 0) stop(\"variable 'perc' goes beyond the range [0;100]\"))\n",
        "\n",
        "    #количество строк, которые следует случайно удалить:\n",
        "    sum_row <- nrow(data) - round(nrow(data) * perc/100.0) \n",
        "    df <- data\n",
        "\n",
        "    #генерация индексов строк, которые будут удалены:\n",
        "    index <- sample(1:nrow(df), sum_row, replace=F) \n",
        "    \n",
        "    #удаление строк с указанными индексами:\n",
        "    df <- df[-c(index),] \n",
        "    return(df)\n",
        "}\n",
        "print(\"Тестовая выборка:\")\n",
        "testSet(data)"
      ],
      "metadata": {
        "colab": {
          "base_uri": "https://localhost:8080/"
        },
        "id": "g6ayXd36ff3j",
        "outputId": "bed99239-c760-424e-cc5b-9542de227fa9"
      },
      "execution_count": null,
      "outputs": [
        {
          "output_type": "stream",
          "name": "stdout",
          "text": [
            "[1] \"Тестовая выборка:\"\n",
            "    Ozone Solar.R Wind Temp Month Day\n",
            "2      36     118  8.0   72     5   2\n",
            "8      19      99 13.8   59     5   8\n",
            "14     14     274 10.9   68     5  14\n",
            "15     18      65 13.2   58     5  15\n",
            "16     14     334 11.5   64     5  16\n",
            "19     30     322 11.5   68     5  19\n",
            "25     NA      66 16.6   57     5  25\n",
            "33     NA     287  9.7   74     6   2\n",
            "37     NA     264 14.3   79     6   6\n",
            "43     NA     250  9.2   92     6  12\n",
            "49     20      37  9.2   65     6  18\n",
            "56     NA     135  8.0   75     6  25\n",
            "58     NA      47 10.3   73     6  27\n",
            "66     64     175  4.6   83     7   5\n",
            "67     40     314 10.9   83     7   6\n",
            "74     27     175 14.9   81     7  13\n",
            "75     NA     291 14.9   91     7  14\n",
            "76      7      48 14.3   80     7  15\n",
            "78     35     274 10.3   82     7  17\n",
            "93     39      83  6.9   81     8   1\n",
            "100    89     229 10.3   90     8   8\n",
            "103    NA     137 11.5   86     8  11\n",
            "106    65     157  9.7   80     8  14\n",
            "110    23     115  7.4   76     8  18\n",
            "113    21     259 15.5   77     8  21\n",
            "114     9      36 14.3   72     8  22\n",
            "116    45     212  9.7   79     8  24\n",
            "119    NA     153  5.7   88     8  27\n",
            "124    96     167  6.9   91     9   1\n",
            "134    44     236 14.9   81     9  11\n",
            "135    21     259 15.5   76     9  12\n"
          ]
        }
      ]
    }
  ]
}