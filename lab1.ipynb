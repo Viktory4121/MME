{
  "nbformat": 4,
  "nbformat_minor": 0,
  "metadata": {
    "colab": {
      "provenance": [],
      "authorship_tag": "ABX9TyNH1PdoGmzcAvvqyNln8S8o",
      "include_colab_link": true
    },
    "kernelspec": {
      "name": "python3",
      "display_name": "Python 3"
    },
    "language_info": {
      "name": "python"
    }
  },
  "cells": [
    {
      "cell_type": "markdown",
      "metadata": {
        "id": "view-in-github",
        "colab_type": "text"
      },
      "source": [
        "<a href=\"https://colab.research.google.com/github/Viktory4121/MME/blob/main/lab1.ipynb\" target=\"_parent\"><img src=\"https://colab.research.google.com/assets/colab-badge.svg\" alt=\"Open In Colab\"/></a>"
      ]
    },
    {
      "cell_type": "code",
      "execution_count": 91,
      "metadata": {
        "id": "YeS6qraGw6fu",
        "outputId": "dd280acd-85ec-4472-ddcf-5c94f61035e0",
        "colab": {
          "base_uri": "https://localhost:8080/"
        }
      },
      "outputs": [
        {
          "output_type": "stream",
          "name": "stdout",
          "text": [
            "The rpy2.ipython extension is already loaded. To reload it, use:\n",
            "  %reload_ext rpy2.ipython\n"
          ]
        }
      ],
      "source": [
        "%load_ext rpy2.ipython"
      ]
    },
    {
      "cell_type": "markdown",
      "source": [
        "#Пункт 1"
      ],
      "metadata": {
        "id": "rb3SP2fJOXxR"
      }
    },
    {
      "cell_type": "code",
      "source": [
        "%%R\n",
        "library(datasets)\n",
        "data <- airquality\n",
        "head(data)"
      ],
      "metadata": {
        "id": "jLeURSWexvTP",
        "outputId": "3e8037e4-15cf-4339-b051-7e3531eec286",
        "colab": {
          "base_uri": "https://localhost:8080/"
        }
      },
      "execution_count": 92,
      "outputs": [
        {
          "output_type": "stream",
          "name": "stdout",
          "text": [
            "  Ozone Solar.R Wind Temp Month Day\n",
            "1    41     190  7.4   67     5   1\n",
            "2    36     118  8.0   72     5   2\n",
            "3    12     149 12.6   74     5   3\n",
            "4    18     313 11.5   62     5   4\n",
            "5    NA      NA 14.3   56     5   5\n",
            "6    28      NA 14.9   66     5   6\n"
          ]
        }
      ]
    },
    {
      "cell_type": "markdown",
      "source": [
        "#Пункт 2\n"
      ],
      "metadata": {
        "id": "TwB6EsgjOj8k"
      }
    },
    {
      "cell_type": "code",
      "source": [
        "%%R\n",
        "print(\"Кол-во строк:\")\n",
        "print(nrow(data))\n",
        "print(\"Кол-во столбцов:\")\n",
        "print(ncol(data))"
      ],
      "metadata": {
        "id": "7SwkppfzzY4Z",
        "outputId": "fbc9584d-2022-4c51-f32c-61666378367f",
        "colab": {
          "base_uri": "https://localhost:8080/"
        }
      },
      "execution_count": 98,
      "outputs": [
        {
          "output_type": "stream",
          "name": "stdout",
          "text": [
            "[1] \"Кол-во строк:\"\n",
            "[1] 153\n",
            "[1] \"Кол-во столбцов:\"\n",
            "[1] 6\n"
          ]
        }
      ]
    },
    {
      "cell_type": "code",
      "source": [
        "%%R\n",
        "print(\"Kоличество непустых строк:\")\n",
        "nrow(na.omit(data))"
      ],
      "metadata": {
        "colab": {
          "base_uri": "https://localhost:8080/"
        },
        "id": "oLv4nbnFOuGi",
        "outputId": "bd66e30d-4cde-4666-cd63-8ce151062aad"
      },
      "execution_count": 99,
      "outputs": [
        {
          "output_type": "stream",
          "name": "stdout",
          "text": [
            "[1] \"Kоличество непустых строк:\"\n",
            "[1] 111\n"
          ]
        }
      ]
    },
    {
      "cell_type": "code",
      "source": [
        "%%R\n",
        "print(\"Kоличество строк, имеющих пропусkи одновременно в столбцах Ozone и Solar.R:\")\n",
        "nrow(data[data$Ozone %in% NA & data$Solar.R %in% NA,1:2])"
      ],
      "metadata": {
        "colab": {
          "base_uri": "https://localhost:8080/"
        },
        "id": "bnhQORL7Ru6e",
        "outputId": "c17f538a-d132-4eeb-f84d-3ae2262791f8"
      },
      "execution_count": 101,
      "outputs": [
        {
          "output_type": "stream",
          "name": "stdout",
          "text": [
            "[1] \"Kоличество строк, имеющих пропусkи одновременно в столбцах Ozone и Solar.R:\"\n",
            "[1] 2\n"
          ]
        }
      ]
    },
    {
      "cell_type": "code",
      "source": [
        "%%R\n",
        "print(\"Статистика по первым четырём столбцам:\")\n",
        "summary(data[,1:4])"
      ],
      "metadata": {
        "colab": {
          "base_uri": "https://localhost:8080/"
        },
        "id": "dyMIdLF1HcTL",
        "outputId": "594a0bd2-8bf6-4c79-c448-3795f426ff40"
      },
      "execution_count": 102,
      "outputs": [
        {
          "output_type": "stream",
          "name": "stdout",
          "text": [
            "[1] \"Статистика по первым четырём столбцам:\"\n",
            "     Ozone           Solar.R           Wind             Temp      \n",
            " Min.   :  1.00   Min.   :  7.0   Min.   : 1.700   Min.   :56.00  \n",
            " 1st Qu.: 18.00   1st Qu.:115.8   1st Qu.: 7.400   1st Qu.:72.00  \n",
            " Median : 31.50   Median :205.0   Median : 9.700   Median :79.00  \n",
            " Mean   : 42.13   Mean   :185.9   Mean   : 9.958   Mean   :77.88  \n",
            " 3rd Qu.: 63.25   3rd Qu.:258.8   3rd Qu.:11.500   3rd Qu.:85.00  \n",
            " Max.   :168.00   Max.   :334.0   Max.   :20.700   Max.   :97.00  \n",
            " NA's   :37       NA's   :7                                       \n"
          ]
        }
      ]
    },
    {
      "cell_type": "code",
      "source": [
        "%%R\n",
        "print(\"Среднее значение столбца 'Solar.R' для 5го месяца:\")\n",
        "mean(data[data$Month == 5, \"Solar.R\"], na.rm=TRUE)"
      ],
      "metadata": {
        "colab": {
          "base_uri": "https://localhost:8080/"
        },
        "id": "W4vtnRLcH0Gs",
        "outputId": "e9e9d27f-121b-4c0b-bb94-748fc51c0a7d"
      },
      "execution_count": 103,
      "outputs": [
        {
          "output_type": "stream",
          "name": "stdout",
          "text": [
            "[1] \"Среднее значение столбца 'Solar.R' для 5го месяца:\"\n",
            "[1] 181.2963\n"
          ]
        }
      ]
    },
    {
      "cell_type": "markdown",
      "source": [
        "#Пункт 3"
      ],
      "metadata": {
        "id": "XzeLwPDqXtxD"
      }
    },
    {
      "cell_type": "code",
      "source": [
        "%%R\n",
        "meanAir <- function(factor, data, tMin, tMax){\n",
        "    return (mean(data[data$Temp >= tMin & data$Temp <= tMax, factor], na.rm=TRUE))\n",
        "}\n",
        "\n",
        "print(\"Среднее значение по фактору 'Ozone' при температуре от 60 до 80:\")\n",
        "print(meanAir(\"Ozone\", data, 60, 80))\n",
        "print(\"Среднее значение по фактору 'Solar.R' при температуре от 60 до 80:\")\n",
        "print(meanAir(\"Solar.R\", data, 60, 80))\n",
        "print(\"Среднее значение по фактору 'Wind' при температуре от 60 до 80:\")\n",
        "print(meanAir(\"Wind\", data, 60, 80))"
      ],
      "metadata": {
        "colab": {
          "base_uri": "https://localhost:8080/"
        },
        "id": "k2lD9nXeMD_Z",
        "outputId": "2129414c-476c-46cb-8d2e-f6abebff2d2d"
      },
      "execution_count": 122,
      "outputs": [
        {
          "output_type": "stream",
          "name": "stdout",
          "text": [
            "[1] \"Среднее значение по фактору 'Ozone' при температуре от 60 до 80:\"\n",
            "[1] 23.77586\n",
            "[1] \"Среднее значение по фактору 'Solar.R' при температуре от 60 до 80:\"\n",
            "[1] 173.9733\n",
            "[1] \"Среднее значение по фактору 'Wind' при температуре от 60 до 80:\"\n",
            "[1] 10.81299\n"
          ]
        }
      ]
    },
    {
      "cell_type": "markdown",
      "source": [
        "#Пункт 4"
      ],
      "metadata": {
        "id": "D0BBtxVoYSX1"
      }
    },
    {
      "cell_type": "code",
      "source": [
        "%%R\n",
        "print(\"Средние значения по 'Solar.R' для каждого месяца:\")\n",
        "tapply(data$Solar.R, data$Month, mean, na.rm=TRUE)"
      ],
      "metadata": {
        "id": "CwCL_LFJS4tj",
        "colab": {
          "base_uri": "https://localhost:8080/"
        },
        "outputId": "771cfcce-2543-41cd-843c-ea4092996535"
      },
      "execution_count": 113,
      "outputs": [
        {
          "output_type": "stream",
          "name": "stdout",
          "text": [
            "[1] \"Средние значения по 'Solar.R' для каждого месяца:\"\n",
            "       5        6        7        8        9 \n",
            "181.2963 190.1667 216.4839 171.8571 167.4333 \n"
          ]
        }
      ]
    },
    {
      "cell_type": "markdown",
      "source": [
        "#Пункт 5"
      ],
      "metadata": {
        "id": "l5j1KNcqZlap"
      }
    },
    {
      "cell_type": "code",
      "source": [
        "%%R\n",
        "maxTemp <- function(data, days = 1){\n",
        "    month = list()\n",
        "    day = list()\n",
        "    temp = list()\n",
        "    df = data\n",
        "\n",
        "    for (i in 1:days){\n",
        "        #нахождение индекса(ов) с максимальной температурой:\n",
        "        index <- which(df$Temp == max(df$Temp)) \n",
        "        day <- c(day, df[index, \"Day\"])\n",
        "        month <- c(month, df[index, \"Month\"])\n",
        "        temp <- c(temp, df[index, \"Temp\"])\n",
        "        \n",
        "        #удаление строки с индексом:\n",
        "        df <- df[-c(index),] \n",
        "    }\n",
        "    \n",
        "    return(cbind(month, day, temp))\n",
        "}\n",
        "print(\"Указанного кол-ва пары месяц/день, когда была максимальная температура:\")\n",
        "maxTemp(data, 5)"
      ],
      "metadata": {
        "colab": {
          "base_uri": "https://localhost:8080/"
        },
        "id": "NK-HdxpcZTSk",
        "outputId": "011f02b6-ee07-4173-dd0e-645fab0ca593"
      },
      "execution_count": 117,
      "outputs": [
        {
          "output_type": "stream",
          "name": "stdout",
          "text": [
            "[1] \"Указанного кол-ва пары месяц/день, когда была максимальная температура:\"\n",
            "      month day temp\n",
            " [1,] 8     28  97  \n",
            " [2,] 8     30  96  \n",
            " [3,] 8     29  94  \n",
            " [4,] 8     31  94  \n",
            " [5,] 6     11  93  \n",
            " [6,] 9     3   93  \n",
            " [7,] 9     4   93  \n",
            " [8,] 6     12  92  \n",
            " [9,] 7     8   92  \n",
            "[10,] 7     9   92  \n",
            "[11,] 8     10  92  \n",
            "[12,] 9     2   92  \n"
          ]
        }
      ]
    },
    {
      "cell_type": "markdown",
      "source": [
        "#Пункт 6"
      ],
      "metadata": {
        "id": "zbt9IHrwgkA5"
      }
    },
    {
      "cell_type": "code",
      "source": [
        "%%R\n",
        "testSet <- function(data, perc = 20){\n",
        "    try(if(perc > 100 | perc < 0) stop(\"variable 'perc' goes beyond the range [0;100]\"))\n",
        "\n",
        "    #количество строк, которые следует случайно удалить:\n",
        "    sum_row <- nrow(data) - round(nrow(data) * perc/100.0) \n",
        "    df <- data\n",
        "\n",
        "    #генерация индексов строк, которые будут удалены:\n",
        "    index <- sample(1:nrow(df), sum_row, replace=F) \n",
        "    \n",
        "    #удаление строк с указанными индексами:\n",
        "    df <- df[-c(index),] \n",
        "    return(df)\n",
        "}\n",
        "print(\"Тестовая выборка:\")\n",
        "testSet(data)"
      ],
      "metadata": {
        "colab": {
          "base_uri": "https://localhost:8080/"
        },
        "id": "g6ayXd36ff3j",
        "outputId": "bed99239-c760-424e-cc5b-9542de227fa9"
      },
      "execution_count": 116,
      "outputs": [
        {
          "output_type": "stream",
          "name": "stdout",
          "text": [
            "[1] \"Тестовая выборка:\"\n",
            "    Ozone Solar.R Wind Temp Month Day\n",
            "2      36     118  8.0   72     5   2\n",
            "8      19      99 13.8   59     5   8\n",
            "14     14     274 10.9   68     5  14\n",
            "15     18      65 13.2   58     5  15\n",
            "16     14     334 11.5   64     5  16\n",
            "19     30     322 11.5   68     5  19\n",
            "25     NA      66 16.6   57     5  25\n",
            "33     NA     287  9.7   74     6   2\n",
            "37     NA     264 14.3   79     6   6\n",
            "43     NA     250  9.2   92     6  12\n",
            "49     20      37  9.2   65     6  18\n",
            "56     NA     135  8.0   75     6  25\n",
            "58     NA      47 10.3   73     6  27\n",
            "66     64     175  4.6   83     7   5\n",
            "67     40     314 10.9   83     7   6\n",
            "74     27     175 14.9   81     7  13\n",
            "75     NA     291 14.9   91     7  14\n",
            "76      7      48 14.3   80     7  15\n",
            "78     35     274 10.3   82     7  17\n",
            "93     39      83  6.9   81     8   1\n",
            "100    89     229 10.3   90     8   8\n",
            "103    NA     137 11.5   86     8  11\n",
            "106    65     157  9.7   80     8  14\n",
            "110    23     115  7.4   76     8  18\n",
            "113    21     259 15.5   77     8  21\n",
            "114     9      36 14.3   72     8  22\n",
            "116    45     212  9.7   79     8  24\n",
            "119    NA     153  5.7   88     8  27\n",
            "124    96     167  6.9   91     9   1\n",
            "134    44     236 14.9   81     9  11\n",
            "135    21     259 15.5   76     9  12\n"
          ]
        }
      ]
    }
  ]
}