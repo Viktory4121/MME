{
  "nbformat": 4,
  "nbformat_minor": 0,
  "metadata": {
    "colab": {
      "provenance": [],
      "authorship_tag": "ABX9TyO8lxG4u/WPNYnEJy4qheBb",
      "include_colab_link": true
    },
    "kernelspec": {
      "name": "python3",
      "display_name": "Python 3"
    },
    "language_info": {
      "name": "python"
    }
  },
  "cells": [
    {
      "cell_type": "markdown",
      "metadata": {
        "id": "view-in-github",
        "colab_type": "text"
      },
      "source": [
        "<a href=\"https://colab.research.google.com/github/Viktory4121/MME/blob/main/lab1.ipynb\" target=\"_parent\"><img src=\"https://colab.research.google.com/assets/colab-badge.svg\" alt=\"Open In Colab\"/></a>"
      ]
    },
    {
      "cell_type": "code",
      "execution_count": 1,
      "metadata": {
        "id": "YeS6qraGw6fu"
      },
      "outputs": [],
      "source": [
        "%load_ext rpy2.ipython"
      ]
    },
    {
      "cell_type": "markdown",
      "source": [
        "#Пункт 1"
      ],
      "metadata": {
        "id": "rb3SP2fJOXxR"
      }
    },
    {
      "cell_type": "code",
      "source": [
        "%%R\n",
        "library(datasets)\n",
        "data <- airquality\n",
        "head(data)"
      ],
      "metadata": {
        "id": "jLeURSWexvTP",
        "outputId": "c6ab70f4-150c-4347-bb3c-5dab646712a1",
        "colab": {
          "base_uri": "https://localhost:8080/"
        }
      },
      "execution_count": 2,
      "outputs": [
        {
          "output_type": "stream",
          "name": "stdout",
          "text": [
            "  Ozone Solar.R Wind Temp Month Day\n",
            "1    41     190  7.4   67     5   1\n",
            "2    36     118  8.0   72     5   2\n",
            "3    12     149 12.6   74     5   3\n",
            "4    18     313 11.5   62     5   4\n",
            "5    NA      NA 14.3   56     5   5\n",
            "6    28      NA 14.9   66     5   6\n"
          ]
        }
      ]
    },
    {
      "cell_type": "markdown",
      "source": [
        "#Пункт 2\n"
      ],
      "metadata": {
        "id": "TwB6EsgjOj8k"
      }
    },
    {
      "cell_type": "code",
      "source": [
        "%%R\n",
        "print(nrow(data)) #количество строк\n",
        "print(ncol(data)) #количество столбцов"
      ],
      "metadata": {
        "id": "7SwkppfzzY4Z",
        "outputId": "d25cd9ee-9f4c-4b5d-88c8-4497f8a7396e",
        "colab": {
          "base_uri": "https://localhost:8080/"
        }
      },
      "execution_count": 3,
      "outputs": [
        {
          "output_type": "stream",
          "name": "stdout",
          "text": [
            "[1] 153\n",
            "[1] 6\n"
          ]
        }
      ]
    },
    {
      "cell_type": "code",
      "source": [
        "%%R\n",
        "#количество непустых строк\n",
        "#sum(is.na(data)) - считает все ненулевые элементы в таблице, а не строки\n",
        "nrow(na.omit(data))"
      ],
      "metadata": {
        "colab": {
          "base_uri": "https://localhost:8080/"
        },
        "id": "oLv4nbnFOuGi",
        "outputId": "b099ee97-a2df-40bd-c24d-a82b0136455c"
      },
      "execution_count": 15,
      "outputs": [
        {
          "output_type": "stream",
          "name": "stdout",
          "text": [
            "[1] 111\n"
          ]
        }
      ]
    },
    {
      "cell_type": "code",
      "source": [
        "%%R\n",
        "#то же самое, что и код выше\n",
        "search_non_NA_rows <- function(data) {\n",
        "    sum_col <- nrow(data)     #сумма строк, не имеющих нулевые значения\n",
        "    for (i in 1: nrow(data)) {\n",
        "        if(min(data[i,]) %in% NA) {\n",
        "            sum_col <- sum_col - 1\n",
        "        }\n",
        "    }\n",
        "    return(sum_col)\n",
        "}\n",
        "print(\"Количество непустых строк:\")\n",
        "search_non_NA_rows(data)"
      ],
      "metadata": {
        "id": "NVCJ6VLk0kS0",
        "outputId": "9185e662-ae6e-42f4-9dd6-3e986bd3470f",
        "colab": {
          "base_uri": "https://localhost:8080/"
        }
      },
      "execution_count": null,
      "outputs": [
        {
          "output_type": "stream",
          "name": "stdout",
          "text": [
            "[1] \"Количество непустых строк:\"\n",
            "[1] 111\n"
          ]
        }
      ]
    },
    {
      "cell_type": "code",
      "source": [
        "%%R\n",
        "#количество строк, имеющих пропусти одновременно в столбцах Ozone и Solar.R\n",
        "nrow(data[data$Ozone %in% NA & data$Solar.R %in% NA,1:2])"
      ],
      "metadata": {
        "colab": {
          "base_uri": "https://localhost:8080/"
        },
        "id": "bnhQORL7Ru6e",
        "outputId": "59be4284-ebe4-4ef5-a2c8-a629af009741"
      },
      "execution_count": 21,
      "outputs": [
        {
          "output_type": "stream",
          "name": "stdout",
          "text": [
            "[1] 2\n"
          ]
        }
      ]
    },
    {
      "cell_type": "code",
      "source": [
        "%%R\n",
        "#то же самое, что и код выше\n",
        "data1 = cbind(data$Ozone, data$Solar.R)\n",
        "sum_2col = 0\n",
        "for (i in 1:nrow(data)){\n",
        "    if(min(data$Ozone[i] %in% NA & min(data$Solar.R[i] %in% NA))){\n",
        "        sum_2col = sum_2col + 1\n",
        "    }\n",
        "}\n",
        "print(\"Количество непустых строк в столбцах Ozone и Solar.R одновременно:\")\n",
        "print(sum_2col)"
      ],
      "metadata": {
        "id": "4UnUB8w6tEI4",
        "colab": {
          "base_uri": "https://localhost:8080/"
        },
        "outputId": "7d2dafdf-9725-4793-bd53-5440e182e393"
      },
      "execution_count": null,
      "outputs": [
        {
          "output_type": "stream",
          "name": "stdout",
          "text": [
            "[1] \"Количество непустых строк в столбцах Ozone и Solar.R одновременно:\"\n",
            "[1] 2\n"
          ]
        }
      ]
    },
    {
      "cell_type": "code",
      "source": [
        "%%R\n",
        "summary(data[,1:4])"
      ],
      "metadata": {
        "colab": {
          "base_uri": "https://localhost:8080/"
        },
        "id": "dyMIdLF1HcTL",
        "outputId": "bee02212-13ba-476e-8a5f-99c0dbe88ebc"
      },
      "execution_count": 22,
      "outputs": [
        {
          "output_type": "stream",
          "name": "stdout",
          "text": [
            "     Ozone           Solar.R           Wind             Temp      \n",
            " Min.   :  1.00   Min.   :  7.0   Min.   : 1.700   Min.   :56.00  \n",
            " 1st Qu.: 18.00   1st Qu.:115.8   1st Qu.: 7.400   1st Qu.:72.00  \n",
            " Median : 31.50   Median :205.0   Median : 9.700   Median :79.00  \n",
            " Mean   : 42.13   Mean   :185.9   Mean   : 9.958   Mean   :77.88  \n",
            " 3rd Qu.: 63.25   3rd Qu.:258.8   3rd Qu.:11.500   3rd Qu.:85.00  \n",
            " Max.   :168.00   Max.   :334.0   Max.   :20.700   Max.   :97.00  \n",
            " NA's   :37       NA's   :7                                       \n"
          ]
        }
      ]
    },
    {
      "cell_type": "code",
      "source": [
        "%%R\n",
        "mean(data[data$Month == 5, \"Solar.R\"], na.rm=TRUE)"
      ],
      "metadata": {
        "colab": {
          "base_uri": "https://localhost:8080/"
        },
        "id": "W4vtnRLcH0Gs",
        "outputId": "51e1aacc-c0a2-49f9-ecd5-f81971ad2d42"
      },
      "execution_count": 24,
      "outputs": [
        {
          "output_type": "stream",
          "name": "stdout",
          "text": [
            "[1] 181.2963\n"
          ]
        }
      ]
    },
    {
      "cell_type": "markdown",
      "source": [
        "#Пункт 3"
      ],
      "metadata": {
        "id": "XzeLwPDqXtxD"
      }
    },
    {
      "cell_type": "code",
      "source": [
        "%%R\n",
        "tmin <- 60\n",
        "tmax <- 80\n",
        "meanAir <- function(factor, data, tMin, tMax){\n",
        "    index = which(colnames(data) == factor)\n",
        "    return (mean(data[data$Temp >= tMin & data$Temp <= tMax, index], na.rm=TRUE))\n",
        "}\n",
        "\n",
        "print(meanAir(\"Ozone\", data, tmin, tmax))\n",
        "print(meanAir(\"Solar.R\", data, tmin, tmax))\n",
        "print(meanAir(\"Wind\", data, tmin, tmax))"
      ],
      "metadata": {
        "colab": {
          "base_uri": "https://localhost:8080/"
        },
        "id": "k2lD9nXeMD_Z",
        "outputId": "c8559c85-239b-4db8-9c8d-b2a015a4f273"
      },
      "execution_count": 27,
      "outputs": [
        {
          "output_type": "stream",
          "name": "stdout",
          "text": [
            "[1] 23.77586\n",
            "[1] 173.9733\n",
            "[1] 10.81299\n"
          ]
        }
      ]
    },
    {
      "cell_type": "markdown",
      "source": [
        "#Пункт 4"
      ],
      "metadata": {
        "id": "D0BBtxVoYSX1"
      }
    },
    {
      "cell_type": "code",
      "source": [
        "%%R\n",
        "tapply(data$Solar.R, data$Month, mean, na.rm=TRUE)"
      ],
      "metadata": {
        "id": "CwCL_LFJS4tj",
        "colab": {
          "base_uri": "https://localhost:8080/"
        },
        "outputId": "15ba57ec-f945-4e06-8dae-4fea6778cb7a"
      },
      "execution_count": 30,
      "outputs": [
        {
          "output_type": "stream",
          "name": "stdout",
          "text": [
            "       5        6        7        8        9 \n",
            "181.2963 190.1667 216.4839 171.8571 167.4333 \n"
          ]
        }
      ]
    },
    {
      "cell_type": "markdown",
      "source": [
        "#Пункт 5"
      ],
      "metadata": {
        "id": "l5j1KNcqZlap"
      }
    },
    {
      "cell_type": "code",
      "source": [
        "%%R\n",
        "maxTemp <- function(data, days = 1){\n",
        "    month = list()\n",
        "    day = list()\n",
        "    temp = list()\n",
        "    df = data\n",
        "\n",
        "    for (i in 1:days){\n",
        "        index <- which(df$Temp == max(df$Temp))\n",
        "        day <- c(day, df[index, \"Day\"])\n",
        "        month <- c(month, df[index, \"Month\"])\n",
        "        temp <- c(temp, df[index, \"Temp\"])\n",
        "\n",
        "        df <- df[-c(index),] #удаление строки с индексом\n",
        "    }\n",
        "    \n",
        "    return(cbind(month, day, temp))\n",
        "}\n",
        "maxTemp(data,5)"
      ],
      "metadata": {
        "colab": {
          "base_uri": "https://localhost:8080/"
        },
        "id": "NK-HdxpcZTSk",
        "outputId": "5ad49fc4-617f-43f0-cefd-b5b4a8f0c560"
      },
      "execution_count": 68,
      "outputs": [
        {
          "output_type": "stream",
          "name": "stdout",
          "text": [
            "      month day temp\n",
            " [1,] 8     28  97  \n",
            " [2,] 8     30  96  \n",
            " [3,] 8     29  94  \n",
            " [4,] 8     31  94  \n",
            " [5,] 6     11  93  \n",
            " [6,] 9     3   93  \n",
            " [7,] 9     4   93  \n",
            " [8,] 6     12  92  \n",
            " [9,] 7     8   92  \n",
            "[10,] 7     9   92  \n",
            "[11,] 8     10  92  \n",
            "[12,] 9     2   92  \n"
          ]
        }
      ]
    },
    {
      "cell_type": "markdown",
      "source": [
        "#Пункт 6"
      ],
      "metadata": {
        "id": "zbt9IHrwgkA5"
      }
    },
    {
      "cell_type": "code",
      "source": [
        "%%R\n",
        "testSet <- function(data, perc = 20){\n",
        "    try(if(perc > 100 | perc < 0) stop(\"variable 'perc' goes beyond the range [0;100]\"))\n",
        "\n",
        "    sum_row <- nrow(data) - round(nrow(data) * perc/100.0) #количество строк, которые следует случайно удалить\n",
        "    df <- data\n",
        "    index <- sample(1:nrow(df), sum_row, replace=F)\n",
        "    df <- df[-c(index),] #удаление строк с указанными индексами\n",
        "    return(df)\n",
        "}\n",
        "\n",
        "testSet(data)"
      ],
      "metadata": {
        "colab": {
          "base_uri": "https://localhost:8080/"
        },
        "id": "g6ayXd36ff3j",
        "outputId": "eb4ee8f1-525d-4b5e-85c0-8a3a426d1a93"
      },
      "execution_count": 90,
      "outputs": [
        {
          "output_type": "stream",
          "name": "stdout",
          "text": [
            "    Ozone Solar.R Wind Temp Month Day\n",
            "6      28      NA 14.9   66     5   6\n",
            "16     14     334 11.5   64     5  16\n",
            "24     32      92 12.0   61     5  24\n",
            "28     23      13 12.0   67     5  28\n",
            "31     37     279  7.4   76     5  31\n",
            "35     NA     186  9.2   84     6   4\n",
            "41     39     323 11.5   87     6  10\n",
            "43     NA     250  9.2   92     6  12\n",
            "44     23     148  8.0   82     6  13\n",
            "46     NA     322 11.5   79     6  15\n",
            "47     21     191 14.9   77     6  16\n",
            "61     NA     138  8.0   83     6  30\n",
            "66     64     175  4.6   83     7   5\n",
            "74     27     175 14.9   81     7  13\n",
            "78     35     274 10.3   82     7  17\n",
            "83     NA     258  9.7   81     7  22\n",
            "84     NA     295 11.5   82     7  23\n",
            "85     80     294  8.6   86     7  24\n",
            "88     52      82 12.0   86     7  27\n",
            "95     16      77  7.4   82     8   3\n",
            "103    NA     137 11.5   86     8  11\n",
            "105    28     273 11.5   82     8  13\n",
            "111    31     244 10.9   78     8  19\n",
            "116    45     212  9.7   79     8  24\n",
            "117   168     238  3.4   81     8  25\n",
            "118    73     215  8.0   86     8  26\n",
            "121   118     225  2.3   94     8  29\n",
            "135    21     259 15.5   76     9  12\n",
            "138    13     112 11.5   71     9  15\n",
            "146    36     139 10.3   81     9  23\n",
            "152    18     131  8.0   76     9  29\n"
          ]
        }
      ]
    }
  ]
}