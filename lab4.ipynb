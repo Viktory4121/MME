{
  "nbformat": 4,
  "nbformat_minor": 0,
  "metadata": {
    "colab": {
      "provenance": [],
      "include_colab_link": true
    },
    "kernelspec": {
      "name": "ir",
      "display_name": "R"
    },
    "language_info": {
      "name": "R"
    }
  },
  "cells": [
    {
      "cell_type": "markdown",
      "metadata": {
        "id": "view-in-github",
        "colab_type": "text"
      },
      "source": [
        "<a href=\"https://colab.research.google.com/github/Viktory4121/MME/blob/main/lab4.ipynb\" target=\"_parent\"><img src=\"https://colab.research.google.com/assets/colab-badge.svg\" alt=\"Open In Colab\"/></a>"
      ]
    },
    {
      "cell_type": "markdown",
      "source": [
        "#1"
      ],
      "metadata": {
        "id": "iip_e0QFOMk8"
      }
    },
    {
      "cell_type": "code",
      "execution_count": 1,
      "metadata": {
        "colab": {
          "base_uri": "https://localhost:8080/",
          "height": 286
        },
        "id": "CsMke_DdNsdd",
        "outputId": "33a4e32c-f9e9-4f4b-bb3f-507efc686a7c"
      },
      "outputs": [
        {
          "output_type": "display_data",
          "data": {
            "text/html": [
              "<table class=\"dataframe\">\n",
              "<caption>A data.frame: 6 × 10</caption>\n",
              "<thead>\n",
              "\t<tr><th></th><th scope=col>Relative_Compactness</th><th scope=col>Surface_Area</th><th scope=col>Wall_Area</th><th scope=col>Roof_Area</th><th scope=col>Overall_Height</th><th scope=col>Orientation</th><th scope=col>Glazing_Area</th><th scope=col>Glazing_Area_Distribution</th><th scope=col>Heating_Load</th><th scope=col>Cooling_Load</th></tr>\n",
              "\t<tr><th></th><th scope=col>&lt;dbl&gt;</th><th scope=col>&lt;dbl&gt;</th><th scope=col>&lt;dbl&gt;</th><th scope=col>&lt;dbl&gt;</th><th scope=col>&lt;dbl&gt;</th><th scope=col>&lt;int&gt;</th><th scope=col>&lt;dbl&gt;</th><th scope=col>&lt;int&gt;</th><th scope=col>&lt;dbl&gt;</th><th scope=col>&lt;dbl&gt;</th></tr>\n",
              "</thead>\n",
              "<tbody>\n",
              "\t<tr><th scope=row>1</th><td>0.98</td><td>514.5</td><td>294.0</td><td>110.25</td><td>7</td><td>2</td><td>0</td><td>0</td><td>15.55</td><td>21.33</td></tr>\n",
              "\t<tr><th scope=row>2</th><td>0.98</td><td>514.5</td><td>294.0</td><td>110.25</td><td>7</td><td>3</td><td>0</td><td>0</td><td>15.55</td><td>21.33</td></tr>\n",
              "\t<tr><th scope=row>3</th><td>0.98</td><td>514.5</td><td>294.0</td><td>110.25</td><td>7</td><td>4</td><td>0</td><td>0</td><td>15.55</td><td>21.33</td></tr>\n",
              "\t<tr><th scope=row>4</th><td>0.98</td><td>514.5</td><td>294.0</td><td>110.25</td><td>7</td><td>5</td><td>0</td><td>0</td><td>15.55</td><td>21.33</td></tr>\n",
              "\t<tr><th scope=row>5</th><td>0.90</td><td>563.5</td><td>318.5</td><td>122.50</td><td>7</td><td>2</td><td>0</td><td>0</td><td>20.84</td><td>28.28</td></tr>\n",
              "\t<tr><th scope=row>6</th><td>0.90</td><td>563.5</td><td>318.5</td><td>122.50</td><td>7</td><td>3</td><td>0</td><td>0</td><td>21.46</td><td>25.38</td></tr>\n",
              "</tbody>\n",
              "</table>\n"
            ],
            "text/markdown": "\nA data.frame: 6 × 10\n\n| <!--/--> | Relative_Compactness &lt;dbl&gt; | Surface_Area &lt;dbl&gt; | Wall_Area &lt;dbl&gt; | Roof_Area &lt;dbl&gt; | Overall_Height &lt;dbl&gt; | Orientation &lt;int&gt; | Glazing_Area &lt;dbl&gt; | Glazing_Area_Distribution &lt;int&gt; | Heating_Load &lt;dbl&gt; | Cooling_Load &lt;dbl&gt; |\n|---|---|---|---|---|---|---|---|---|---|---|\n| 1 | 0.98 | 514.5 | 294.0 | 110.25 | 7 | 2 | 0 | 0 | 15.55 | 21.33 |\n| 2 | 0.98 | 514.5 | 294.0 | 110.25 | 7 | 3 | 0 | 0 | 15.55 | 21.33 |\n| 3 | 0.98 | 514.5 | 294.0 | 110.25 | 7 | 4 | 0 | 0 | 15.55 | 21.33 |\n| 4 | 0.98 | 514.5 | 294.0 | 110.25 | 7 | 5 | 0 | 0 | 15.55 | 21.33 |\n| 5 | 0.90 | 563.5 | 318.5 | 122.50 | 7 | 2 | 0 | 0 | 20.84 | 28.28 |\n| 6 | 0.90 | 563.5 | 318.5 | 122.50 | 7 | 3 | 0 | 0 | 21.46 | 25.38 |\n\n",
            "text/latex": "A data.frame: 6 × 10\n\\begin{tabular}{r|llllllllll}\n  & Relative\\_Compactness & Surface\\_Area & Wall\\_Area & Roof\\_Area & Overall\\_Height & Orientation & Glazing\\_Area & Glazing\\_Area\\_Distribution & Heating\\_Load & Cooling\\_Load\\\\\n  & <dbl> & <dbl> & <dbl> & <dbl> & <dbl> & <int> & <dbl> & <int> & <dbl> & <dbl>\\\\\n\\hline\n\t1 & 0.98 & 514.5 & 294.0 & 110.25 & 7 & 2 & 0 & 0 & 15.55 & 21.33\\\\\n\t2 & 0.98 & 514.5 & 294.0 & 110.25 & 7 & 3 & 0 & 0 & 15.55 & 21.33\\\\\n\t3 & 0.98 & 514.5 & 294.0 & 110.25 & 7 & 4 & 0 & 0 & 15.55 & 21.33\\\\\n\t4 & 0.98 & 514.5 & 294.0 & 110.25 & 7 & 5 & 0 & 0 & 15.55 & 21.33\\\\\n\t5 & 0.90 & 563.5 & 318.5 & 122.50 & 7 & 2 & 0 & 0 & 20.84 & 28.28\\\\\n\t6 & 0.90 & 563.5 & 318.5 & 122.50 & 7 & 3 & 0 & 0 & 21.46 & 25.38\\\\\n\\end{tabular}\n",
            "text/plain": [
              "  Relative_Compactness Surface_Area Wall_Area Roof_Area Overall_Height\n",
              "1 0.98                 514.5        294.0     110.25    7             \n",
              "2 0.98                 514.5        294.0     110.25    7             \n",
              "3 0.98                 514.5        294.0     110.25    7             \n",
              "4 0.98                 514.5        294.0     110.25    7             \n",
              "5 0.90                 563.5        318.5     122.50    7             \n",
              "6 0.90                 563.5        318.5     122.50    7             \n",
              "  Orientation Glazing_Area Glazing_Area_Distribution Heating_Load Cooling_Load\n",
              "1 2           0            0                         15.55        21.33       \n",
              "2 3           0            0                         15.55        21.33       \n",
              "3 4           0            0                         15.55        21.33       \n",
              "4 5           0            0                         15.55        21.33       \n",
              "5 2           0            0                         20.84        28.28       \n",
              "6 3           0            0                         21.46        25.38       "
            ]
          },
          "metadata": {}
        }
      ],
      "source": [
        "data <- read.csv(\"energy_efficiency_data.csv\", sep = \",\")\n",
        "#data <- na.omit(data)\n",
        "head(data)"
      ]
    },
    {
      "cell_type": "code",
      "source": [
        "summary(data)"
      ],
      "metadata": {
        "colab": {
          "base_uri": "https://localhost:8080/",
          "height": 382
        },
        "id": "NlV21PKvPpNM",
        "outputId": "27147046-3cc9-45fa-d830-c0aa92b61e88"
      },
      "execution_count": 2,
      "outputs": [
        {
          "output_type": "display_data",
          "data": {
            "text/plain": [
              " Relative_Compactness  Surface_Area     Wall_Area       Roof_Area    \n",
              " Min.   :0.6200       Min.   :514.5   Min.   :245.0   Min.   :110.2  \n",
              " 1st Qu.:0.6825       1st Qu.:606.4   1st Qu.:294.0   1st Qu.:140.9  \n",
              " Median :0.7500       Median :673.8   Median :318.5   Median :183.8  \n",
              " Mean   :0.7642       Mean   :671.7   Mean   :318.5   Mean   :176.6  \n",
              " 3rd Qu.:0.8300       3rd Qu.:741.1   3rd Qu.:343.0   3rd Qu.:220.5  \n",
              " Max.   :0.9800       Max.   :808.5   Max.   :416.5   Max.   :220.5  \n",
              " Overall_Height  Orientation    Glazing_Area    Glazing_Area_Distribution\n",
              " Min.   :3.50   Min.   :2.00   Min.   :0.0000   Min.   :0.000            \n",
              " 1st Qu.:3.50   1st Qu.:2.75   1st Qu.:0.1000   1st Qu.:1.750            \n",
              " Median :5.25   Median :3.50   Median :0.2500   Median :3.000            \n",
              " Mean   :5.25   Mean   :3.50   Mean   :0.2344   Mean   :2.812            \n",
              " 3rd Qu.:7.00   3rd Qu.:4.25   3rd Qu.:0.4000   3rd Qu.:4.000            \n",
              " Max.   :7.00   Max.   :5.00   Max.   :0.4000   Max.   :5.000            \n",
              "  Heating_Load    Cooling_Load  \n",
              " Min.   : 6.01   Min.   :10.90  \n",
              " 1st Qu.:12.99   1st Qu.:15.62  \n",
              " Median :18.95   Median :22.08  \n",
              " Mean   :22.31   Mean   :24.59  \n",
              " 3rd Qu.:31.67   3rd Qu.:33.13  \n",
              " Max.   :43.10   Max.   :48.03  "
            ]
          },
          "metadata": {}
        }
      ]
    },
    {
      "cell_type": "code",
      "source": [
        "#data_111 <- read.csv(file = file.choose(), header = TRUE, sep = \",\")"
      ],
      "metadata": {
        "id": "oCl_0VMfLJ2c"
      },
      "execution_count": 3,
      "outputs": []
    },
    {
      "cell_type": "markdown",
      "source": [
        "#2"
      ],
      "metadata": {
        "id": "pNFAW_pMKwnI"
      }
    },
    {
      "cell_type": "code",
      "source": [
        "#деление на тестовую и обучающую выборку\n",
        "index <- sample(1:nrow(data), nrow(data) * 0.8) \n",
        "test <- data[-c(index), ]\n",
        "train <- data[index, ]"
      ],
      "metadata": {
        "id": "yM0O-4CBKMQT"
      },
      "execution_count": 4,
      "outputs": []
    },
    {
      "cell_type": "markdown",
      "source": [
        "#3"
      ],
      "metadata": {
        "id": "HBSwPdv8Kx6l"
      }
    },
    {
      "cell_type": "code",
      "source": [
        "#где выходом является у1 = sum(по всем столбцам, кроме Cooling_Load)\n",
        "lm_y1_1 <- lm(formula = Heating_Load ~ Relative_Compactness + Surface_Area \n",
        "            + Wall_Area + Roof_Area + Overall_Height + Orientation + Glazing_Area + Glazing_Area_Distribution, data = train)\n",
        "summary(lm_y1_1)"
      ],
      "metadata": {
        "colab": {
          "base_uri": "https://localhost:8080/",
          "height": 486
        },
        "id": "IchwY6aiKzZZ",
        "outputId": "b8fe7cab-9d44-4477-c26b-d21ef011f4af"
      },
      "execution_count": 5,
      "outputs": [
        {
          "output_type": "display_data",
          "data": {
            "text/plain": [
              "\n",
              "Call:\n",
              "lm(formula = Heating_Load ~ Relative_Compactness + Surface_Area + \n",
              "    Wall_Area + Roof_Area + Overall_Height + Orientation + Glazing_Area + \n",
              "    Glazing_Area_Distribution, data = train)\n",
              "\n",
              "Residuals:\n",
              "     Min       1Q   Median       3Q      Max \n",
              "-10.1613  -1.2949  -0.0588   1.3549   7.5214 \n",
              "\n",
              "Coefficients: (1 not defined because of singularities)\n",
              "                            Estimate Std. Error t value Pr(>|t|)    \n",
              "(Intercept)                76.841658  21.152271   3.633 0.000304 ***\n",
              "Relative_Compactness      -61.963823  11.426080  -5.423 8.48e-08 ***\n",
              "Surface_Area               -0.080435   0.018960  -4.242 2.56e-05 ***\n",
              "Wall_Area                   0.058299   0.007368   7.913 1.20e-14 ***\n",
              "Roof_Area                         NA         NA      NA       NA    \n",
              "Overall_Height              4.370801   0.376600  11.606  < 2e-16 ***\n",
              "Orientation                 0.042501   0.106984   0.397 0.691315    \n",
              "Glazing_Area               19.841921   0.908299  21.845  < 2e-16 ***\n",
              "Glazing_Area_Distribution   0.190779   0.078254   2.438 0.015057 *  \n",
              "---\n",
              "Signif. codes:  0 ‘***’ 0.001 ‘**’ 0.01 ‘*’ 0.05 ‘.’ 0.1 ‘ ’ 1\n",
              "\n",
              "Residual standard error: 2.933 on 606 degrees of freedom\n",
              "Multiple R-squared:  0.9176,\tAdjusted R-squared:  0.9167 \n",
              "F-statistic: 964.6 on 7 and 606 DF,  p-value: < 2.2e-16\n"
            ]
          },
          "metadata": {}
        }
      ]
    },
    {
      "cell_type": "code",
      "source": [
        "glm_y1_1 <- glm(Heating_Load ~ Relative_Compactness + Surface_Area \n",
        "            + Wall_Area + Roof_Area + Overall_Height + Orientation \n",
        "            + Glazing_Area + Glazing_Area_Distribution, data = train)\n",
        "summary(glm_y1_1)"
      ],
      "metadata": {
        "id": "yKnIpRpQQa6u",
        "outputId": "6cef7392-b6dc-4548-e82e-de412d7df97c",
        "colab": {
          "base_uri": "https://localhost:8080/",
          "height": 555
        }
      },
      "execution_count": 6,
      "outputs": [
        {
          "output_type": "display_data",
          "data": {
            "text/plain": [
              "\n",
              "Call:\n",
              "glm(formula = Heating_Load ~ Relative_Compactness + Surface_Area + \n",
              "    Wall_Area + Roof_Area + Overall_Height + Orientation + Glazing_Area + \n",
              "    Glazing_Area_Distribution, data = train)\n",
              "\n",
              "Deviance Residuals: \n",
              "     Min        1Q    Median        3Q       Max  \n",
              "-10.1613   -1.2949   -0.0588    1.3549    7.5214  \n",
              "\n",
              "Coefficients: (1 not defined because of singularities)\n",
              "                            Estimate Std. Error t value Pr(>|t|)    \n",
              "(Intercept)                76.841658  21.152271   3.633 0.000304 ***\n",
              "Relative_Compactness      -61.963823  11.426080  -5.423 8.48e-08 ***\n",
              "Surface_Area               -0.080435   0.018960  -4.242 2.56e-05 ***\n",
              "Wall_Area                   0.058299   0.007368   7.913 1.20e-14 ***\n",
              "Roof_Area                         NA         NA      NA       NA    \n",
              "Overall_Height              4.370801   0.376600  11.606  < 2e-16 ***\n",
              "Orientation                 0.042501   0.106984   0.397 0.691315    \n",
              "Glazing_Area               19.841921   0.908299  21.845  < 2e-16 ***\n",
              "Glazing_Area_Distribution   0.190779   0.078254   2.438 0.015057 *  \n",
              "---\n",
              "Signif. codes:  0 ‘***’ 0.001 ‘**’ 0.01 ‘*’ 0.05 ‘.’ 0.1 ‘ ’ 1\n",
              "\n",
              "(Dispersion parameter for gaussian family taken to be 8.605252)\n",
              "\n",
              "    Null deviance: 63316.6  on 613  degrees of freedom\n",
              "Residual deviance:  5214.8  on 606  degrees of freedom\n",
              "AIC: 3074\n",
              "\n",
              "Number of Fisher Scoring iterations: 2\n"
            ]
          },
          "metadata": {}
        }
      ]
    },
    {
      "cell_type": "code",
      "source": [
        "nlm_y1_1 <- nlm(f = Heating_Load ~ Relative_Compactness + Surface_Area \n",
        "            + Wall_Area + Roof_Area + Overall_Height + Orientation \n",
        "            + Glazing_Area + Glazing_Area_Distribution, data = train, p = c(0.0, 0.0, 0.0, 0.0, 0.0, 0.0, 0.0, 0.0))\n",
        "summary(nlm_y1_1)"
      ],
      "metadata": {
        "id": "OL6WO03RT3yy",
        "outputId": "a8ddec18-eba4-454d-e959-c67a0ffb4387",
        "colab": {
          "base_uri": "https://localhost:8080/",
          "height": 217
        }
      },
      "execution_count": 13,
      "outputs": [
        {
          "output_type": "error",
          "ename": "ERROR",
          "evalue": "ignored",
          "traceback": [
            "Error in f(x, ...): could not find function \"f\"\nTraceback:\n",
            "1. nlm(f = Heating_Load ~ Relative_Compactness + Surface_Area + \n .     Wall_Area + Roof_Area + Overall_Height + Orientation + Glazing_Area + \n .     Glazing_Area_Distribution, data = train, p = c(0, 0, 0, 0, \n .     0, 0, 0, 0))",
            "2. (function (x) \n . f(x, ...))(c(0, 0, 0, 0, 0, 0, 0, 0))"
          ]
        }
      ]
    },
    {
      "cell_type": "markdown",
      "source": [
        "#-------------------------------------------------------------------------------------------------------------------------"
      ],
      "metadata": {
        "id": "POH7iO84RDdO"
      }
    },
    {
      "cell_type": "code",
      "source": [
        "#где выходом является у2 = sum(по всем столбцам, кроме Heating_Load)\n",
        "lm_y2_1 <- lm(formula = Cooling_Load ~ Relative_Compactness + Surface_Area \n",
        "            + Wall_Area + Roof_Area + Overall_Height + Orientation + Glazing_Area + Glazing_Area_Distribution, data = train)\n",
        "summary(lm_y2_1)"
      ],
      "metadata": {
        "colab": {
          "base_uri": "https://localhost:8080/",
          "height": 486
        },
        "id": "FXwVrOSeQHLi",
        "outputId": "89169885-414d-4164-aa43-e482dfe03eeb"
      },
      "execution_count": 32,
      "outputs": [
        {
          "output_type": "display_data",
          "data": {
            "text/plain": [
              "\n",
              "Call:\n",
              "lm(formula = Cooling_Load ~ Relative_Compactness + Surface_Area + \n",
              "    Wall_Area + Roof_Area + Overall_Height + Orientation + Glazing_Area + \n",
              "    Glazing_Area_Distribution, data = train)\n",
              "\n",
              "Residuals:\n",
              "    Min      1Q  Median      3Q     Max \n",
              "-8.8672 -1.5972 -0.2389  1.3608 11.0770 \n",
              "\n",
              "Coefficients: (1 not defined because of singularities)\n",
              "                            Estimate Std. Error t value Pr(>|t|)    \n",
              "(Intercept)               105.029337  23.082371   4.550 6.48e-06 ***\n",
              "Relative_Compactness      -76.346152  12.511666  -6.102 1.87e-09 ***\n",
              "Surface_Area               -0.093365   0.020730  -4.504 8.01e-06 ***\n",
              "Wall_Area                   0.043324   0.008178   5.297 1.65e-07 ***\n",
              "Roof_Area                         NA         NA      NA       NA    \n",
              "Overall_Height              4.368864   0.411038  10.629  < 2e-16 ***\n",
              "Orientation                 0.101738   0.115188   0.883    0.377    \n",
              "Glazing_Area               14.515246   0.988860  14.679  < 2e-16 ***\n",
              "Glazing_Area_Distribution   0.035440   0.084326   0.420    0.674    \n",
              "---\n",
              "Signif. codes:  0 ‘***’ 0.001 ‘**’ 0.01 ‘*’ 0.05 ‘.’ 0.1 ‘ ’ 1\n",
              "\n",
              "Residual standard error: 3.175 on 606 degrees of freedom\n",
              "Multiple R-squared:  0.8897,\tAdjusted R-squared:  0.8884 \n",
              "F-statistic: 698.4 on 7 and 606 DF,  p-value: < 2.2e-16\n"
            ]
          },
          "metadata": {}
        }
      ]
    },
    {
      "cell_type": "code",
      "source": [
        "glm_y2_1 <- glm(Cooling_Load ~ Relative_Compactness + Surface_Area \n",
        "            + Wall_Area + Roof_Area + Overall_Height + Orientation \n",
        "            + Glazing_Area + Glazing_Area_Distribution, data = train)\n",
        "summary(glm_y2_1)"
      ],
      "metadata": {
        "id": "RP9t94i5SLWS",
        "outputId": "54d648c9-aaf0-4a34-d6ec-06ca54cc5926",
        "colab": {
          "base_uri": "https://localhost:8080/",
          "height": 555
        }
      },
      "execution_count": 35,
      "outputs": [
        {
          "output_type": "display_data",
          "data": {
            "text/plain": [
              "\n",
              "Call:\n",
              "glm(formula = Cooling_Load ~ Relative_Compactness + Surface_Area + \n",
              "    Wall_Area + Roof_Area + Overall_Height + Orientation + Glazing_Area + \n",
              "    Glazing_Area_Distribution, data = train)\n",
              "\n",
              "Deviance Residuals: \n",
              "    Min       1Q   Median       3Q      Max  \n",
              "-8.8672  -1.5972  -0.2389   1.3608  11.0770  \n",
              "\n",
              "Coefficients: (1 not defined because of singularities)\n",
              "                            Estimate Std. Error t value Pr(>|t|)    \n",
              "(Intercept)               105.029337  23.082371   4.550 6.48e-06 ***\n",
              "Relative_Compactness      -76.346152  12.511666  -6.102 1.87e-09 ***\n",
              "Surface_Area               -0.093365   0.020730  -4.504 8.01e-06 ***\n",
              "Wall_Area                   0.043324   0.008178   5.297 1.65e-07 ***\n",
              "Roof_Area                         NA         NA      NA       NA    \n",
              "Overall_Height              4.368864   0.411038  10.629  < 2e-16 ***\n",
              "Orientation                 0.101738   0.115188   0.883    0.377    \n",
              "Glazing_Area               14.515246   0.988860  14.679  < 2e-16 ***\n",
              "Glazing_Area_Distribution   0.035440   0.084326   0.420    0.674    \n",
              "---\n",
              "Signif. codes:  0 ‘***’ 0.001 ‘**’ 0.01 ‘*’ 0.05 ‘.’ 0.1 ‘ ’ 1\n",
              "\n",
              "(Dispersion parameter for gaussian family taken to be 10.08128)\n",
              "\n",
              "    Null deviance: 55395.7  on 613  degrees of freedom\n",
              "Residual deviance:  6109.3  on 606  degrees of freedom\n",
              "AIC: 3171.2\n",
              "\n",
              "Number of Fisher Scoring iterations: 2\n"
            ]
          },
          "metadata": {}
        }
      ]
    }
  ]
}