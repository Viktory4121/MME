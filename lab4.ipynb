{
  "nbformat": 4,
  "nbformat_minor": 0,
  "metadata": {
    "colab": {
      "provenance": [],
      "include_colab_link": true
    },
    "kernelspec": {
      "name": "ir",
      "display_name": "R"
    },
    "language_info": {
      "name": "R"
    }
  },
  "cells": [
    {
      "cell_type": "markdown",
      "metadata": {
        "id": "view-in-github",
        "colab_type": "text"
      },
      "source": [
        "<a href=\"https://colab.research.google.com/github/Viktory4121/MME/blob/main/lab4.ipynb\" target=\"_parent\"><img src=\"https://colab.research.google.com/assets/colab-badge.svg\" alt=\"Open In Colab\"/></a>"
      ]
    },
    {
      "cell_type": "markdown",
      "source": [
        "#1"
      ],
      "metadata": {
        "id": "iip_e0QFOMk8"
      }
    },
    {
      "cell_type": "code",
      "execution_count": 5,
      "metadata": {
        "colab": {
          "base_uri": "https://localhost:8080/",
          "height": 286
        },
        "id": "CsMke_DdNsdd",
        "outputId": "20b2fdf7-8915-4474-a34c-68159b5ebb80"
      },
      "outputs": [
        {
          "output_type": "display_data",
          "data": {
            "text/html": [
              "<table class=\"dataframe\">\n",
              "<caption>A data.frame: 6 × 10</caption>\n",
              "<thead>\n",
              "\t<tr><th></th><th scope=col>Relative_Compactness</th><th scope=col>Surface_Area</th><th scope=col>Wall_Area</th><th scope=col>Roof_Area</th><th scope=col>Overall_Height</th><th scope=col>Orientation</th><th scope=col>Glazing_Area</th><th scope=col>Glazing_Area_Distribution</th><th scope=col>Heating_Load</th><th scope=col>Cooling_Load</th></tr>\n",
              "\t<tr><th></th><th scope=col>&lt;dbl&gt;</th><th scope=col>&lt;dbl&gt;</th><th scope=col>&lt;dbl&gt;</th><th scope=col>&lt;dbl&gt;</th><th scope=col>&lt;dbl&gt;</th><th scope=col>&lt;int&gt;</th><th scope=col>&lt;dbl&gt;</th><th scope=col>&lt;int&gt;</th><th scope=col>&lt;dbl&gt;</th><th scope=col>&lt;dbl&gt;</th></tr>\n",
              "</thead>\n",
              "<tbody>\n",
              "\t<tr><th scope=row>1</th><td>0.98</td><td>514.5</td><td>294.0</td><td>110.25</td><td>7</td><td>2</td><td>0</td><td>0</td><td>15.55</td><td>21.33</td></tr>\n",
              "\t<tr><th scope=row>2</th><td>0.98</td><td>514.5</td><td>294.0</td><td>110.25</td><td>7</td><td>3</td><td>0</td><td>0</td><td>15.55</td><td>21.33</td></tr>\n",
              "\t<tr><th scope=row>3</th><td>0.98</td><td>514.5</td><td>294.0</td><td>110.25</td><td>7</td><td>4</td><td>0</td><td>0</td><td>15.55</td><td>21.33</td></tr>\n",
              "\t<tr><th scope=row>4</th><td>0.98</td><td>514.5</td><td>294.0</td><td>110.25</td><td>7</td><td>5</td><td>0</td><td>0</td><td>15.55</td><td>21.33</td></tr>\n",
              "\t<tr><th scope=row>5</th><td>0.90</td><td>563.5</td><td>318.5</td><td>122.50</td><td>7</td><td>2</td><td>0</td><td>0</td><td>20.84</td><td>28.28</td></tr>\n",
              "\t<tr><th scope=row>6</th><td>0.90</td><td>563.5</td><td>318.5</td><td>122.50</td><td>7</td><td>3</td><td>0</td><td>0</td><td>21.46</td><td>25.38</td></tr>\n",
              "</tbody>\n",
              "</table>\n"
            ],
            "text/markdown": "\nA data.frame: 6 × 10\n\n| <!--/--> | Relative_Compactness &lt;dbl&gt; | Surface_Area &lt;dbl&gt; | Wall_Area &lt;dbl&gt; | Roof_Area &lt;dbl&gt; | Overall_Height &lt;dbl&gt; | Orientation &lt;int&gt; | Glazing_Area &lt;dbl&gt; | Glazing_Area_Distribution &lt;int&gt; | Heating_Load &lt;dbl&gt; | Cooling_Load &lt;dbl&gt; |\n|---|---|---|---|---|---|---|---|---|---|---|\n| 1 | 0.98 | 514.5 | 294.0 | 110.25 | 7 | 2 | 0 | 0 | 15.55 | 21.33 |\n| 2 | 0.98 | 514.5 | 294.0 | 110.25 | 7 | 3 | 0 | 0 | 15.55 | 21.33 |\n| 3 | 0.98 | 514.5 | 294.0 | 110.25 | 7 | 4 | 0 | 0 | 15.55 | 21.33 |\n| 4 | 0.98 | 514.5 | 294.0 | 110.25 | 7 | 5 | 0 | 0 | 15.55 | 21.33 |\n| 5 | 0.90 | 563.5 | 318.5 | 122.50 | 7 | 2 | 0 | 0 | 20.84 | 28.28 |\n| 6 | 0.90 | 563.5 | 318.5 | 122.50 | 7 | 3 | 0 | 0 | 21.46 | 25.38 |\n\n",
            "text/latex": "A data.frame: 6 × 10\n\\begin{tabular}{r|llllllllll}\n  & Relative\\_Compactness & Surface\\_Area & Wall\\_Area & Roof\\_Area & Overall\\_Height & Orientation & Glazing\\_Area & Glazing\\_Area\\_Distribution & Heating\\_Load & Cooling\\_Load\\\\\n  & <dbl> & <dbl> & <dbl> & <dbl> & <dbl> & <int> & <dbl> & <int> & <dbl> & <dbl>\\\\\n\\hline\n\t1 & 0.98 & 514.5 & 294.0 & 110.25 & 7 & 2 & 0 & 0 & 15.55 & 21.33\\\\\n\t2 & 0.98 & 514.5 & 294.0 & 110.25 & 7 & 3 & 0 & 0 & 15.55 & 21.33\\\\\n\t3 & 0.98 & 514.5 & 294.0 & 110.25 & 7 & 4 & 0 & 0 & 15.55 & 21.33\\\\\n\t4 & 0.98 & 514.5 & 294.0 & 110.25 & 7 & 5 & 0 & 0 & 15.55 & 21.33\\\\\n\t5 & 0.90 & 563.5 & 318.5 & 122.50 & 7 & 2 & 0 & 0 & 20.84 & 28.28\\\\\n\t6 & 0.90 & 563.5 & 318.5 & 122.50 & 7 & 3 & 0 & 0 & 21.46 & 25.38\\\\\n\\end{tabular}\n",
            "text/plain": [
              "  Relative_Compactness Surface_Area Wall_Area Roof_Area Overall_Height\n",
              "1 0.98                 514.5        294.0     110.25    7             \n",
              "2 0.98                 514.5        294.0     110.25    7             \n",
              "3 0.98                 514.5        294.0     110.25    7             \n",
              "4 0.98                 514.5        294.0     110.25    7             \n",
              "5 0.90                 563.5        318.5     122.50    7             \n",
              "6 0.90                 563.5        318.5     122.50    7             \n",
              "  Orientation Glazing_Area Glazing_Area_Distribution Heating_Load Cooling_Load\n",
              "1 2           0            0                         15.55        21.33       \n",
              "2 3           0            0                         15.55        21.33       \n",
              "3 4           0            0                         15.55        21.33       \n",
              "4 5           0            0                         15.55        21.33       \n",
              "5 2           0            0                         20.84        28.28       \n",
              "6 3           0            0                         21.46        25.38       "
            ]
          },
          "metadata": {}
        }
      ],
      "source": [
        "data <- read.csv(\"energy_efficiency_data.csv\", sep = \",\")\n",
        "head(data)"
      ]
    },
    {
      "cell_type": "code",
      "source": [
        "#data_111 <- read.csv(file = file.choose(), header = TRUE, sep = \",\")"
      ],
      "metadata": {
        "id": "oCl_0VMfLJ2c"
      },
      "execution_count": 18,
      "outputs": []
    },
    {
      "cell_type": "markdown",
      "source": [
        "#2"
      ],
      "metadata": {
        "id": "pNFAW_pMKwnI"
      }
    },
    {
      "cell_type": "code",
      "source": [
        "#деление на тестовую и обучающую выборку\n",
        "index <- sample(1:nrow(data), nrow(data) * 0.8) \n",
        "test <- data[-c(index), ]\n",
        "train <- data[index, ]"
      ],
      "metadata": {
        "id": "yM0O-4CBKMQT"
      },
      "execution_count": 12,
      "outputs": []
    },
    {
      "cell_type": "markdown",
      "source": [
        "#3"
      ],
      "metadata": {
        "id": "HBSwPdv8Kx6l"
      }
    },
    {
      "cell_type": "code",
      "source": [],
      "metadata": {
        "id": "IchwY6aiKzZZ"
      },
      "execution_count": 22,
      "outputs": []
    }
  ]
}